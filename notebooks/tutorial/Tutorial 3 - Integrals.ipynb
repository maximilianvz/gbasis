{
  "cells": [
    {
      "cell_type": "markdown",
      "id": "158f041c",
      "metadata": {},
      "source": [
        "# GBasis Tutorial - Integrals"
      ]
    },
    {
      "cell_type": "markdown",
      "id": "27bcd2d2",
      "metadata": {},
      "source": [
        "# Table of Contents  \n",
        "\n",
        "- [1 Integrals](#1-Integrals)\n",
        "    - [1.1 Overlap Integral](#1.1-Overlap-Integral)\n",
        "        - [1.1.1 Overlap Integral Between Two Different Basis Sets](#1.1.1-Overlap-Integral-Between-Two-Different-Basis-Sets)\n",
        "    - [1.2 Multipole Moment Integral](#1.2-Multipole-Moment-Integral)\n",
        "    - [1.3 Integrals Over Differential Operator](#1.3-Integrals-Over-Differential-Operator)\n",
        "        - [1.3.1 Kinetic Energy Integral](#1.3.1-Kinetic-Energy-Integral)\n",
        "        - [1.3.2 Momentum Integral](#1.3.2-Momentum-Integral)\n",
        "        - [1.3.3 Angular Momentum Integral](#1.3.3-Angular-Momentum-Integral)\n",
        "    - [1.4 Integral for Interaction with Point Charge](#1.4-Integral-for-Interaction-with-Point-Charge)\n",
        "        - [1.4.1 Nuclear-Electron Attraction Integral](#1.4.1-Nuclear-Electron-Attraction-Integral)\n",
        "        - [1.4.2 Electrostatic Potential](#1.4.2-Electrostatic-Potential)\n",
        "    - [1.5 Electron-Electron Repulsion Integral](#1.5-Electron-Electron-Repulsion-Integral)"
      ]
    },
    {
      "cell_type": "markdown",
      "id": "7f5f9a95",
      "metadata": {},
      "source": [
        "In the examples in this notebook, we will ubiquitously make use of global variables that are defined in the code cell below. These examples will generally use a Krypton atom as the system of study (note that [Section 1.1.1](#1.1.1-Overlap-Integral-Between-Two-Different-Basis-Sets) uses its own, separate example), represented with the STO-6G basis set (`basis`). The STO-6G basis set assigns 18 basis functions (atomic orbitals, AOs) to Krypton. We define an arbitrary transformation matrix (`transform`) that can be used to obtain 18 molecular orbitals (MOs) from these 18 atomic orbitals. An arbitrary identity matrix is use to represent the one-electron density matrix. After most code blocks, outputs of calculations, shapes of said outputs, or other clarifying information will be provided to justify that things work properly."
      ]
    },
    {
      "cell_type": "code",
      "execution_count": 1,
      "id": "19e73ac7",
      "metadata": {},
      "outputs": [],
      "source": [
        "import gbasis\n",
        "import numpy as np\n",
        "from gbasis.parsers import parse_nwchem, make_contractions\n",
        "\n",
        "# create an STO-6G basis in spherical coordinates for Kr (18 basis functions total)\n",
        "basis_dict = parse_nwchem(\"data_sto6g.nwchem\")\n",
        "basis = make_contractions(basis_dict, [\"Kr\"], np.array([[0, 0, 0]]), coord_types=\"spherical\")\n",
        "\n",
        "# define a tranformation matrix to obtain 18 molecular orbitals from 18 atomic orbitals\n",
        "transform = np.random.rand(18, 18)\n",
        "\n",
        "# the following represents a one-electron density matrix\n",
        "one_dm = np.identity(18)\n",
        "one_dm += one_dm"
      ]
    },
    {
      "cell_type": "markdown",
      "id": "431f2f95",
      "metadata": {},
      "source": [
        "# 1 Integrals"
      ]
    },
    {
      "cell_type": "markdown",
      "id": "7e7fc139",
      "metadata": {},
      "source": [
        "## 1.1 Overlap Integral\n",
        "\n",
        "$$\n",
        "\\begin{equation}\n",
        "  \\label{eq:overlap}\n",
        "  \\int \\phi_a (\\mathbf{r}) \\phi_b (\\mathbf{r}) d\\mathbf{r}\n",
        "\\end{equation}\n",
        "$$"
      ]
    },
    {
      "cell_type": "code",
      "execution_count": 2,
      "id": "c7edb109",
      "metadata": {},
      "outputs": [
        {
          "name": "stdout",
          "output_type": "stream",
          "text": [
            "Shape of Overlap Integral for Set of Atomic Orbitals (Number of AOs, Number of AOs):\n",
            "(18, 18)\n",
            "\n",
            "Shape of Overlap Integral for Set of Molecular Orbitals (Number of MOs, Number of MOs):\n",
            "(18, 18)\n"
          ]
        }
      ],
      "source": [
        "from gbasis.integrals.overlap import overlap_integral\n",
        "\n",
        "# compute overlap of set of atomic orbitals\n",
        "atomic_overlap = overlap_integral(basis)\n",
        "\n",
        "# compute overlap of set of molecular orbitals\n",
        "molecular_overlap = overlap_integral(basis, transform)\n",
        "\n",
        "print(\"Shape of Overlap Integral for Set of Atomic Orbitals (Number of AOs, Number of AOs):\")\n",
        "print(atomic_overlap.shape)\n",
        "print()\n",
        "print(\"Shape of Overlap Integral for Set of Molecular Orbitals (Number of MOs, Number of MOs):\")\n",
        "print(molecular_overlap.shape)"
      ]
    },
    {
      "cell_type": "markdown",
      "id": "9d8f319b",
      "metadata": {},
      "source": [
        "### 1.1.1 Overlap Integral Between Two Different Basis Sets\n",
        "\n",
        "Overlap integrals between two different basis sets are supported i.e.,\n",
        "\n",
        "$$\n",
        "\\begin{equation}\n",
        "  \\label{eq:overlap}\n",
        "  \\int \\phi_a (\\mathbf{r}) \\psi_b (\\mathbf{r}) d\\mathbf{r}\n",
        "\\end{equation}\n",
        "$$"
      ]
    },
    {
      "cell_type": "code",
      "execution_count": 3,
      "id": "e7870168",
      "metadata": {},
      "outputs": [
        {
          "name": "stdout",
          "output_type": "stream",
          "text": [
            "Shape of Overlap Integral for Two Sets of Atomic Orbitals (Number of AOs, Number of AOs):\n",
            "(10, 10)\n",
            "\n",
            "Shape of Overlap Integral for Set of Molecular Orbitals and Set of Atomic Orbitals (Number of MOs, Number of AOs):\n",
            "(10, 10)\n"
          ]
        }
      ],
      "source": [
        "from gbasis.integrals.overlap_asymm import overlap_integral_asymmetric\n",
        "\n",
        "# create an ANO-RCC basis in spherical coordinates for Be-C (10 basis functions total)\n",
        "basis_dict_anorcc = parse_nwchem(\"data_anorcc.nwchem\")\n",
        "# NOTE: used HORTON's conversion factor for angstroms to bohr\n",
        "Be_C_basis = make_contractions(basis_dict, [\"Be\", \"C\"], np.array([[0, 0, 0], [1.0 * 1.0 / 0.5291772083, 0, 0]]), 'spherical')\n",
        "\n",
        "# compute overlap between two sets of atomic orbitals\n",
        "atomic_atomic_overlap = overlap_integral_asymmetric(Be_C_basis, Be_C_basis)\n",
        "\n",
        "# define a tranformation matrix to obtain 10 molecular orbitals from 10 atomic orbitals\n",
        "Be_C_transform = np.random.rand(10, 10)\n",
        "\n",
        "# compute overlap between set of molecular orbitals and set of atomic orbitals\n",
        "molecular_atomic_overlap = overlap_integral_asymmetric(Be_C_basis, Be_C_basis, transform_one=Be_C_transform)\n",
        "\n",
        "print(\"Shape of Overlap Integral for Two Sets of Atomic Orbitals (Number of AOs, Number of AOs):\")\n",
        "print(atomic_atomic_overlap.shape)\n",
        "print()\n",
        "print(\"Shape of Overlap Integral for Set of Molecular Orbitals and Set of Atomic Orbitals (Number of MOs, Number of AOs):\")\n",
        "print(molecular_atomic_overlap.shape)"
      ]
    },
    {
      "cell_type": "markdown",
      "id": "968a2c88",
      "metadata": {},
      "source": [
        "## 1.2 Multipole Moment Integral\n",
        "\n",
        "Multipole moment integral can be obtained for arbitrary moments.\n",
        "\n",
        "$$\n",
        "\\begin{equation}\n",
        "  \\label{eq:multipole}\n",
        "  \\int \\phi_a (\\mathbf{r}) (x - X_C)^{c_x} (y - Y_C)^{c_y} (z - Z_C)^{c_z} \\phi_b (\\mathbf{r}) d\\mathbf{r}\n",
        "\\end{equation}\n",
        "$$\n",
        "\n",
        "As an example, suppose the integral of the following moments is desired:\n",
        "\n",
        "$$\n",
        "\\begin{equation}\n",
        "  (x - 1.5)^2 (y - 2.5)^3 (z - 3.5)\n",
        "\\end{equation}\n",
        "$$\n",
        "$$\n",
        "\\begin{equation}\n",
        "  (x - 1.5) (y - 2.5)^2 (z - 3.5)^3\n",
        "\\end{equation}\n",
        "$$"
      ]
    },
    {
      "cell_type": "code",
      "execution_count": 4,
      "id": "2215b32f",
      "metadata": {},
      "outputs": [
        {
          "name": "stdout",
          "output_type": "stream",
          "text": [
            "Shape of Moment for Set of Atomic Orbitals (Number of AOs, Number of AOs, Number of Sets of Moment Orders):\n",
            "(18, 18, 2)\n",
            "\n",
            "Shape of Moment for Set of Molecular Orbitals (Number of MOs, Number of MOs, Number of Sets of Moment Orders):\n",
            "(18, 18, 2)\n"
          ]
        }
      ],
      "source": [
        "from gbasis.integrals.moment import moment_integral\n",
        "\n",
        "# compute moment of a set of atomic orbitals \n",
        "atomic_moment = moment_integral(basis, np.array([1.5, 2.5, 3.5]), np.array([[2, 3, 1], [1, 2, 3]]))\n",
        "\n",
        "# compute moment of a set of molecular orbitals\n",
        "molecular_moment = moment_integral(basis, np.array([1.5, 2.5, 3.5]), np.array([[2, 3, 1], [1, 2, 3]]), transform)\n",
        "\n",
        "print(\"Shape of Moment for Set of Atomic Orbitals (Number of AOs, Number of AOs, Number of Sets of Moment Orders):\")\n",
        "print(atomic_moment.shape)\n",
        "print()\n",
        "print(\"Shape of Moment for Set of Molecular Orbitals (Number of MOs, Number of MOs, Number of Sets of Moment Orders):\")\n",
        "print(molecular_moment.shape)"
      ]
    },
    {
      "cell_type": "markdown",
      "id": "e4154060",
      "metadata": {},
      "source": [
        "## 1.3 Integrals Over Differential Operator\n",
        "\n",
        "Integrals over arbitrary differential operator (for Cartesian coordinates) are\n",
        "supported.\n",
        "\n",
        "$$\n",
        "\\begin{equation}\n",
        "  \\int\n",
        "  \\phi_a(\\mathbf{r}) \\frac{\\partial^{e+f+g}}{\\partial x^e \\partial y^f \\partial z^g} \\phi_b(\\mathbf{r})\n",
        "  d\\mathbf{r}\n",
        "\\end{equation}\n",
        "$$"
      ]
    },
    {
      "cell_type": "markdown",
      "id": "e3c62733",
      "metadata": {},
      "source": [
        "### 1.3.1 Kinetic Energy Integral\n",
        "\n",
        "$$\n",
        "\\begin{equation}\n",
        "  \\label{eq:kinetic_energy}\n",
        "  \\begin{split}\n",
        "    \\left< \\hat{T} \\right>\n",
        "    &= \\int \\phi_a(\\mathbf{r}) \\left( -\\frac{1}{2} \\nabla^2 \\right) \\phi_b(\\mathbf{r}) d\\mathbf{r}\\\\\n",
        "    &= -\\frac{1}{2}\n",
        "    \\left(\n",
        "      \\int \\phi_a(\\mathbf{r}) \\frac{\\partial^2}{\\partial x^2} \\phi_b(\\mathbf{r}) d\\mathbf{r}\n",
        "      + \\int \\phi_a(\\mathbf{r}) \\frac{\\partial^2}{\\partial y^2} \\phi_b(\\mathbf{r}) d\\mathbf{r}\n",
        "      + \\int \\phi_a(\\mathbf{r}) \\frac{\\partial^2}{\\partial z^2} \\phi_b(\\mathbf{r}) d\\mathbf{r}\n",
        "    \\right)\n",
        "  \\end{split}\n",
        "\\end{equation}\n",
        "$$"
      ]
    },
    {
      "cell_type": "code",
      "execution_count": 5,
      "id": "f3c09040",
      "metadata": {},
      "outputs": [
        {
          "name": "stdout",
          "output_type": "stream",
          "text": [
            "Shape of Kinetic Energy Integral of Set of Atomic Orbitals (Number of AOs, Number of AOs):\n",
            "(18, 18)\n",
            "\n",
            "Shape of Kinetic Energy Integral of Set of Molecular Orbitals (Number of MOs, Number of MOs):\n",
            "(18, 18)\n"
          ]
        }
      ],
      "source": [
        "from gbasis.integrals.kinetic_energy import kinetic_energy_integral\n",
        "\n",
        "# compute kinetic energy integral of a set of atomic orbitals\n",
        "T_integral_atomic = kinetic_energy_integral(basis)\n",
        "\n",
        "# compute kinetic energy integral of a set of molecular orbitals\n",
        "T_integral_molecular = kinetic_energy_integral(basis, transform)\n",
        "\n",
        "print(\"Shape of Kinetic Energy Integral of Set of Atomic Orbitals (Number of AOs, Number of AOs):\")\n",
        "print(T_integral_atomic.shape)\n",
        "print()\n",
        "print(\"Shape of Kinetic Energy Integral of Set of Molecular Orbitals (Number of MOs, Number of MOs):\")\n",
        "print(T_integral_molecular.shape)"
      ]
    },
    {
      "cell_type": "markdown",
      "id": "b0570391",
      "metadata": {},
      "source": [
        "### 1.3.2 Momentum Integral\n",
        "\n",
        "$$\n",
        "\\begin{equation}\n",
        "  \\label{eq:momentum}\n",
        "  \\begin{split}\n",
        "    \\left< \\hat{\\mathbf{p}} \\right>\n",
        "    &= \\int \\phi_a(\\mathbf{r}) \\left( -i \\nabla \\right) \\phi_b(\\mathbf{r}) d\\mathbf{r}\\\\\n",
        "    &= -i\n",
        "    \\begin{bmatrix}\n",
        "      \\int \\phi_a(\\mathbf{r}) \\frac{\\partial}{\\partial x} \\phi_b(\\mathbf{r}) d\\mathbf{r}\\\\\\\\\n",
        "      \\int \\phi_a(\\mathbf{r}) \\frac{\\partial}{\\partial y} \\phi_b(\\mathbf{r}) d\\mathbf{r}\\\\\\\\\n",
        "      \\int \\phi_a(\\mathbf{r}) \\frac{\\partial}{\\partial z} \\phi_b(\\mathbf{r}) d\\mathbf{r}\n",
        "    \\end{bmatrix}\n",
        "  \\end{split}\n",
        "\\end{equation}\n",
        "$$"
      ]
    },
    {
      "cell_type": "code",
      "execution_count": 6,
      "id": "78b7f1c1",
      "metadata": {},
      "outputs": [
        {
          "name": "stdout",
          "output_type": "stream",
          "text": [
            "Shape of Momentum Integral of Set of Atomic Orbitals (Number of AOs, Number of AOs, 3):\n",
            "(18, 18, 3)\n",
            "\n",
            "Shape of Momentum Integral of Set of Molecular Orbitals (Number of MOs, Number of MOs, 3):\n",
            "(18, 18, 3)\n"
          ]
        }
      ],
      "source": [
        "from gbasis.integrals.momentum import momentum_integral\n",
        "\n",
        "# compute momentum integral of a set of atomic orbitals\n",
        "momentum_integral_atomic = momentum_integral(basis)\n",
        "\n",
        "# compute momentum integral of a set of molecular orbitals\n",
        "momentum_integral_molecular = momentum_integral(basis, transform)\n",
        "\n",
        "print(\"Shape of Momentum Integral of Set of Atomic Orbitals (Number of AOs, Number of AOs, 3):\")\n",
        "print(momentum_integral_atomic.shape)\n",
        "print()\n",
        "print(\"Shape of Momentum Integral of Set of Molecular Orbitals (Number of MOs, Number of MOs, 3):\")\n",
        "print(momentum_integral_molecular.shape)"
      ]
    },
    {
      "cell_type": "markdown",
      "id": "c034e8d6",
      "metadata": {},
      "source": [
        "### 1.3.3 Angular Momentum Integral\n",
        "\n",
        "$$\n",
        "\\begin{equation}\n",
        "  \\label{eq:angular_momentum}\n",
        "  \\begin{split}\n",
        "    \\left< \\hat{\\mathbf{L}} \\right>\n",
        "    &= \\int \\phi_a(\\mathbf{r}) \\left( -i \\mathbf{r} \\times \\nabla \\right) \\phi_b(\\mathbf{r}) d\\mathbf{r}\\\\\n",
        "    &= -i\n",
        "    \\begin{bmatrix}\n",
        "      \\int \\phi_a(\\mathbf{r}) y\\frac{\\partial}{\\partial z} \\phi_b(\\mathbf{r}) d\\mathbf{r}\n",
        "      - \\int \\phi_a(\\mathbf{r}) z\\frac{\\partial}{\\partial y} \\phi_b(\\mathbf{r}) d\\mathbf{r}\\\\\\\\\n",
        "      \\int \\phi_a(\\mathbf{r}) z\\frac{\\partial}{\\partial x} \\phi_b(\\mathbf{r}) d\\mathbf{r}\n",
        "      - \\int \\phi_a(\\mathbf{r}) x\\frac{\\partial}{\\partial z} \\phi_b(\\mathbf{r}) d\\mathbf{r}\\\\\\\\\n",
        "      \\int \\phi_a(\\mathbf{r}) x\\frac{\\partial}{\\partial y} \\phi_b(\\mathbf{r}) d\\mathbf{r}\n",
        "      - \\int \\phi_a(\\mathbf{r}) y\\frac{\\partial}{\\partial x} \\phi_b(\\mathbf{r}) d\\mathbf{r}\\\\\\\\\n",
        "    \\end{bmatrix}\n",
        "  \\end{split}\n",
        "\\end{equation}\n",
        "$$"
      ]
    },
    {
      "cell_type": "code",
      "execution_count": 7,
      "id": "5d21b326",
      "metadata": {},
      "outputs": [
        {
          "name": "stdout",
          "output_type": "stream",
          "text": [
            "Shape of Angular Momentum Integral of Set of Atomic Orbitals (Number of AOs, Number of AOs, 3):\n",
            "(18, 18, 3)\n",
            "\n",
            "Shape of Angular Momentum Integral of Set of Molecular Orbitals (Number of MOs, Number of MOs, 3):\n",
            "(18, 18, 3)\n"
          ]
        }
      ],
      "source": [
        "from gbasis.integrals.angular_momentum import angular_momentum_integral\n",
        "\n",
        "# compute angular momentum integral of a set of atomic orbitals\n",
        "ang_mom_integral_atomic = angular_momentum_integral(basis)\n",
        "\n",
        "# compute angular momentum integral of a set of molecular orbitals\n",
        "ang_mom_integral_molecular = angular_momentum_integral(basis, transform)\n",
        "\n",
        "print(\"Shape of Angular Momentum Integral of Set of Atomic Orbitals (Number of AOs, Number of AOs, 3):\")\n",
        "print(ang_mom_integral_atomic.shape)\n",
        "print()\n",
        "print(\"Shape of Angular Momentum Integral of Set of Molecular Orbitals (Number of MOs, Number of MOs, 3):\")\n",
        "print(ang_mom_integral_molecular.shape)"
      ]
    },
    {
      "cell_type": "markdown",
      "id": "b814c214",
      "metadata": {},
      "source": [
        "## 1.4 Integral for Interaction with Point Charge\n",
        "\n",
        "$$\n",
        "\\begin{equation}\n",
        "  \\label{eq:point_charge}\n",
        "  \\int \\phi_a(\\mathbf{r}) \\frac{1}{|\\mathbf{r} - \\mathbf{R}_C|} \\phi_b(\\mathbf{r}) d\\mathbf{r}\n",
        "\\end{equation}\n",
        "$$\n",
        "\n",
        "For example, suppose there are two point charges: $-3$ charge at $(0, 1, 2)$ and $+5$ charge\n",
        "at $(3, 4, 6)$:"
      ]
    },
    {
      "cell_type": "code",
      "execution_count": 8,
      "id": "40d2dd20",
      "metadata": {},
      "outputs": [
        {
          "name": "stdout",
          "output_type": "stream",
          "text": [
            "Shape of Integral for Interaction Between Point Charges and Set of Atomic Orbitals (Number of AOs, Number of AOs, Number of Point Charges):\n",
            "(18, 18, 2)\n",
            "\n",
            "Shape of Integral for Interaction Between Point Charges and Set of Molecular Orbitals (Number of MOs, Number of MOs, Number of Point Charges):\n",
            "(18, 18, 2)\n"
          ]
        }
      ],
      "source": [
        "from gbasis.integrals.point_charge import point_charge_integral\n",
        "\n",
        "# compute integral for interaction between these point charges and the set of atomic orbitals\n",
        "interaction_atomic = point_charge_integral(basis, np.array([[0, 1, 2], [3, 4, 6]]), np.array([-3, 5]))\n",
        "\n",
        "# compute integral for interaction between these point charges and the set of molecular orbitals\n",
        "interaction_molecular = point_charge_integral(basis, np.array([[0, 1, 2], [3, 4, 6]]), np.array([-3, 5]), transform)\n",
        "\n",
        "print(\"Shape of Integral for Interaction Between Point Charges and Set of Atomic Orbitals (Number of AOs, Number of AOs, Number of Point Charges):\")\n",
        "print(interaction_atomic.shape)\n",
        "print()\n",
        "print(\"Shape of Integral for Interaction Between Point Charges and Set of Molecular Orbitals (Number of MOs, Number of MOs, Number of Point Charges):\")\n",
        "print(interaction_molecular.shape)"
      ]
    },
    {
      "cell_type": "markdown",
      "id": "02659462",
      "metadata": {},
      "source": [
        "### 1.4.1 Nuclear-Electron Attraction Integral\n",
        "\n",
        "$$\n",
        "\\begin{equation}\n",
        "  \\label{eq:nuclear_electron_attraction}\n",
        "  \\int \\phi_a(\\mathbf{r}) \\frac{-Z_c}{|\\mathbf{r} - \\mathbf{R}_C|} \\phi_b(\\mathbf{r}) d\\mathbf{r}\n",
        "  =\n",
        "  -Z_C \\int \\phi_a(\\mathbf{r}) \\frac{1}{|\\mathbf{r} - \\mathbf{R}_C|} \\phi_b(\\mathbf{r}) d\\mathbf{r}\n",
        "\\end{equation}\n",
        "$$\n",
        "\n",
        "For example, suppose there are two nuclei: He at $(0, 1, 2)$ and Al at $(3, 4, 6)$:"
      ]
    },
    {
      "cell_type": "code",
      "execution_count": 9,
      "id": "2eda2953",
      "metadata": {},
      "outputs": [
        {
          "name": "stdout",
          "output_type": "stream",
          "text": [
            "Shape of Nuclear-Electron Attraction Integral of Set of Atomic Orbitals (Number of AOs, Number of AOs):\n",
            "(18, 18)\n",
            "\n",
            "Shape of Nuclear-Electron Attraction Integral of Set of Molecular Orbitals (Number of MOs, Number of MOs):\n",
            "(18, 18)\n"
          ]
        }
      ],
      "source": [
        "from gbasis.integrals.nuclear_electron_attraction import nuclear_electron_attraction_integral\n",
        "\n",
        "# compute nuclear-electron attraction integral of set of atomic orbitals\n",
        "Vne_atomic = nuclear_electron_attraction_integral(basis, np.array([[0, 1, 2], [3, 4, 6]]), np.array([2, 13]))\n",
        "\n",
        "# compute nuclear-electron attraction integral of set of molecular orbitals\n",
        "Vne_molecular = nuclear_electron_attraction_integral(basis, \n",
        "                                                     np.array([[0, 1, 2], [3, 4, 6]]), \n",
        "                                                     np.array([2, 13]), \n",
        "                                                     transform)\n",
        "\n",
        "print(\"Shape of Nuclear-Electron Attraction Integral of Set of Atomic Orbitals (Number of AOs, Number of AOs):\")\n",
        "print(Vne_atomic.shape)\n",
        "print()\n",
        "print(\"Shape of Nuclear-Electron Attraction Integral of Set of Molecular Orbitals (Number of MOs, Number of MOs):\")\n",
        "print(Vne_molecular.shape)"
      ]
    },
    {
      "cell_type": "markdown",
      "id": "8dc49c85",
      "metadata": {},
      "source": [
        "### 1.4.2 Electrostatic Potential\n",
        "\n",
        "$$\n",
        "\\begin{equation}\n",
        "  \\label{eq:nuclear_electron_attraction}\n",
        "  \\hspace{-3em}\n",
        "  - \\left(\n",
        "    - \\sum_A \\frac{Z_A}{|\\mathbf{R}_C - \\mathbf{R}_A|}\n",
        "    + \\sum_{ab} \\gamma_{ab} \\int \\phi_a(\\mathbf{r}) \\frac{-1}{|\\mathbf{r} - \\mathbf{R}_C|} \\phi_b(\\mathbf{r}) d\\mathbf{r}\n",
        "  \\right)\n",
        "  =\n",
        "  \\sum_A \\frac{Z_A}{|\\mathbf{R}_C - \\mathbf{R}_A|}\n",
        "  - \\sum_{ab} \\gamma_{ab} \\int \\phi_a(\\mathbf{r}) \\frac{1}{|\\mathbf{r} - \\mathbf{R}_C|} \\phi_b(\\mathbf{r}) d\\mathbf{r}\n",
        "\\end{equation}\n",
        "$$\n",
        "\n",
        "For example, suppose there are two nuclei, He at $(0, 1, 2)$ and Al at $(3, 4, 6)$, the electrostatic potential is measured at\n",
        "points $(0.5, 1.5, 2.5)$ and $(2.5, 3.5, 5.5)$, and the one-electron density\n",
        "matrix is known:"
      ]
    },
    {
      "cell_type": "code",
      "execution_count": 10,
      "id": "901aeb30",
      "metadata": {},
      "outputs": [
        {
          "name": "stdout",
          "output_type": "stream",
          "text": [
            "Electrostatic Potential Evaluated with Density Matrix Expressed w.r.t. Atomic Orbitals:\n",
            "[-7.23789782 10.25709503]\n",
            "\n",
            "Electrostatic Potential Evaluated with Density Matrix Expressed w.r.t. Molecular Orbitals:\n",
            "[-100.35888141  -26.81817714]\n"
          ]
        }
      ],
      "source": [
        "from gbasis.evals.electrostatic_potential import electrostatic_potential\n",
        "\n",
        "# compute electrostatic potential using density matrix expressed w.r.t. atomic orbitals\n",
        "ESP_atomic = electrostatic_potential(basis, \n",
        "                                     one_dm, \n",
        "                                     np.array([[0.5, 1.5, 2.5], [2.5, 3.5, 5.5]]), \n",
        "                                     np.array([[0, 1, 2], [3, 4, 6]]), \n",
        "                                     np.array([2, 13]))\n",
        "\n",
        "# compute electrostatic potential using density matrix expressed w.r.t. molecular orbitals\n",
        "ESP_molecular = electrostatic_potential(basis, \n",
        "                                        one_dm, \n",
        "                                        np.array([[0.5, 1.5, 2.5], [2.5, 3.5, 5.5]]), \n",
        "                                        np.array([[0, 1, 2], [3, 4, 6]]), \n",
        "                                        np.array([2, 13]),\n",
        "                                        transform)\n",
        "\n",
        "print(\"Electrostatic Potential Evaluated with Density Matrix Expressed w.r.t. Atomic Orbitals:\")\n",
        "print(ESP_atomic)\n",
        "print()\n",
        "print(\"Electrostatic Potential Evaluated with Density Matrix Expressed w.r.t. Molecular Orbitals:\")\n",
        "print(ESP_molecular)"
      ]
    },
    {
      "cell_type": "markdown",
      "id": "97918ba1",
      "metadata": {},
      "source": [
        "## 1.5 Electron-Electron Repulsion Integral\n",
        "\n",
        "In the Chemists' notation,\n",
        "\n",
        "$$\n",
        "\\begin{equation}\n",
        "  \\label{eq:elec_repulsion}\n",
        "  \\int \\phi^*_a(\\mathbf{r}_1) \\phi_b(\\mathbf{r}_1)\n",
        "  \\frac{1}{|\\mathbf{r}_1 - \\mathbf{r}_2|}\n",
        "  \\phi^*_c(\\mathbf{r}_2) \\phi_d(\\mathbf{r}_2) d\\mathbf{r}\n",
        "\\end{equation}\n",
        "$$\n",
        "\n",
        "In the Physicists' notation,\n",
        "\n",
        "$$\n",
        "\\begin{equation}\n",
        "  \\label{eq:elec_repulsion_phys}\n",
        "  \\int \\phi^*_a(\\mathbf{r}_1) \\phi^*_b(\\mathbf{r}_2)\n",
        "  \\frac{1}{|\\mathbf{r}_1 - \\mathbf{r}_2|}\n",
        "  \\phi_c(\\mathbf{r}_1) \\phi_d(\\mathbf{r}_2) d\\mathbf{r}\n",
        "\\end{equation}\n",
        "$$\n",
        "\n",
        "It may be useful to note that though both conventions are supported at the higher level, lower level code uses the Chemists\u2019 notation."
      ]
    },
    {
      "cell_type": "code",
      "execution_count": 11,
      "id": "306952a9",
      "metadata": {},
      "outputs": [
        {
          "name": "stdout",
          "output_type": "stream",
          "text": [
            "Shape of Electron-Electron Repulsion Integral of a Set of Atomic Orbitals in Physicists' Notation (Number of AOs, Number of AOs, Number of AOs, Number of AOs):\n",
            "(18, 18, 18, 18)\n",
            "\n",
            "Shape of Electron-Electron Repulsion Integral of a Set of Molecular Orbitals in Physicists' Notation (Number of MOs, Number of MOs, Number of MOs, Number of MOs):\n",
            "(18, 18, 18, 18)\n",
            "\n",
            "Shape of Electron-Electron Repulsion Integral of a Set of Molecular Orbitals in Chemists' Notation (Number of MOs, Number of MOs, Number of MOs, Number of MOs):\n",
            "(18, 18, 18, 18)\n"
          ]
        }
      ],
      "source": [
        "from gbasis.integrals.electron_repulsion import electron_repulsion_integral\n",
        "\n",
        "# compute electron-electron repulsion integral of a set of atomic orbitals in Physicists' notation\n",
        "Vee_atomic_physicist = electron_repulsion_integral(basis)\n",
        "\n",
        "# compute electron-electron repulsion integral of a set of molecular orbitals in Physicists' notation\n",
        "Vee_molecular_physicist = electron_repulsion_integral(basis, transform)\n",
        "\n",
        "# compute electron-electron repulsion integral of a set of molecular orbitals in Chemists' notation\n",
        "Vee_molecular_chemist = electron_repulsion_integral(basis, transform, notation='chemist')\n",
        "\n",
        "print(\"Shape of Electron-Electron Repulsion Integral of a Set of Atomic Orbitals in Physicists' Notation (Number of AOs, Number of AOs, Number of AOs, Number of AOs):\")\n",
        "print(Vee_atomic_physicist.shape)\n",
        "print()\n",
        "print(\"Shape of Electron-Electron Repulsion Integral of a Set of Molecular Orbitals in Physicists' Notation (Number of MOs, Number of MOs, Number of MOs, Number of MOs):\")\n",
        "print(Vee_molecular_physicist.shape)\n",
        "print()\n",
        "print(\"Shape of Electron-Electron Repulsion Integral of a Set of Molecular Orbitals in Chemists' Notation (Number of MOs, Number of MOs, Number of MOs, Number of MOs):\")\n",
        "print(Vee_molecular_chemist.shape)"
      ]
    }
  ],
  "metadata": {
    "kernelspec": {
      "display_name": "Python 3 (ipykernel)",
      "language": "python",
      "name": "python3"
    },
    "language_info": {
      "codemirror_mode": {
        "name": "ipython",
        "version": 3
      },
      "file_extension": ".py",
      "mimetype": "text/x-python",
      "name": "python",
      "nbconvert_exporter": "python",
      "pygments_lexer": "ipython3",
      "version": "3.8.13"
    }
  },
  "nbformat": 4,
  "nbformat_minor": 5
}

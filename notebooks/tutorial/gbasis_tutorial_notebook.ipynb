{
 "cells": [
  {
   "cell_type": "markdown",
   "id": "158f041c",
   "metadata": {},
   "source": [
    "# GBasis Tutorial"
   ]
  },
  {
   "cell_type": "markdown",
   "id": "01b42fdf",
   "metadata": {},
   "source": [
    "This tutorial demonstrates various functionalities of `gbasis`, a free and open-source Python library to facilitate the use of Gaussian basis functions in molecular quantum chemistry."
   ]
  },
  {
   "cell_type": "markdown",
   "id": "27bcd2d2",
   "metadata": {},
   "source": [
    "# Table of Contents  \n",
    "- [1 Basis Sets](#1-Basis-Sets)\n",
    "    - [1.1 Loading Basis Sets](#1.1-Loading-Basis-Sets)\n",
    "    - [1.2 Building Basis Sets](#1.2-Building-Basis-Sets)\n",
    "    - [1.3 Types of Coordinate Systems Used by Basis Functions](#1.3-Types-of-Coordinate-Systems-Used-by-Basis-Functions)\n",
    "    - [1.4 Linear Transformations of Basis Functions](#1.4-Linear-Transformations-of-Basis-Functions)\n",
    "- [2 Evaluations](#2-Evaluations)\n",
    "    - [2.1 Evaluation of Contractions](#2.1-Evaluation-of-Contractions)\n",
    "    - [2.2 Evaluation of Derivatives of Contractions](#2.2-Evaluation-of-Derivatives-of-Contractions)\n",
    "    - [2.3 Evaluations of Density Related Properties](#2.3-Evaluations-of-Density-Related-Properties)\n",
    "        - [2.3.1 Density](#2.3.1-Density)\n",
    "        - [2.3.2 Arbitrary Derivatives of Density](#2.3.2-Arbitrary-Derivatives-of-Density)\n",
    "        - [2.3.3 Gradient of Density](#2.3.3-Gradient-of-Density)\n",
    "        - [2.3.4 Laplacian of Density](#2.3.4-Laplacian-of-Density)\n",
    "        - [2.3.5 Hessian of Density](#2.3.5-Hessian-of-Density)\n",
    "    - [2.4 Evaluations of Density Matrix Related Properties](#2.4-Evaluations-of-Density-Matrix-Related-Properties)\n",
    "        - [2.4.1 Stress Tensor](#2.4.1-Stress-Tensor)\n",
    "        - [2.4.2 Ehrenfest Force](#2.4.2-Ehrenfest-Force)\n",
    "        - [2.4.3 Ehrenfest Hessian](#2.4.3-Ehrenfest-Hessian)\n",
    "        - [2.4.4 Positive-Definite Kinetic Energy Density](#2.4.4-Positive-Definite-Kinetic-Energy-Density)\n",
    "        - [2.4.5 General Form of Kinetic Energy Density](#2.4.5-General-Form-of-Kinetic-Energy-Density)\n",
    "- [3 Integrals](#3-Integrals)\n",
    "    - [3.1 Overlap Integral](#3.1-Overlap-Integral)\n",
    "        - [3.1.1 Overlap Integral Between Two Different Basis Sets](#3.1.1-Overlap-Integral-Between-Two-Different-Basis-Sets)\n",
    "    - [3.2 Multipole Moment Integral](#3.2-Multipole-Moment-Integral)\n",
    "    - [3.3 Integrals Over Differential Operator](#3.3-Integrals-Over-Differential-Operator)\n",
    "        - [3.3.1 Kinetic Energy Integral](#3.3.1-Kinetic-Energy-Integral)\n",
    "        - [3.3.2 Momentum Integral](#3.3.2-Momentum-Integral)\n",
    "        - [3.3.3 Angular Momentum Integral](#3.3.3-Angular-Momentum-Integral)\n",
    "    - [3.4 Integral for Interaction with Point Charge](#3.4-Integral-for-Interaction-with-Point-Charge)\n",
    "        - [3.4.1 Nuclear-Electron Attraction Integral](#3.4.1-Nuclear-Electron-Attraction-Integral)\n",
    "        - [3.4.2 Electrostatic Potential](#3.4.2-Electrostatic-Potential)\n",
    "    - [3.5 Electron-Electron Repulsion Integral](#3.5-Electron-Electron-Repulsion-Integral)"
   ]
  },
  {
   "cell_type": "markdown",
   "id": "7f5f9a95",
   "metadata": {},
   "source": [
    "In the examples in the [Evaluations](#2-Evaluations) and [Integrals](#3-Integrals) sections, we will ubiquitously make use of global variables that are defined in the code cell below. These examples will generally use a Krypton atom as the system of study (note that [Section 3.1.1](#3.1.1-Overlap-Integral-Between-Two-Different-Basis-Sets) uses its own, separate example), represented with the STO-6G basis set (`basis`). The STO-6G basis set assigns 18 basis functions (atomic orbitals, AOs) to Krypton. We define an arbitrary transformation matrix (`transform`) that can be used to obtain 14 molecular orbitals (MOs) from these 18 atomic orbitals. Separate one-electron density matrices expressed with respect to the AOs and MOs are generated randomly. Also, we randomly select Cartesian coordinates to represent rudimentary grids for showcasing functions in the `gbasis.evals` modules. After most code blocks, outputs of calculations, shapes of said outputs, or other clarifying information will be provided to justify that things work properly.\n",
    "\n",
    "P.S. Don't worry if you don't know how to use the `gbasis` functionality implemented in this cell - it should be clarified shortly in [Section 1.1](#1.1-Loading-Basis-Sets)."
   ]
  },
  {
   "cell_type": "code",
   "execution_count": 1,
   "id": "19e73ac7",
   "metadata": {},
   "outputs": [],
   "source": [
    "import gbasis\n",
    "import numpy as np\n",
    "from gbasis.parsers import parse_nwchem, make_contractions\n",
    "\n",
    "# create an STO-6G basis in spherical coordinates for Kr (18 basis functions total)\n",
    "basis_dict = parse_nwchem(\"data_sto6g.nwchem\")\n",
    "basis = make_contractions(basis_dict, [\"Kr\"], np.array([[0, 0, 0]]), coord_types=\"spherical\")\n",
    "\n",
    "# define a tranformation matrix to obtain 14 molecular orbitals from 18 atomic orbitals\n",
    "transform = np.random.rand(14, 18)\n",
    "\n",
    "# the following represents a one-electron density matrix expressed w.r.t. atomic orbitals\n",
    "one_dm_atomic = np.random.rand(18, 18)\n",
    "one_dm_atomic += one_dm_atomic.T\n",
    "\n",
    "# the following represents the one-electron density matrix expressed w.r.t. molecular orbitals\n",
    "one_dm_molecular = np.random.rand(14, 14)\n",
    "one_dm_molecular += one_dm_molecular.T\n",
    "\n",
    "# define Cartesian coordinates of points in space (in atomic units) where basis functions are evaluated\n",
    "one_point = np.random.rand(1, 3)\n",
    "ten_points = np.random.rand(10, 3)"
   ]
  },
  {
   "cell_type": "markdown",
   "id": "f2e7dbd1",
   "metadata": {},
   "source": [
    "# 1 Basis Sets"
   ]
  },
  {
   "cell_type": "markdown",
   "id": "87e31854",
   "metadata": {},
   "source": [
    "In `gbasis`, a basis set is defined to be a list of shells of generalized contractions (i.e., a list of `GeneralizedContractionShell` objects)."
   ]
  },
  {
   "cell_type": "markdown",
   "id": "d9083083",
   "metadata": {},
   "source": [
    "## 1.1 Loading Basis Sets"
   ]
  },
  {
   "cell_type": "markdown",
   "id": "88f14a1d",
   "metadata": {},
   "source": [
    "Basis set information is often stored in text format. In `gbasis`, the Gaussian94 format (.gbs) and\n",
    "the NWChem format (.nw) are supported."
   ]
  },
  {
   "cell_type": "code",
   "execution_count": 2,
   "id": "6f84ae44",
   "metadata": {},
   "outputs": [
    {
     "name": "stdout",
     "output_type": "stream",
     "text": [
      "def2-SVP Basis Set Loaded from Gaussian94 Format:\n",
      "{'H': [(0, array([13.010701  ,  1.9622572 ,  0.44453796]), array([[0.01968216],\n",
      "       [0.13796524],\n",
      "       [0.47831935]])), (0, array([0.12194962]), array([[1.]])), (1, array([0.8]), array([[1.]]))]}\n",
      "\n",
      "def2-SVP Basis Set Loaded from NWChem Format:\n",
      "{'H': [(0, array([13.010701  ,  1.9622572 ,  0.44453796]), array([[0.01968216],\n",
      "       [0.13796524],\n",
      "       [0.47831935]])), (0, array([0.12194962]), array([[1.]])), (1, array([0.8]), array([[1.]]))]}\n"
     ]
    }
   ],
   "source": [
    "from gbasis.parsers import parse_gbs, parse_nwchem, make_contractions\n",
    "\n",
    "# use H2 molecule as an example system\n",
    "atoms = [\"H\", \"H\"]\n",
    "coords = np.array([[0, 0, 0], [0, 0, 1]])\n",
    "\n",
    "# load hydrogen def2-SVP basis set information with the Gaussian94 format\n",
    "gbs_basis_dict = parse_gbs(\"hydrogen_def2-svp.1.gbs\")\n",
    "gbs_basis = make_contractions(gbs_basis_dict, atoms, coords)\n",
    "\n",
    "# load hydrogen def2-SVP basis set information with the NWChem format\n",
    "nw_basis_dict = parse_nwchem(\"hydrogen_def2-svp.1.nw\")\n",
    "nw_basis = make_contractions(nw_basis_dict, atoms, coords)\n",
    "\n",
    "# print gbs_basis_dict and nw_basis_dict to verify they are the same\n",
    "print(\"def2-SVP Basis Set Loaded from Gaussian94 Format:\")\n",
    "print(gbs_basis_dict)\n",
    "print()\n",
    "print(\"def2-SVP Basis Set Loaded from NWChem Format:\")\n",
    "print(nw_basis_dict)"
   ]
  },
  {
   "cell_type": "markdown",
   "id": "692510fa",
   "metadata": {},
   "source": [
    "## 1.2 Building Basis Sets"
   ]
  },
  {
   "cell_type": "markdown",
   "id": "f0e7c789",
   "metadata": {},
   "source": [
    "`gbasis` interfaces to the `iodata` module, which handles the inputs and outputs for different quantum chemistry formats, such as Gaussian formatted checkpoint files (.fchk) and AIM\n",
    "wavefunction files (.wfn and .wfx). Additonally, `gbasis` interfaces to `pyscf`, which is an ab initio computational chemistry program."
   ]
  },
  {
   "cell_type": "code",
   "execution_count": 3,
   "id": "d5a9da5f",
   "metadata": {},
   "outputs": [],
   "source": [
    "from iodata import load_one\n",
    "from pyscf import gto\n",
    "from gbasis.wrappers import from_iodata, from_pyscf\n",
    "\n",
    "# build a basis from an fchk file (water at uwB97XD/def2-TZVPD LOT) using IOData\n",
    "iodata_mol = load_one(\"water.fchk\")\n",
    "iodata_basis = from_iodata(iodata_mol)\n",
    "\n",
    "# build an STO-3G basis for water using PySCF\n",
    "pyscf_mol = gto.Mole()\n",
    "pyscf_mol.build(\n",
    "    atom = \"O 0 0 0; H 0 1 0; H 0 0 1\",\n",
    "    basis = \"sto-3g\"\n",
    ")\n",
    "pyscf_basis = from_pyscf(pyscf_mol)"
   ]
  },
  {
   "cell_type": "markdown",
   "id": "28243d65",
   "metadata": {},
   "source": [
    "## 1.3 Types of Coordinate Systems Used by Basis Functions"
   ]
  },
  {
   "cell_type": "markdown",
   "id": "8e898396",
   "metadata": {},
   "source": [
    "In `gbasis`, the user can provide the coordinate system used by each shell of generalized contractions that gets stored in the basis list. The `make_contractions` function is useful for instantiating a basis for a system of atoms based on the `basis_dict` output of the parsers from `gbasis.parsers`. For a given call of `make_contractions`, one can pass either a string (\"cartesian\" or \"spherical\") or a list of strings to specify `coord_types`. If a string is passed, all contractions for all atoms are treated as having the same `coord_type`. \n",
    "If different shells correspond to different coordinate systems, then a list of the same length as the basis must be provided with each entry being \"spherical\" or \"cartesian\" to specify the coordinate system\n",
    "of the corresponding shell. For example, if atom 1 contributes 8 contractions and atom 2 contributes 8 contractions, the `coord_types` list should be of length 16, where the first 8 elements correspond to contractions for atom 1 and the last 8 elements correspond to contractions for atom 2. These possibilities are illustrated in the code cell below using the Kr<sub>2</sub> molecule as an example:"
   ]
  },
  {
   "cell_type": "code",
   "execution_count": 4,
   "id": "af37ce41",
   "metadata": {},
   "outputs": [
    {
     "name": "stdout",
     "output_type": "stream",
     "text": [
      "['cartesian', 'cartesian', 'cartesian', 'cartesian', 'cartesian', 'cartesian', 'cartesian', 'cartesian', 'cartesian', 'cartesian', 'cartesian', 'cartesian', 'cartesian', 'cartesian', 'cartesian', 'cartesian']\n",
      "\n",
      "['spherical', 'spherical', 'spherical', 'spherical', 'spherical', 'spherical', 'spherical', 'spherical', 'spherical', 'spherical', 'spherical', 'spherical', 'spherical', 'spherical', 'spherical', 'spherical']\n",
      "\n",
      "['spherical', 'spherical', 'spherical', 'spherical', 'spherical', 'spherical', 'spherical', 'spherical', 'spherical', 'spherical', 'spherical', 'spherical', 'spherical', 'spherical', 'spherical', 'cartesian']\n"
     ]
    }
   ],
   "source": [
    "# load STO-6G basis set information\n",
    "basis_dict = parse_nwchem(\"data_sto6g.nwchem\")\n",
    "\n",
    "# create basis for Kr2 using cartesian coordinates for all generalized contractions\n",
    "cartesian_basis = make_contractions(basis_dict, \n",
    "                                    [\"Kr\", \"Kr\"], \n",
    "                                    np.array([[0, 0, 0], [1, 0, 0]]),\n",
    "                                    coord_types=\"cartesian\")\n",
    "print([shell.coord_type for shell in cartesian_basis])\n",
    "print()\n",
    "\n",
    "# create basis for Kr2 using spherical coordinates for all generalized contractions\n",
    "spherical_basis = make_contractions(basis_dict, \n",
    "                                    [\"Kr\", \"Kr\"], \n",
    "                                    np.array([[0, 0, 0], [1, 0, 0]]),\n",
    "                                    coord_types=\"spherical\")\n",
    "print([shell.coord_type for shell in spherical_basis])\n",
    "print()\n",
    "\n",
    "# create basis for Kr2 using spherical coordinates for all generalized contractions\n",
    "# except the last one, which is specified to be cartesian\n",
    "mixed_basis = make_contractions(basis_dict, \n",
    "                                [\"Kr\", \"Kr\"], \n",
    "                                np.array([[0, 0, 0], [1, 0, 0]]),\n",
    "                                coord_types=[\"spherical\"] * 15 + [\"cartesian\"])\n",
    "print([shell.coord_type for shell in mixed_basis])"
   ]
  },
  {
   "cell_type": "markdown",
   "id": "72420dd3",
   "metadata": {},
   "source": [
    "## 1.4 Linear Transformations of Basis Functions"
   ]
  },
  {
   "cell_type": "markdown",
   "id": "a7342d7d",
   "metadata": {},
   "source": [
    "In `gbasis`, the user can linearly transform the basis functions before computing the desired properties.\n",
    "All of the higher level functions have the keyword argument `transform` to specify the matrix that\n",
    "transforms the basis set. The transformation is applied to the left, i.e.,\n",
    "\n",
    "$$\\begin{equation}\n",
    " \\psi_i = \\sum_j T_{ij} \\phi_j\n",
    "\\end{equation}$$\n",
    "\n",
    "where {$\\phi_{j}$} is the basis set before transformation and {$\\psi_{i}$} is the basis function after transformation.\n",
    "The number of basis functions depends on the coordinate systems specified for each shell. \n",
    "\n",
    "Examples involving such transformations will be provided subsequently in this notebook wherever molecular rather than atomic orbitals are involved in calculations."
   ]
  },
  {
   "cell_type": "markdown",
   "id": "8dd8b2d6",
   "metadata": {},
   "source": [
    "# 2 Evaluations"
   ]
  },
  {
   "cell_type": "markdown",
   "id": "47ec6a05",
   "metadata": {},
   "source": [
    "## 2.1 Evaluation of Contractions"
   ]
  },
  {
   "cell_type": "markdown",
   "id": "f2e472aa",
   "metadata": {},
   "source": [
    "The functions in the module `gbasis.evals.eval` return the evaluations of the contractions at different\n",
    "coordinates:\n",
    "\n",
    "$$\\begin{equation}\n",
    "  \\phi(\\mathbf{r}_n | \\mathbf{R}_{A}, \\mathbf{a}_j, \\mathbf{d}_k, \\boldsymbol{\\alpha})\n",
    "\\end{equation}$$\n",
    "\n",
    "The returned value is an array whose rows corresponds to the basis function and columns corresponds to the coordinate, $\\mathbf{r}_n$.These functions can be used to find the values of the orbitals at various points, such as a grid."
   ]
  },
  {
   "cell_type": "code",
   "execution_count": 5,
   "id": "58dfb69e",
   "metadata": {},
   "outputs": [
    {
     "name": "stdout",
     "output_type": "stream",
     "text": [
      "Shape of Atomic Orbital Evaluation (Number of AOs, Number of Evaluation Points):\n",
      "(18, 10)\n",
      "\n",
      "Shape of Molecular Orbital Evaluation (Number of MOs, Number of Evaluation Points):\n",
      "(14, 10)\n"
     ]
    }
   ],
   "source": [
    "from gbasis.evals.eval import evaluate_basis\n",
    "\n",
    "# evalute atomic orbitals at a ten points\n",
    "atomic_orb_evaluation = evaluate_basis(basis, ten_points)\n",
    "\n",
    "# evaluate molecular orbitals at ten points\n",
    "molecular_orb_evaluation = evaluate_basis(basis, ten_points, transform)\n",
    "\n",
    "# verify shapes of evaluations\n",
    "print(\"Shape of Atomic Orbital Evaluation (Number of AOs, Number of Evaluation Points):\")\n",
    "print(atomic_orb_evaluation.shape)\n",
    "print()\n",
    "print(\"Shape of Molecular Orbital Evaluation (Number of MOs, Number of Evaluation Points):\")\n",
    "print(molecular_orb_evaluation.shape)"
   ]
  },
  {
   "cell_type": "markdown",
   "id": "5a203295",
   "metadata": {},
   "source": [
    "## 2.2 Evaluation of Derivatives of Contractions"
   ]
  },
  {
   "cell_type": "markdown",
   "id": "a6acf87a",
   "metadata": {},
   "source": [
    "In `gbasis`, contractions can be derivatized to arbitrary orders. The functions in module `gbasis.evals.eval_deriv`\n",
    "return the evaluations of the given derivative of the contractions at different coordinates.\n",
    "\n",
    "$$\\begin{equation}\n",
    "  \\frac{\\partial^{m_x + m_y + m_z}}{\\partial x^{m_x} \\partial y^{m_y} \\partial z^{m_z}}\n",
    "  \\phi(\\mathbf{r}_n | \\mathbf{R}_{A}, \\mathbf{a}_j, \\mathbf{d}_k, \\boldsymbol{\\alpha})\n",
    "\\end{equation}$$\n",
    "\n",
    "The returned value is an array whose rows corresponds to the basis function and columns corresponds to the coordinate, $\\mathbf{r}_n$.\n",
    "\n",
    "In the example code cell below, presume the following derivative of the contraction is desired:\n",
    "\n",
    "$$\\frac{\\partial ^{3}}{\\partial x \\partial y^{2}}$$"
   ]
  },
  {
   "cell_type": "code",
   "execution_count": 6,
   "id": "a52bd7b7",
   "metadata": {},
   "outputs": [
    {
     "name": "stdout",
     "output_type": "stream",
     "text": [
      "Shape of Atomic Orbital Derivative Evaluation (Number of AOs, Number of Evaluation Points):\n",
      "(18, 10)\n",
      "\n",
      "Shape of Molecular Orbital Derivative Evaluation (Number of MOs, Number of Evaluation Points):\n",
      "(14, 10)\n"
     ]
    }
   ],
   "source": [
    "from gbasis.evals.eval_deriv import evaluate_deriv_basis\n",
    "\n",
    "# evaluate the derivatives of the atomic orbitals at ten points\n",
    "atomic_basis_deriv = evaluate_deriv_basis(basis, ten_points, np.array([1, 2, 0]))\n",
    "\n",
    "# evaluate the derivatives of the molecular orbitals at ten points\n",
    "molecular_basis_deriv = evaluate_deriv_basis(basis, ten_points, np.array([1, 2, 0]), transform)\n",
    "\n",
    "# verify shapes of derivative evaluations\n",
    "print(\"Shape of Atomic Orbital Derivative Evaluation (Number of AOs, Number of Evaluation Points):\")\n",
    "print(atomic_basis_deriv.shape)\n",
    "print()\n",
    "print(\"Shape of Molecular Orbital Derivative Evaluation (Number of MOs, Number of Evaluation Points):\")\n",
    "print(molecular_basis_deriv.shape)"
   ]
  },
  {
   "cell_type": "markdown",
   "id": "7ebd2510",
   "metadata": {},
   "source": [
    "## 2.3 Evaluations of Density Related Properties\n",
    "\n",
    "The functions in the module `gbasis.evals.density` return the evaluations of the\n",
    "density and its derivatives. Note that the examples below are not to be taken literally. The one-electron density matrices, expressed with respect to either atomic or molecular orbitals, were separately generated via `np.random.rand` and thus have no connection to one another. This method is not a bona fide way of approaching things."
   ]
  },
  {
   "cell_type": "markdown",
   "id": "437870c5",
   "metadata": {},
   "source": [
    "### 2.3.1 Density\n",
    "\n",
    "$$\\rho(\\mathbf{r}_n) = \\sum_{ij} \\gamma_{ij} \\phi_i(\\mathbf{r}_n) \\phi_j(\\mathbf{r}_n)$$"
   ]
  },
  {
   "cell_type": "code",
   "execution_count": 7,
   "id": "c276d946",
   "metadata": {},
   "outputs": [
    {
     "name": "stdout",
     "output_type": "stream",
     "text": [
      "Density Evaluated with Density Matrix Expressed w.r.t. Atomic Orbitals:\n",
      "[17.48775026  3.405866    1.02884483  0.747302    0.87205537  1.02569778\n",
      "  1.03041191 17.69236884  1.55916371  1.05981276]\n",
      "\n",
      "Density Evaluated with Density Matrix Expressed w.r.t. Molecular Orbitals:\n",
      "[828.73212551 174.4626635   31.58990189  43.1199123   45.78803695\n",
      "  54.72789327  56.87535499 775.14650396  72.95468064  59.29519656]\n"
     ]
    }
   ],
   "source": [
    "from gbasis.evals.density import evaluate_density\n",
    "\n",
    "# evaluate the density at ten points using the density matrix expressed w.r.t. atomic orbitals\n",
    "atomic_basis_density = evaluate_density(one_dm_atomic, basis, ten_points)\n",
    "\n",
    "# evaluate the density at ten points using the density matrix expressed w.r.t. molecular orbitals\n",
    "molecular_basis_density = evaluate_density(one_dm_molecular, basis, ten_points, transform)\n",
    "\n",
    "print(\"Density Evaluated with Density Matrix Expressed w.r.t. Atomic Orbitals:\")\n",
    "print(atomic_basis_density)\n",
    "print()\n",
    "print(\"Density Evaluated with Density Matrix Expressed w.r.t. Molecular Orbitals:\")\n",
    "print(molecular_basis_density)"
   ]
  },
  {
   "cell_type": "markdown",
   "id": "d8bd1c78",
   "metadata": {},
   "source": [
    "### 2.3.2 Arbitrary Derivatives of Density\n",
    "\n",
    "$$\\frac{\\partial^{L_x + L_y + L_z}}{\\partial x^{L_x} \\partial y^{L_y} \\partial z^{L_z}}\n",
    "  \\rho(\\mathbf{r}_n)\n",
    "  =\n",
    "  \\sum_{l_x=0}^{L_x} \\sum_{l_y=0}^{L_y} \\sum_{l_z=0}^{L_z}\n",
    "  \\binom{L_x}{l_x} \\binom{L_y}{l_y} \\binom{L_z}{l_z}\n",
    "  \\sum_{ij} \\gamma_{ij}\n",
    "  \\frac{\\partial^{l_x + l_y + l_z} \\rho(\\mathbf{r}_n)}{\\partial x^{l_x} \\partial y^{l_y} \\partial z^{l_z}}\n",
    "  \\frac{\n",
    "    \\partial^{L_x + L_y + L_z - l_x - l_y - l_z} \\rho(\\mathbf{r}_n)\n",
    "  }{\n",
    "    \\partial x^{L_x - l_x} \\partial y^{L_y - l_y} \\partial z^{L_z - l_z}\n",
    "  }$$\n",
    "  \n",
    "In the example code cell below, presume the following derivative of the density is desired:\n",
    "\n",
    "$$\\frac{\\partial ^{3}}{\\partial x \\partial y^{2}}$$"
   ]
  },
  {
   "cell_type": "code",
   "execution_count": 8,
   "id": "b2eeb316",
   "metadata": {},
   "outputs": [
    {
     "name": "stdout",
     "output_type": "stream",
     "text": [
      "Derivative of Density Evaluated with Density Matrix Expressed w.r.t. Atomic Orbitals:\n",
      "[-46.84255675]\n",
      "\n",
      "Derivative of Density Evaluated with Density Matrix Expressed w.r.t. Molecular Orbitals:\n",
      "[-3352.52476766]\n"
     ]
    }
   ],
   "source": [
    "from gbasis.evals.density import evaluate_deriv_density\n",
    "\n",
    "# evaluate the derivative of density at one point using the density matrix expressed w.r.t. atomic orbitals\n",
    "atomic_basis_density_deriv = evaluate_deriv_density(np.array([1, 2, 0]), one_dm_atomic, basis, one_point)\n",
    "\n",
    "# evaluate the derivative of density at one point using the density matrix expressed w.r.t. molecular orbitals\n",
    "molecular_basis_density_deriv = evaluate_deriv_density(np.array([1, 2, 0]), \n",
    "                                                       one_dm_molecular, \n",
    "                                                       basis, \n",
    "                                                       one_point, \n",
    "                                                       transform)\n",
    "\n",
    "print(\"Derivative of Density Evaluated with Density Matrix Expressed w.r.t. Atomic Orbitals:\")\n",
    "print(atomic_basis_density_deriv)\n",
    "print()\n",
    "print(\"Derivative of Density Evaluated with Density Matrix Expressed w.r.t. Molecular Orbitals:\")\n",
    "print(molecular_basis_density_deriv)"
   ]
  },
  {
   "cell_type": "markdown",
   "id": "b26faa14",
   "metadata": {},
   "source": [
    "### 2.3.3 Gradient of Density\n",
    "\n",
    "$$\n",
    "\\begin{equation}\n",
    "  \\nabla \\rho(\\mathbf{r}_n)\n",
    "  =\n",
    "  \\begin{bmatrix}\n",
    "    \\frac{\\partial}{\\partial x} \\rho(\\mathbf{r}_n)\\\\\\\\\n",
    "    \\frac{\\partial}{\\partial y} \\rho(\\mathbf{r}_n)\\\\\\\\\n",
    "    \\frac{\\partial}{\\partial z} \\rho(\\mathbf{r}_n)\n",
    "  \\end{bmatrix}\\\\\n",
    "\\end{equation}\n",
    "$$"
   ]
  },
  {
   "cell_type": "code",
   "execution_count": 9,
   "id": "dc045642",
   "metadata": {},
   "outputs": [
    {
     "name": "stdout",
     "output_type": "stream",
     "text": [
      "Gradient of Density Evaluated with Density Matrix Expressed w.r.t. Atomic Orbitals:\n",
      "[[-3.49799097 -6.12298383 -9.17460362]]\n",
      "\n",
      "Gradient of Density Evaluated with Density Matrix Expressed w.r.t. Molecular Orbitals:\n",
      "[[-169.20645087 -340.34201305 -462.53015523]]\n"
     ]
    }
   ],
   "source": [
    "from gbasis.evals.density import evaluate_density_gradient\n",
    "\n",
    "# evaluate the gradient of density at one point using the density matrix expressed w.r.t. atomic orbitals\n",
    "atomic_basis_density_grad = evaluate_density_gradient(one_dm_atomic, basis, one_point)\n",
    "\n",
    "# evaluate the gradient of density at one point using the density matrix expressed w.r.t. molecular orbitals\n",
    "molecular_basis_density_grad = evaluate_density_gradient(one_dm_molecular, basis, one_point, transform)\n",
    "\n",
    "print(\"Gradient of Density Evaluated with Density Matrix Expressed w.r.t. Atomic Orbitals:\")\n",
    "print(atomic_basis_density_grad)\n",
    "print()\n",
    "print(\"Gradient of Density Evaluated with Density Matrix Expressed w.r.t. Molecular Orbitals:\")\n",
    "print(molecular_basis_density_grad)"
   ]
  },
  {
   "cell_type": "markdown",
   "id": "c125ac05",
   "metadata": {},
   "source": [
    "### 2.3.4 Laplacian of Density\n",
    "\n",
    "$$\n",
    "\\begin{equation}\n",
    "  \\nabla^2 \\rho(\\mathbf{r}_n)\n",
    "  =\n",
    "  \\frac{\\partial^2}{\\partial x^2} \\rho(\\mathbf{r}_n)\n",
    "  + \\frac{\\partial^2}{\\partial y^2} \\rho(\\mathbf{r}_n)\n",
    "  + \\frac{\\partial^2}{\\partial z^2} \\rho(\\mathbf{r}_n)\n",
    "\\end{equation}\n",
    "$$"
   ]
  },
  {
   "cell_type": "code",
   "execution_count": 10,
   "id": "43f77ba1",
   "metadata": {},
   "outputs": [
    {
     "name": "stdout",
     "output_type": "stream",
     "text": [
      "Laplacian of Density Evaluated with Density Matrix Expressed w.r.t. Atomic Orbitals:\n",
      "[44.66390972]\n",
      "\n",
      "Laplacian of Density Evaluated with Density Matrix Expressed w.r.t. Molecular Orbitals:\n",
      "[2153.31390407]\n"
     ]
    }
   ],
   "source": [
    "from gbasis.evals.density import evaluate_density_laplacian\n",
    "\n",
    "# evaluate the Laplacian of density at one point using the density matrix expressed w.r.t. atomic orbitals\n",
    "atomic_basis_density_laplacian = evaluate_density_laplacian(one_dm_atomic, basis, one_point)\n",
    "\n",
    "# evaluate the Laplacian of density at one point using the density matrix expressed w.r.t. molecular orbitals\n",
    "molecular_basis_density_laplacian = evaluate_density_laplacian(one_dm_molecular, basis, one_point, transform)\n",
    "\n",
    "print(\"Laplacian of Density Evaluated with Density Matrix Expressed w.r.t. Atomic Orbitals:\")\n",
    "print(atomic_basis_density_laplacian)\n",
    "print()\n",
    "print(\"Laplacian of Density Evaluated with Density Matrix Expressed w.r.t. Molecular Orbitals:\")\n",
    "print(molecular_basis_density_laplacian)"
   ]
  },
  {
   "cell_type": "markdown",
   "id": "0594686e",
   "metadata": {},
   "source": [
    "### 2.3.5 Hessian of Density\n",
    "\n",
    "$$\n",
    "\\begin{equation}\n",
    "  H[\\rho(\\mathbf{r}_n)]\n",
    "  =\n",
    "  \\begin{bmatrix}\n",
    "    \\frac{\\partial^2}{\\partial x^2} \\rho(\\mathbf{r}_n) &\n",
    "    \\frac{\\partial^2}{\\partial x \\partial y} \\rho(\\mathbf{r}_n) &\n",
    "    \\frac{\\partial^2}{\\partial x \\partial z} \\rho(\\mathbf{r}_n)\\\\\\\\\n",
    "    \\frac{\\partial^2}{\\partial x \\partial y} \\rho(\\mathbf{r}_n) &\n",
    "    \\frac{\\partial^2}{\\partial y^2} \\rho(\\mathbf{r}_n)&\n",
    "    \\frac{\\partial^2}{\\partial y \\partial z} \\rho(\\mathbf{r}_n)\\\\\\\\\n",
    "    \\frac{\\partial^2}{\\partial x \\partial z} \\rho(\\mathbf{r}_n) &\n",
    "    \\frac{\\partial^2}{\\partial z^2} \\rho(\\mathbf{r}_n)&\n",
    "    \\frac{\\partial^2}{\\partial x \\partial z} \\rho(\\mathbf{r}_n)\\\\\n",
    "  \\end{bmatrix}\\\\\n",
    "\\end{equation}\n",
    "$$"
   ]
  },
  {
   "cell_type": "code",
   "execution_count": 11,
   "id": "d8a1f693",
   "metadata": {},
   "outputs": [
    {
     "name": "stdout",
     "output_type": "stream",
     "text": [
      "Hessian of Density Evaluated with Density Matrix Expressed w.r.t. Atomic Orbitals:\n",
      "[[[-7.59220332 16.80607008 23.540365  ]\n",
      "  [16.80607008  9.55704853 41.88318099]\n",
      "  [23.540365   41.88318099 42.6990645 ]]]\n",
      "\n",
      "Hessian of Density Evaluated with Density Matrix Expressed w.r.t. Molecular Orbitals:\n",
      "[[[-459.40027881  938.48948801 1147.83720683]\n",
      "  [ 938.48948801  642.31483023 2225.88407013]\n",
      "  [1147.83720683 2225.88407013 1970.39935265]]]\n"
     ]
    }
   ],
   "source": [
    "from gbasis.evals.density import evaluate_density_hessian\n",
    "\n",
    "# evaluate the Hessian of density at one point using the density matrix expressed w.r.t. atomic orbitals\n",
    "atomic_basis_density_hess = evaluate_density_hessian(one_dm_atomic, basis, one_point)\n",
    "\n",
    "# evaluate the Hessian of density at one point using the density matrix expressed w.r.t. molecular orbitals\n",
    "molecular_basis_density_hess = evaluate_density_hessian(one_dm_molecular, basis, one_point, transform)\n",
    "\n",
    "print(\"Hessian of Density Evaluated with Density Matrix Expressed w.r.t. Atomic Orbitals:\")\n",
    "print(atomic_basis_density_hess)\n",
    "print()\n",
    "print(\"Hessian of Density Evaluated with Density Matrix Expressed w.r.t. Molecular Orbitals:\")\n",
    "print(molecular_basis_density_hess)"
   ]
  },
  {
   "cell_type": "markdown",
   "id": "575a9ccc",
   "metadata": {},
   "source": [
    "## 2.4 Evaluations of Density Matrix Related Properties"
   ]
  },
  {
   "cell_type": "markdown",
   "id": "774d3216",
   "metadata": {},
   "source": [
    "Given the density matrix,\n",
    "\n",
    "$$\n",
    "\\begin{equation}\n",
    "  \\gamma(\\mathbf{r}_1, \\mathbf{r}_2)\n",
    "  = \\sum_{ij} \\gamma_{ij} \\phi_i(\\mathbf{r}_1) \\phi_j(\\mathbf{r}_2)\n",
    "\\end{equation}\n",
    "$$\n",
    "\n",
    "many properties can be defined by evaluating the derivatives of the density\n",
    "matrix at the same coordinate:\n",
    "\n",
    "$$\n",
    "\\begin{equation}\n",
    "  \\left.\n",
    "    \\frac{\\partial^{p_x + p_y + p_z}}{\\partial x_1^{p_x} \\partial y_1^{p_y} \\partial z_1^{p_z}}\n",
    "    \\frac{\\partial^{q_x + q_y + q_z}}{\\partial x_2^{q_x} \\partial y_2^{q_y} \\partial z_2^{q_z}}\n",
    "    \\gamma(\\mathbf{r}_1, \\mathbf{r}_2)\n",
    "  \\right|_{\\mathbf{r}_1 = \\mathbf{r}_2 = \\mathbf{r}_n} =\n",
    "  \\sum_{ij} \\gamma_{ij}\n",
    "  \\left.\n",
    "    \\frac{\\partial^{p_x + p_y + p_z}}{\\partial x_1^{p_x} \\partial y_1^{p_y} \\partial z_1^{p_z}}\n",
    "    \\phi_i(\\mathbf{r}_1)\n",
    "  \\right|_{\\mathbf{r}_1 = \\mathbf{r}_n}\n",
    "  \\left.\n",
    "    \\frac{\\partial^{q_x + q_y + q_z}}{\\partial x_2^{q_x} \\partial y_2^{q_y} \\partial z_2^{q_z}}\n",
    "    \\phi_j(\\mathbf{r}_2)\n",
    "  \\right|_{\\mathbf{r}_1 = \\mathbf{r}_n}\n",
    "\\end{equation}\n",
    "$$\n",
    "\n",
    "where $\\mathbf{r}_1$ is the first coordinate, $\\mathbf{r}_2$ is the second\n",
    "coordinate, and $\\mathbf{r}_n$ is the coordinate at which the derivative is\n",
    "evaluated.\n",
    "\n",
    "Since $\\gamma_{ij}$ is symmetric,\n",
    "\n",
    "$$\n",
    "\\begin{equation}\n",
    "  \\left.\n",
    "    \\frac{\\partial^{p_x + p_y + p_z}}{\\partial x_1^{p_x} \\partial y_1^{p_y} \\partial z_1^{p_z}}\n",
    "    \\frac{\\partial^{q_x + q_y + q_z}}{\\partial x_2^{q_x} \\partial y_2^{q_y} \\partial z_2^{q_z}}\n",
    "    \\gamma(\\mathbf{r}_1, \\mathbf{r}_2)\n",
    "  \\right|_{\\mathbf{r}_1 = \\mathbf{r}_2 = \\mathbf{r}_n} =\n",
    "  \\left.\n",
    "    \\frac{\\partial^{q_x + q_y + q_z}}{\\partial x_1^{q_x} \\partial y_1^{q_y} \\partial z_1^{q_z}}\n",
    "    \\frac{\\partial^{p_x + p_y + p_z}}{\\partial x_2^{p_x} \\partial y_2^{p_y} \\partial z_2^{p_z}}\n",
    "    \\gamma(\\mathbf{r}_1, \\mathbf{r}_2)\n",
    "  \\right|_{\\mathbf{r}_1 = \\mathbf{r}_2 = \\mathbf{r}_n}\n",
    "\\end{equation}\n",
    "$$"
   ]
  },
  {
   "cell_type": "markdown",
   "id": "0ea10f7f",
   "metadata": {},
   "source": [
    "### 2.4.1 Stress Tensor\n",
    "\n",
    "$$\n",
    "\\begin{equation}\n",
    "  \\begin{split}\n",
    "    \\boldsymbol{\\sigma}_{ij}(\\mathbf{r}_n | \\alpha, \\beta)\n",
    "    =&\n",
    "    -\\frac{1}{2} \\alpha\n",
    "    \\left(\n",
    "      \\frac{\\partial^2}{\\partial r_i \\partial r'_j} \\gamma(\\mathbf{r}, \\mathbf{r}')\n",
    "      + \\frac{\\partial^2}{\\partial r_j \\partial r'_i} \\gamma(\\mathbf{r}, \\mathbf{r}')\n",
    "    \\right)_{\\mathbf{r} = \\mathbf{r}' = \\mathbf{r}_n}\\\\\n",
    "    & +\\frac{1}{2} (1 - \\alpha)\n",
    "    \\left(\n",
    "      \\frac{\\partial^2}{\\partial r_i \\partial r_j} \\gamma(\\mathbf{r}, \\mathbf{r})\n",
    "      + \\frac{\\partial^2}{\\partial r'_i \\partial r'_j} \\gamma(\\mathbf{r}, \\mathbf{r}')\n",
    "    \\right)_{\\mathbf{r} = \\mathbf{r}' = \\mathbf{r}_n}\\\\\n",
    "    & - \\frac{1}{2} \\delta_{ij} \\beta \\nabla^2 \\rho(\\mathbf{r}_n)\\\\\n",
    "    =&\n",
    "    - \\alpha\n",
    "    \\left.\n",
    "      \\frac{\\partial^2}{\\partial r_i \\partial r'_j} \\gamma(\\mathbf{r}, \\mathbf{r}')\n",
    "    \\right|_{\\mathbf{r} = \\mathbf{r}' = \\mathbf{r}_n}\n",
    "    + (1 - \\alpha)\n",
    "    \\left.\n",
    "      \\frac{\\partial^2}{\\partial r_i \\partial r_j} \\gamma(\\mathbf{r}, \\mathbf{r})\n",
    "    \\right|_{\\mathbf{r} = \\mathbf{r}' = \\mathbf{r}_n}\n",
    "    - \\frac{1}{2} \\delta_{ij} \\beta \\nabla^2 \\rho(\\mathbf{r}_n)\\\\\n",
    "  \\end{split}\n",
    "\\end{equation}\n",
    "$$"
   ]
  },
  {
   "cell_type": "code",
   "execution_count": 12,
   "id": "6e4aa440",
   "metadata": {},
   "outputs": [
    {
     "name": "stdout",
     "output_type": "stream",
     "text": [
      "Stress Tensor (α = 1 and β = 0) Evaluated with Density Matrix Expressed w.r.t. Atomic Orbitals:\n",
      "[[[-1.50109699 -2.15130977 -3.49963763]\n",
      "  [-2.15130977 -4.06566937 -6.29627498]\n",
      "  [-3.49963763 -6.29627498 -9.6457893 ]]]\n",
      "\n",
      "Stress Tensor (α = 0.5 and β = 1) Evaluated with Density Matrix Expressed w.r.t. Atomic Orbitals:\n",
      "[[[-25.73110268   2.05020775   2.38545362]\n",
      "  [  2.05020775 -24.0083621    4.17452027]\n",
      "  [  2.38545362   4.17452027 -21.30297803]]]\n",
      "\n",
      "Stress Tensor (α = 1 and β = 0) Evaluated with Density Matrix Expressed w.r.t. Molecular Orbitals:\n",
      "[[[ -59.58614016 -119.56239624 -162.64305282]\n",
      "  [-119.56239624 -241.11186102 -327.29082187]\n",
      "  [-162.64305282 -327.29082187 -444.27438511]]]\n"
     ]
    }
   ],
   "source": [
    "from gbasis.evals.stress_tensor import evaluate_stress_tensor\n",
    "\n",
    "# evaluate stress tensor (α = 1 and β = 0) at one point using density matrix expressed w.r.t. atomic orbitals\n",
    "stress_tensor_1_0_atomic = evaluate_stress_tensor(one_dm_atomic, basis, one_point)\n",
    "\n",
    "# evaluate stress tensor (α = 0.5 and β = 1) at one point using density matrix expressed w.r.t. atomic orbitals\n",
    "stress_tensor_point5_1_atomic = evaluate_stress_tensor(one_dm_atomic, basis, one_point, alpha=0.5, beta=1)\n",
    "\n",
    "# evaluate stress tensor (α = 1 and β = 0) at one point using density matrix expressed w.r.t. molecular orbitals\n",
    "stress_tensor_1_0_molecular = evaluate_stress_tensor(one_dm_molecular, basis, one_point, transform=transform)\n",
    "\n",
    "print(\"Stress Tensor (α = 1 and β = 0) Evaluated with Density Matrix Expressed w.r.t. Atomic Orbitals:\")\n",
    "print(stress_tensor_1_0_atomic)\n",
    "print()\n",
    "print(\"Stress Tensor (α = 0.5 and β = 1) Evaluated with Density Matrix Expressed w.r.t. Atomic Orbitals:\")\n",
    "print(stress_tensor_point5_1_atomic)\n",
    "print()\n",
    "print(\"Stress Tensor (α = 1 and β = 0) Evaluated with Density Matrix Expressed w.r.t. Molecular Orbitals:\")\n",
    "print(stress_tensor_1_0_molecular)"
   ]
  },
  {
   "cell_type": "markdown",
   "id": "7c6bf842",
   "metadata": {},
   "source": [
    "### 2.4.2 Ehrenfest Force\n",
    "\n",
    "Ehrenfest force is defined as the negative of the divergence of the stress tensor:\n",
    "\n",
    "$$\n",
    "\\begin{equation}\n",
    "  \\hspace{-4em}\n",
    "  \\begin{split}\n",
    "    F_{j}(\\mathbf{r}_n | \\alpha, \\beta)\n",
    "    =&\n",
    "    - \\sum_i \\frac{\\partial}{\\partial r_i} \\boldsymbol{\\sigma}_{ij}\\\\\n",
    "    =&\n",
    "    \\alpha\n",
    "    \\sum_i\n",
    "    \\left.\n",
    "      \\frac{\\partial^3}{\\partial r^2_i \\partial r'_j} \\gamma(\\mathbf{r}, \\mathbf{r}')\n",
    "    \\right|_{\\mathbf{r} = \\mathbf{r}' = \\mathbf{r}_n}\n",
    "    + \\alpha\n",
    "    \\sum_i\n",
    "    \\left.\n",
    "      \\frac{\\partial^3}{\\partial r_i \\partial r'_i \\partial r'_j} \\gamma(\\mathbf{r}, \\mathbf{r}')\n",
    "    \\right|_{\\mathbf{r} = \\mathbf{r}' = \\mathbf{r}_n}\\\\\n",
    "    &- (1 - \\alpha)\n",
    "    \\sum_i\n",
    "    \\left.\n",
    "      \\frac{\\partial^3}{\\partial r^2_i \\partial r_j} \\gamma(\\mathbf{r}, \\mathbf{r})\n",
    "    \\right|_{\\mathbf{r} = \\mathbf{r}' = \\mathbf{r}_n}\n",
    "    - (1 - \\alpha)\n",
    "    \\sum_i\n",
    "    \\left.\n",
    "      \\frac{\\partial^3}{\\partial r_i \\partial r_j \\partial r'_i} \\gamma(\\mathbf{r}, \\mathbf{r})\n",
    "    \\right|_{\\mathbf{r} = \\mathbf{r}' = \\mathbf{r}_n}\n",
    "    + \\frac{1}{2} \\sum_i \\delta_{ij} \\beta\n",
    "    \\frac{\\partial}{\\partial r_i} \\nabla^2 \\rho(\\mathbf{r}_n)\\\\\n",
    "    =&\n",
    "    \\alpha\n",
    "    \\sum_i\n",
    "    \\left.\n",
    "      \\frac{\\partial^3}{\\partial r^2_i \\partial r'_j} \\gamma(\\mathbf{r}, \\mathbf{r}')\n",
    "    \\right|_{\\mathbf{r} = \\mathbf{r}' = \\mathbf{r}_n}\\\\\n",
    "    &- (1 - \\alpha)\n",
    "    \\sum_i\n",
    "    \\left.\n",
    "      \\frac{\\partial^3}{\\partial r^2_i \\partial r_j} \\gamma(\\mathbf{r}, \\mathbf{r})\n",
    "    \\right|_{\\mathbf{r} = \\mathbf{r}' = \\mathbf{r}_n}\n",
    "    - (1 - 2\\alpha)\n",
    "    \\sum_i\n",
    "    \\left.\n",
    "      \\frac{\\partial^3}{\\partial r_i \\partial r_j \\partial r'_i} \\gamma(\\mathbf{r}, \\mathbf{r})\n",
    "    \\right|_{\\mathbf{r} = \\mathbf{r}' = \\mathbf{r}_n}\n",
    "    + \\frac{1}{2} \\sum_i \\delta_{ij} \\beta\n",
    "    \\frac{\\partial}{\\partial r_i} \\nabla^2 \\rho(\\mathbf{r}_n)\\\\\n",
    "  \\end{split}\n",
    "\\end{equation}\n",
    "$$"
   ]
  },
  {
   "cell_type": "code",
   "execution_count": 13,
   "id": "6fe2d43b",
   "metadata": {},
   "outputs": [
    {
     "name": "stdout",
     "output_type": "stream",
     "text": [
      "Ehrenfest Force (α = 1 and β = 0) Evaluated with Density Matrix Expressed w.r.t. Atomic Orbitals:\n",
      "[[-26.51107153 -45.70266719 -67.98968168]]\n",
      "\n",
      "Ehrenfest Force (α = 0.5 and β = 1) Evaluated with Density Matrix Expressed w.r.t. Atomic Orbitals:\n",
      "[[ -51.52632061  -89.91964629 -132.66800942]]\n",
      "\n",
      "Ehrenfest Force (α = 1 and β = 0) Evaluated with Density Matrix Expressed w.r.t. Molecular Orbitals:\n",
      "[[-1314.22008243 -2339.75315262 -3075.87909323]]\n"
     ]
    }
   ],
   "source": [
    "from gbasis.evals.stress_tensor import evaluate_ehrenfest_force\n",
    "\n",
    "# evaluate Ehrenfest force (α = 1 and β = 0) at one point using density matrix expressed w.r.t. atomic orbitals\n",
    "ehren_force_1_0_atomic = evaluate_ehrenfest_force(one_dm_atomic, basis, one_point)\n",
    "\n",
    "# evaluate Ehrenfest force (α = 0.5 and β = 1) at one point using density matrix expressed w.r.t. atomic orbitals\n",
    "ehren_force_point5_1_atomic = evaluate_ehrenfest_force(one_dm_atomic, basis, one_point, alpha=0.5, beta=1)\n",
    "\n",
    "# evaluate Ehrenfest force (α = 1 and β = 0) at one point using density matrix expressed w.r.t. molecular orbitals\n",
    "ehren_force_1_0_molecular = evaluate_ehrenfest_force(one_dm_molecular, basis, one_point, transform=transform)\n",
    "\n",
    "print(\"Ehrenfest Force (α = 1 and β = 0) Evaluated with Density Matrix Expressed w.r.t. Atomic Orbitals:\")\n",
    "print(ehren_force_1_0_atomic)\n",
    "print()\n",
    "print(\"Ehrenfest Force (α = 0.5 and β = 1) Evaluated with Density Matrix Expressed w.r.t. Atomic Orbitals:\")\n",
    "print(ehren_force_point5_1_atomic)\n",
    "print()\n",
    "print(\"Ehrenfest Force (α = 1 and β = 0) Evaluated with Density Matrix Expressed w.r.t. Molecular Orbitals:\")\n",
    "print(ehren_force_1_0_molecular)"
   ]
  },
  {
   "cell_type": "markdown",
   "id": "6884bc57",
   "metadata": {},
   "source": [
    "### 2.4.3 Ehrenfest Hessian\n",
    "\n",
    "$$\n",
    "\\begin{equation}\n",
    "  \\begin{split}\n",
    "    H_{jk}(\\mathbf{r}_n | \\alpha, \\beta)\n",
    "    =&\n",
    "    - \\frac{\\partial}{\\partial r_k} F_j(\\mathbf{r}_n | \\alpha, \\beta)\\\\\n",
    "    =&\n",
    "    \\alpha\n",
    "    \\sum_i\n",
    "    \\left(\n",
    "      \\frac{\\partial^4}{\\partial r^2_i \\partial r_k \\partial r'_j} \\gamma(\\mathbf{r}, \\mathbf{r}')\n",
    "      +\\frac{\\partial^4}{\\partial r^2_i \\partial r'_j \\partial r'_k} \\gamma(\\mathbf{r}, \\mathbf{r}')\n",
    "    \\right)_{\\mathbf{r} = \\mathbf{r}' = \\mathbf{r}_n}\\\\\n",
    "    &- (1 - \\alpha)\n",
    "    \\sum_i\n",
    "    \\left(\n",
    "      \\frac{\\partial^4}{\\partial r^2_i \\partial r_j \\partial r_k} \\gamma(\\mathbf{r}, \\mathbf{r})\n",
    "      + \\frac{\\partial^4}{\\partial r^2_i \\partial r_j \\partial r'_k} \\gamma(\\mathbf{r}, \\mathbf{r})\n",
    "    \\right)_{\\mathbf{r} = \\mathbf{r}' = \\mathbf{r}_n}\\\\\n",
    "    &- (1 - 2\\alpha)\n",
    "    \\sum_i\n",
    "    \\left(\n",
    "      \\frac{\\partial^4}{\\partial r_i \\partial r_j \\partial r_k \\partial r'_i} \\gamma(\\mathbf{r}, \\mathbf{r})\n",
    "      + \\frac{\\partial^4}{\\partial r_i \\partial r_j \\partial r'_i \\partial r'_k} \\gamma(\\mathbf{r}, \\mathbf{r})\n",
    "    \\right)_{\\mathbf{r} = \\mathbf{r}' = \\mathbf{r}_n}\\\\\n",
    "    &+ \\frac{1}{2} \\sum_i \\delta_{ij} \\beta\n",
    "    \\frac{\\partial^2}{\\partial r_i \\partial r_k} \\nabla^2 \\rho(\\mathbf{r}_n)\\\\\n",
    "  \\end{split}\n",
    "\\end{equation}\n",
    "$$"
   ]
  },
  {
   "cell_type": "code",
   "execution_count": 14,
   "id": "51ddce6b",
   "metadata": {},
   "outputs": [
    {
     "name": "stdout",
     "output_type": "stream",
     "text": [
      "Ehrenfest Hessian (α = 1 and β = 0) Evaluated with Density Matrix Expressed w.r.t. Atomic Orbitals:\n",
      "[[[-32.99752919 139.01673775 199.86296432]\n",
      "  [137.49234144 106.06133076 347.33446009]\n",
      "  [196.97762135 348.24612957 384.32469864]]]\n",
      "\n",
      "Ehrenfest Hessian (α = 0.5 and β = 1) Evaluated with Density Matrix Expressed w.r.t. Atomic Orbitals:\n",
      "[[[-83.37210687 246.82506953 354.44022542]\n",
      "  [245.30067323 170.89842617 631.54343183]\n",
      "  [351.55488245 632.45510132 678.58032649]]]\n",
      "\n",
      "Ehrenfest Hessian (α = 1 and β = 0) Evaluated with Density Matrix Expressed w.r.t. Molecular Orbitals:\n",
      "[[[-1532.40831373  7667.06636586  9506.2190626 ]\n",
      "  [ 7503.88905373  6532.61010956 16813.21484291]\n",
      "  [ 9392.42939228 17036.14492026 16131.88547665]]]\n"
     ]
    }
   ],
   "source": [
    "from gbasis.evals.stress_tensor import evaluate_ehrenfest_hessian\n",
    "\n",
    "# evaluate Ehrenfest Hessian (α = 1 and β = 0) at one point using density matrix expressed w.r.t. atomic orbitals\n",
    "ehren_hess_1_0_atomic = evaluate_ehrenfest_hessian(one_dm_atomic, basis, one_point)\n",
    "\n",
    "# evaluate Ehrenfest Hessian (α = 0.5 and β = 1) at one point using density matrix expressed w.r.t. atomic orbitals\n",
    "ehren_hess_point5_1_atomic = evaluate_ehrenfest_hessian(one_dm_atomic, basis, one_point, alpha=0.5, beta=1)\n",
    "\n",
    "# evaluate Ehrenfest Hessian (α = 1 and β = 0) at one point using density matrix expressed w.r.t. molecular orbitals\n",
    "ehren_hess_1_0_molecular = evaluate_ehrenfest_hessian(one_dm_molecular, basis, one_point, transform=transform)\n",
    "\n",
    "print(\"Ehrenfest Hessian (α = 1 and β = 0) Evaluated with Density Matrix Expressed w.r.t. Atomic Orbitals:\")\n",
    "print(ehren_hess_1_0_atomic)\n",
    "print()\n",
    "print(\"Ehrenfest Hessian (α = 0.5 and β = 1) Evaluated with Density Matrix Expressed w.r.t. Atomic Orbitals:\")\n",
    "print(ehren_hess_point5_1_atomic)\n",
    "print()\n",
    "print(\"Ehrenfest Hessian (α = 1 and β = 0) Evaluated with Density Matrix Expressed w.r.t. Molecular Orbitals:\")\n",
    "print(ehren_hess_1_0_molecular)"
   ]
  },
  {
   "cell_type": "markdown",
   "id": "2d5e4f3b",
   "metadata": {},
   "source": [
    "### 2.4.4 Positive-Definite Kinetic Energy Density\n",
    "\n",
    "$$\n",
    "\\begin{equation}\n",
    "  \\begin{split}\n",
    "    t_+ (\\mathbf{r}_n)\n",
    "    &= \\frac{1}{2} \\left.\n",
    "      \\nabla_{\\mathbf{r}} \\cdot \\nabla_{\\mathbf{r}'} \\gamma(\\mathbf{r}, \\mathbf{r}')\n",
    "    \\right|_{\\mathbf{r} = \\mathbf{r}' = \\mathbf{r}_n}\\\\\n",
    "    &= \\frac{1}{2} \\left(\n",
    "      \\frac{\\partial^2}{\\partial x \\partial x'} \\gamma(\\mathbf{r}, \\mathbf{r}')\n",
    "      + \\frac{\\partial^2}{\\partial y \\partial y'} \\gamma(\\mathbf{r}, \\mathbf{r}')\n",
    "      + \\frac{\\partial^2}{\\partial z \\partial z'} \\gamma(\\mathbf{r}, \\mathbf{r}')\n",
    "    \\right)_{\\mathbf{r} = \\mathbf{r}' = \\mathbf{r}_n}\\\\\n",
    "  \\end{split}\n",
    "\\end{equation}\n",
    "$$"
   ]
  },
  {
   "cell_type": "code",
   "execution_count": 15,
   "id": "f49f0511",
   "metadata": {},
   "outputs": [
    {
     "name": "stdout",
     "output_type": "stream",
     "text": [
      "Positive-Definite Kinetic Energy Density Evaluated with Density Matrix Expressed w.r.t. Atomic Orbitals:\n",
      "[7.60627783]\n",
      "\n",
      "Positive-Definite Kinetic Energy Density Evaluated with Density Matrix Expressed w.r.t. Molecular Orbitals:\n",
      "[372.48619314]\n"
     ]
    }
   ],
   "source": [
    "from gbasis.evals.density import evaluate_posdef_kinetic_energy_density\n",
    "\n",
    "# evaluate positive-definite kinetic energy density at one point using density matrix \n",
    "# expressed w.r.t. atomic orbitals\n",
    "pos_def_T_atomic = evaluate_posdef_kinetic_energy_density(one_dm_atomic, basis, one_point)\n",
    "\n",
    "# evaluate positive-definite kinetic energy density at one point using density matrix \n",
    "# expressed w.r.t. molecular orbitals\n",
    "pos_def_T_molecular = evaluate_posdef_kinetic_energy_density(one_dm_molecular, basis, one_point, transform)\n",
    "\n",
    "print(\"Positive-Definite Kinetic Energy Density Evaluated with Density Matrix Expressed w.r.t. Atomic Orbitals:\")\n",
    "print(pos_def_T_atomic)\n",
    "print()\n",
    "print(\"Positive-Definite Kinetic Energy Density Evaluated with Density Matrix Expressed w.r.t. Molecular Orbitals:\")\n",
    "print(pos_def_T_molecular)"
   ]
  },
  {
   "cell_type": "markdown",
   "id": "c1caa1af",
   "metadata": {},
   "source": [
    "### 2.4.5 General Form of Kinetic Energy Density\n",
    "\n",
    "$$\n",
    "\\begin{equation}\n",
    "  t_{\\alpha} (\\mathbf{r}_n) = t_+(\\mathbf{r}_n) + \\alpha \\nabla^2 \\rho(\\mathbf{r}_n)\n",
    "\\end{equation}\n",
    "$$"
   ]
  },
  {
   "cell_type": "code",
   "execution_count": 16,
   "id": "531bbbef",
   "metadata": {},
   "outputs": [
    {
     "name": "stdout",
     "output_type": "stream",
     "text": [
      "General Form of Kinetic Energy Density (α = 1) Evaluated with Density Matrix Expressed w.r.t. Atomic Orbitals:\n",
      "[52.27018755]\n",
      "\n",
      "General Form of Kinetic Energy Density (α = 0.5) Evaluated with Density Matrix Expressed w.r.t. Atomic Orbitals:\n",
      "[29.93823269]\n",
      "\n",
      "General Form of Kinetic Energy Density (α = 1) Evaluated with Density Matrix Expressed w.r.t. Molecular Orbitals:\n",
      "[2525.80009721]\n"
     ]
    }
   ],
   "source": [
    "from gbasis.evals.density import evaluate_general_kinetic_energy_density\n",
    "\n",
    "# evaluate general form of kinetic energy density (α = 1) at one point using density matrix\n",
    "# expressed w.r.t. atomic orbitals\n",
    "general_T_1_atomic = evaluate_general_kinetic_energy_density(one_dm_atomic, basis, one_point, 1)\n",
    "\n",
    "# evaluate general form of kinetic energy density (α = 0.5) at one point using density matrix\n",
    "# expressed w.r.t. atomic orbitals\n",
    "general_T_point5_atomic = evaluate_general_kinetic_energy_density(one_dm_atomic, basis, one_point, 0.5)\n",
    "\n",
    "# evaluate general form of kinetic energy density (α = 1) at one point using density matrix\n",
    "# expressed w.r.t. molecular orbitals\n",
    "general_T_1_molecular = evaluate_general_kinetic_energy_density(one_dm_molecular, basis, one_point, 1, transform)\n",
    "\n",
    "print(\"General Form of Kinetic Energy Density (α = 1) Evaluated with Density Matrix Expressed w.r.t. Atomic Orbitals:\")\n",
    "print(general_T_1_atomic)\n",
    "print()\n",
    "print(\"General Form of Kinetic Energy Density (α = 0.5) Evaluated with Density Matrix Expressed w.r.t. Atomic Orbitals:\")\n",
    "print(general_T_point5_atomic)\n",
    "print()\n",
    "print(\"General Form of Kinetic Energy Density (α = 1) Evaluated with Density Matrix Expressed w.r.t. Molecular Orbitals:\")\n",
    "print(general_T_1_molecular)"
   ]
  },
  {
   "cell_type": "markdown",
   "id": "431f2f95",
   "metadata": {},
   "source": [
    "# 3 Integrals"
   ]
  },
  {
   "cell_type": "markdown",
   "id": "7e7fc139",
   "metadata": {},
   "source": [
    "## 3.1 Overlap Integral\n",
    "\n",
    "$$\n",
    "\\begin{equation}\n",
    "  \\label{eq:overlap}\n",
    "  \\int \\phi_a (\\mathbf{r}) \\phi_b (\\mathbf{r}) d\\mathbf{r}\n",
    "\\end{equation}\n",
    "$$"
   ]
  },
  {
   "cell_type": "code",
   "execution_count": 17,
   "id": "c7edb109",
   "metadata": {},
   "outputs": [
    {
     "name": "stdout",
     "output_type": "stream",
     "text": [
      "Shape of Overlap Integral for Set of Atomic Orbitals (Number of AOs, Number of AOs):\n",
      "(18, 18)\n",
      "\n",
      "Shape of Overlap Integral for Set of Molecular Orbitals (Number of MOs, Number of MOs):\n",
      "(14, 14)\n"
     ]
    }
   ],
   "source": [
    "from gbasis.integrals.overlap import overlap_integral\n",
    "\n",
    "# compute overlap of set of atomic orbitals\n",
    "atomic_overlap = overlap_integral(basis)\n",
    "\n",
    "# compute overlap of set of molecular orbitals\n",
    "molecular_overlap = overlap_integral(basis, transform)\n",
    "\n",
    "print(\"Shape of Overlap Integral for Set of Atomic Orbitals (Number of AOs, Number of AOs):\")\n",
    "print(atomic_overlap.shape)\n",
    "print()\n",
    "print(\"Shape of Overlap Integral for Set of Molecular Orbitals (Number of MOs, Number of MOs):\")\n",
    "print(molecular_overlap.shape)"
   ]
  },
  {
   "cell_type": "markdown",
   "id": "9d8f319b",
   "metadata": {},
   "source": [
    "### 3.1.1 Overlap Integral Between Two Different Basis Sets\n",
    "\n",
    "Overlap integrals between two different basis sets are supported i.e.,\n",
    "\n",
    "$$\n",
    "\\begin{equation}\n",
    "  \\label{eq:overlap}\n",
    "  \\int \\phi_a (\\mathbf{r}) \\psi_b (\\mathbf{r}) d\\mathbf{r}\n",
    "\\end{equation}\n",
    "$$"
   ]
  },
  {
   "cell_type": "code",
   "execution_count": 18,
   "id": "e7870168",
   "metadata": {},
   "outputs": [
    {
     "name": "stdout",
     "output_type": "stream",
     "text": [
      "Shape of Overlap Integral for Two Sets of Atomic Orbitals (Number of AOs, Number of AOs):\n",
      "(10, 10)\n",
      "\n",
      "Shape of Overlap Integral for Set of Molecular Orbitals and Set of Atomic Orbitals (Number of MOs, Number of AOs):\n",
      "(8, 10)\n"
     ]
    }
   ],
   "source": [
    "from gbasis.integrals.overlap_asymm import overlap_integral_asymmetric\n",
    "\n",
    "# create an ANO-RCC basis in spherical coordinates for Be-C (10 basis functions total)\n",
    "basis_dict_anorcc = parse_nwchem(\"data_anorcc.nwchem\")\n",
    "# NOTE: used HORTON's conversion factor for angstroms to bohr\n",
    "Be_C_basis = make_contractions(basis_dict, [\"Be\", \"C\"], np.array([[0, 0, 0], [1.0 * 1.0 / 0.5291772083, 0, 0]]))\n",
    "\n",
    "# compute overlap between two sets of atomic orbitals\n",
    "atomic_atomic_overlap = overlap_integral_asymmetric(Be_C_basis, Be_C_basis)\n",
    "\n",
    "# define a tranformation matrix to obtain 8 molecular orbitals from 10 atomic orbitals\n",
    "Be_C_transform = np.random.rand(8, 10)\n",
    "\n",
    "# compute overlap between set of molecular orbitals and set of atomic orbitals\n",
    "molecular_atomic_overlap = overlap_integral_asymmetric(Be_C_basis, Be_C_basis, transform_one=Be_C_transform)\n",
    "\n",
    "print(\"Shape of Overlap Integral for Two Sets of Atomic Orbitals (Number of AOs, Number of AOs):\")\n",
    "print(atomic_atomic_overlap.shape)\n",
    "print()\n",
    "print(\"Shape of Overlap Integral for Set of Molecular Orbitals and Set of Atomic Orbitals (Number of MOs, Number of AOs):\")\n",
    "print(molecular_atomic_overlap.shape)"
   ]
  },
  {
   "cell_type": "markdown",
   "id": "968a2c88",
   "metadata": {},
   "source": [
    "## 3.2 Multipole Moment Integral\n",
    "\n",
    "Multipole moment integral can be obtained for arbitrary moments.\n",
    "\n",
    "$$\n",
    "\\begin{equation}\n",
    "  \\label{eq:multipole}\n",
    "  \\int \\phi_a (\\mathbf{r}) (x - X_C)^{c_x} (y - Y_C)^{c_y} (z - Z_C)^{c_z} \\phi_b (\\mathbf{r}) d\\mathbf{r}\n",
    "\\end{equation}\n",
    "$$\n",
    "\n",
    "As an example, suppose the integral of the following moments is desired:\n",
    "\n",
    "$$\n",
    "\\begin{equation}\n",
    "  (x - 1.5)^2 (y - 2.5)^3 (z - 3.5)\n",
    "\\end{equation}\n",
    "$$\n",
    "$$\n",
    "\\begin{equation}\n",
    "  (x - 1.5) (y - 2.5)^2 (z - 3.5)^3\n",
    "\\end{equation}\n",
    "$$"
   ]
  },
  {
   "cell_type": "code",
   "execution_count": 19,
   "id": "2215b32f",
   "metadata": {},
   "outputs": [
    {
     "name": "stdout",
     "output_type": "stream",
     "text": [
      "Shape of Moment for Set of Atomic Orbitals (Number of AOs, Number of AOs, Number of Sets of Moment Orders):\n",
      "(18, 18, 2)\n",
      "\n",
      "Shape of Moment for Set of Molecular Orbitals (Number of MOs, Number of MOs, Number of Sets of Moment Orders):\n",
      "(14, 14, 2)\n"
     ]
    }
   ],
   "source": [
    "from gbasis.integrals.moment import moment_integral\n",
    "\n",
    "# compute moment of a set of atomic orbitals \n",
    "atomic_moment = moment_integral(basis, np.array([1.5, 2.5, 3.5]), np.array([[2, 3, 1], [1, 2, 3]]))\n",
    "\n",
    "# compute moment of a set of molecular orbitals\n",
    "molecular_moment = moment_integral(basis, np.array([1.5, 2.5, 3.5]), np.array([[2, 3, 1], [1, 2, 3]]), transform)\n",
    "\n",
    "print(\"Shape of Moment for Set of Atomic Orbitals (Number of AOs, Number of AOs, Number of Sets of Moment Orders):\")\n",
    "print(atomic_moment.shape)\n",
    "print()\n",
    "print(\"Shape of Moment for Set of Molecular Orbitals (Number of MOs, Number of MOs, Number of Sets of Moment Orders):\")\n",
    "print(molecular_moment.shape)"
   ]
  },
  {
   "cell_type": "markdown",
   "id": "e4154060",
   "metadata": {},
   "source": [
    "## 3.3 Integrals Over Differential Operator\n",
    "\n",
    "Integrals over arbitrary differential operator (for Cartesian coordinates) are\n",
    "supported.\n",
    "\n",
    "$$\n",
    "\\begin{equation}\n",
    "  \\int\n",
    "  \\phi_a(\\mathbf{r}) \\frac{\\partial^{e+f+g}}{\\partial x^e \\partial y^f \\partial z^g} \\phi_b(\\mathbf{r})\n",
    "  d\\mathbf{r}\n",
    "\\end{equation}\n",
    "$$"
   ]
  },
  {
   "cell_type": "markdown",
   "id": "e3c62733",
   "metadata": {},
   "source": [
    "### 3.3.1 Kinetic Energy Integral\n",
    "\n",
    "$$\n",
    "\\begin{equation}\n",
    "  \\label{eq:kinetic_energy}\n",
    "  \\begin{split}\n",
    "    \\left< \\hat{T} \\right>\n",
    "    &= \\int \\phi_a(\\mathbf{r}) \\left( -\\frac{1}{2} \\nabla^2 \\right) \\phi_b(\\mathbf{r}) d\\mathbf{r}\\\\\n",
    "    &= -\\frac{1}{2}\n",
    "    \\left(\n",
    "      \\int \\phi_a(\\mathbf{r}) \\frac{\\partial^2}{\\partial x^2} \\phi_b(\\mathbf{r}) d\\mathbf{r}\n",
    "      + \\int \\phi_a(\\mathbf{r}) \\frac{\\partial^2}{\\partial y^2} \\phi_b(\\mathbf{r}) d\\mathbf{r}\n",
    "      + \\int \\phi_a(\\mathbf{r}) \\frac{\\partial^2}{\\partial z^2} \\phi_b(\\mathbf{r}) d\\mathbf{r}\n",
    "    \\right)\n",
    "  \\end{split}\n",
    "\\end{equation}\n",
    "$$"
   ]
  },
  {
   "cell_type": "code",
   "execution_count": 20,
   "id": "f3c09040",
   "metadata": {},
   "outputs": [
    {
     "name": "stdout",
     "output_type": "stream",
     "text": [
      "Shape of Kinetic Energy Integral of Set of Atomic Orbitals (Number of AOs, Number of AOs):\n",
      "(18, 18)\n",
      "\n",
      "Shape of Kinetic Energy Integral of Set of Molecular Orbitals (Number of MOs, Number of MOs):\n",
      "(14, 14)\n"
     ]
    }
   ],
   "source": [
    "from gbasis.integrals.kinetic_energy import kinetic_energy_integral\n",
    "\n",
    "# compute kinetic energy integral of a set of atomic orbitals\n",
    "T_integral_atomic = kinetic_energy_integral(basis)\n",
    "\n",
    "# compute kinetic energy integral of a set of molecular orbitals\n",
    "T_integral_molecular = kinetic_energy_integral(basis, transform)\n",
    "\n",
    "print(\"Shape of Kinetic Energy Integral of Set of Atomic Orbitals (Number of AOs, Number of AOs):\")\n",
    "print(T_integral_atomic.shape)\n",
    "print()\n",
    "print(\"Shape of Kinetic Energy Integral of Set of Molecular Orbitals (Number of MOs, Number of MOs):\")\n",
    "print(T_integral_molecular.shape)"
   ]
  },
  {
   "cell_type": "markdown",
   "id": "b0570391",
   "metadata": {},
   "source": [
    "### 3.3.2 Momentum Integral\n",
    "\n",
    "$$\n",
    "\\begin{equation}\n",
    "  \\label{eq:momentum}\n",
    "  \\begin{split}\n",
    "    \\left< \\hat{\\mathbf{p}} \\right>\n",
    "    &= \\int \\phi_a(\\mathbf{r}) \\left( -i \\nabla \\right) \\phi_b(\\mathbf{r}) d\\mathbf{r}\\\\\n",
    "    &= -i\n",
    "    \\begin{bmatrix}\n",
    "      \\int \\phi_a(\\mathbf{r}) \\frac{\\partial}{\\partial x} \\phi_b(\\mathbf{r}) d\\mathbf{r}\\\\\\\\\n",
    "      \\int \\phi_a(\\mathbf{r}) \\frac{\\partial}{\\partial y} \\phi_b(\\mathbf{r}) d\\mathbf{r}\\\\\\\\\n",
    "      \\int \\phi_a(\\mathbf{r}) \\frac{\\partial}{\\partial z} \\phi_b(\\mathbf{r}) d\\mathbf{r}\n",
    "    \\end{bmatrix}\n",
    "  \\end{split}\n",
    "\\end{equation}\n",
    "$$"
   ]
  },
  {
   "cell_type": "code",
   "execution_count": 21,
   "id": "78b7f1c1",
   "metadata": {},
   "outputs": [
    {
     "name": "stdout",
     "output_type": "stream",
     "text": [
      "Shape of Momentum Integral of Set of Atomic Orbitals (Number of AOs, Number of AOs, 3):\n",
      "(18, 18, 3)\n",
      "\n",
      "Shape of Momentum Integral of Set of Molecular Orbitals (Number of MOs, Number of MOs, 3):\n",
      "(14, 14, 3)\n"
     ]
    }
   ],
   "source": [
    "from gbasis.integrals.momentum import momentum_integral\n",
    "\n",
    "# compute momentum integral of a set of atomic orbitals\n",
    "momentum_integral_atomic = momentum_integral(basis)\n",
    "\n",
    "# compute momentum integral of a set of molecular orbitals\n",
    "momentum_integral_molecular = momentum_integral(basis, transform)\n",
    "\n",
    "print(\"Shape of Momentum Integral of Set of Atomic Orbitals (Number of AOs, Number of AOs, 3):\")\n",
    "print(momentum_integral_atomic.shape)\n",
    "print()\n",
    "print(\"Shape of Momentum Integral of Set of Molecular Orbitals (Number of MOs, Number of MOs, 3):\")\n",
    "print(momentum_integral_molecular.shape)"
   ]
  },
  {
   "cell_type": "markdown",
   "id": "c034e8d6",
   "metadata": {},
   "source": [
    "### 3.3.3 Angular Momentum Integral\n",
    "\n",
    "$$\n",
    "\\begin{equation}\n",
    "  \\label{eq:angular_momentum}\n",
    "  \\begin{split}\n",
    "    \\left< \\hat{\\mathbf{L}} \\right>\n",
    "    &= \\int \\phi_a(\\mathbf{r}) \\left( -i \\mathbf{r} \\times \\nabla \\right) \\phi_b(\\mathbf{r}) d\\mathbf{r}\\\\\n",
    "    &= -i\n",
    "    \\begin{bmatrix}\n",
    "      \\int \\phi_a(\\mathbf{r}) y\\frac{\\partial}{\\partial z} \\phi_b(\\mathbf{r}) d\\mathbf{r}\n",
    "      - \\int \\phi_a(\\mathbf{r}) z\\frac{\\partial}{\\partial y} \\phi_b(\\mathbf{r}) d\\mathbf{r}\\\\\\\\\n",
    "      \\int \\phi_a(\\mathbf{r}) z\\frac{\\partial}{\\partial x} \\phi_b(\\mathbf{r}) d\\mathbf{r}\n",
    "      - \\int \\phi_a(\\mathbf{r}) x\\frac{\\partial}{\\partial z} \\phi_b(\\mathbf{r}) d\\mathbf{r}\\\\\\\\\n",
    "      \\int \\phi_a(\\mathbf{r}) x\\frac{\\partial}{\\partial y} \\phi_b(\\mathbf{r}) d\\mathbf{r}\n",
    "      - \\int \\phi_a(\\mathbf{r}) y\\frac{\\partial}{\\partial x} \\phi_b(\\mathbf{r}) d\\mathbf{r}\\\\\\\\\n",
    "    \\end{bmatrix}\n",
    "  \\end{split}\n",
    "\\end{equation}\n",
    "$$"
   ]
  },
  {
   "cell_type": "code",
   "execution_count": 22,
   "id": "5d21b326",
   "metadata": {},
   "outputs": [
    {
     "name": "stdout",
     "output_type": "stream",
     "text": [
      "Shape of Angular Momentum Integral of Set of Atomic Orbitals (Number of AOs, Number of AOs, 3):\n",
      "(18, 18, 3)\n",
      "\n",
      "Shape of Angular Momentum Integral of Set of Molecular Orbitals (Number of MOs, Number of MOs, 3):\n",
      "(14, 14, 3)\n"
     ]
    }
   ],
   "source": [
    "from gbasis.integrals.angular_momentum import angular_momentum_integral\n",
    "\n",
    "# compute angular momentum integral of a set of atomic orbitals\n",
    "ang_mom_integral_atomic = angular_momentum_integral(basis)\n",
    "\n",
    "# compute angular momentum integral of a set of molecular orbitals\n",
    "ang_mom_integral_molecular = angular_momentum_integral(basis, transform)\n",
    "\n",
    "print(\"Shape of Angular Momentum Integral of Set of Atomic Orbitals (Number of AOs, Number of AOs, 3):\")\n",
    "print(ang_mom_integral_atomic.shape)\n",
    "print()\n",
    "print(\"Shape of Angular Momentum Integral of Set of Molecular Orbitals (Number of MOs, Number of MOs, 3):\")\n",
    "print(ang_mom_integral_molecular.shape)"
   ]
  },
  {
   "cell_type": "markdown",
   "id": "b814c214",
   "metadata": {},
   "source": [
    "## 3.4 Integral for Interaction with Point Charge\n",
    "\n",
    "$$\n",
    "\\begin{equation}\n",
    "  \\label{eq:point_charge}\n",
    "  \\int \\phi_a(\\mathbf{r}) \\frac{1}{|\\mathbf{r} - \\mathbf{R}_C|} \\phi_b(\\mathbf{r}) d\\mathbf{r}\n",
    "\\end{equation}\n",
    "$$\n",
    "\n",
    "For example, suppose there are two point charges: $-3$ charge at $(0, 1, 2)$ and $+5$ charge\n",
    "at $(3, 4, 6)$:"
   ]
  },
  {
   "cell_type": "code",
   "execution_count": 23,
   "id": "40d2dd20",
   "metadata": {},
   "outputs": [
    {
     "name": "stdout",
     "output_type": "stream",
     "text": [
      "Shape of Integral for Interaction Between Point Charges and Set of Atomic Orbitals (Number of AOs, Number of AOs, Number of Point Charges):\n",
      "(18, 18, 2)\n",
      "\n",
      "Shape of Integral for Interaction Between Point Charges and Set of Molecular Orbitals (Number of MOs, Number of MOs, Number of Point Charges):\n",
      "(14, 14, 2)\n"
     ]
    }
   ],
   "source": [
    "from gbasis.integrals.point_charge import point_charge_integral\n",
    "\n",
    "# compute integral for interaction between these point charges and the set of atomic orbitals\n",
    "interaction_atomic = point_charge_integral(basis, np.array([[0, 1, 2], [3, 4, 6]]), np.array([-3, 5]))\n",
    "\n",
    "# compute integral for interaction between these point charges and the set of molecular orbitals\n",
    "interaction_molecular = point_charge_integral(basis, np.array([[0, 1, 2], [3, 4, 6]]), np.array([-3, 5]), transform)\n",
    "\n",
    "print(\"Shape of Integral for Interaction Between Point Charges and Set of Atomic Orbitals (Number of AOs, Number of AOs, Number of Point Charges):\")\n",
    "print(interaction_atomic.shape)\n",
    "print()\n",
    "print(\"Shape of Integral for Interaction Between Point Charges and Set of Molecular Orbitals (Number of MOs, Number of MOs, Number of Point Charges):\")\n",
    "print(interaction_molecular.shape)"
   ]
  },
  {
   "cell_type": "markdown",
   "id": "02659462",
   "metadata": {},
   "source": [
    "### 3.4.1 Nuclear-Electron Attraction Integral\n",
    "\n",
    "$$\n",
    "\\begin{equation}\n",
    "  \\label{eq:nuclear_electron_attraction}\n",
    "  \\int \\phi_a(\\mathbf{r}) \\frac{-Z_c}{|\\mathbf{r} - \\mathbf{R}_C|} \\phi_b(\\mathbf{r}) d\\mathbf{r}\n",
    "  =\n",
    "  -Z_C \\int \\phi_a(\\mathbf{r}) \\frac{1}{|\\mathbf{r} - \\mathbf{R}_C|} \\phi_b(\\mathbf{r}) d\\mathbf{r}\n",
    "\\end{equation}\n",
    "$$\n",
    "\n",
    "For example, suppose there are two nuclei: He at $(0, 1, 2)$ and Al at $(3, 4, 6)$:"
   ]
  },
  {
   "cell_type": "code",
   "execution_count": 24,
   "id": "2eda2953",
   "metadata": {},
   "outputs": [
    {
     "name": "stdout",
     "output_type": "stream",
     "text": [
      "Shape of Nuclear-Electron Attraction Integral of Set of Atomic Orbitals (Number of AOs, Number of AOs):\n",
      "(18, 18)\n",
      "\n",
      "Shape of Nuclear-Electron Attraction Integral of Set of Molecular Orbitals (Number of MOs, Number of MOs):\n",
      "(14, 14)\n"
     ]
    }
   ],
   "source": [
    "from gbasis.integrals.nuclear_electron_attraction import nuclear_electron_attraction_integral\n",
    "\n",
    "# compute nuclear-electron attraction integral of set of atomic orbitals\n",
    "Vne_atomic = nuclear_electron_attraction_integral(basis, np.array([[0, 1, 2], [3, 4, 6]]), np.array([2, 13]))\n",
    "\n",
    "# compute nuclear-electron attraction integral of set of molecular orbitals\n",
    "Vne_molecular = nuclear_electron_attraction_integral(basis, \n",
    "                                                     np.array([[0, 1, 2], [3, 4, 6]]), \n",
    "                                                     np.array([2, 13]), \n",
    "                                                     transform)\n",
    "\n",
    "print(\"Shape of Nuclear-Electron Attraction Integral of Set of Atomic Orbitals (Number of AOs, Number of AOs):\")\n",
    "print(Vne_atomic.shape)\n",
    "print()\n",
    "print(\"Shape of Nuclear-Electron Attraction Integral of Set of Molecular Orbitals (Number of MOs, Number of MOs):\")\n",
    "print(Vne_molecular.shape)"
   ]
  },
  {
   "cell_type": "markdown",
   "id": "8dc49c85",
   "metadata": {},
   "source": [
    "### 3.4.2 Electrostatic Potential\n",
    "\n",
    "$$\n",
    "\\begin{equation}\n",
    "  \\label{eq:nuclear_electron_attraction}\n",
    "  \\hspace{-3em}\n",
    "  - \\left(\n",
    "    - \\sum_A \\frac{Z_A}{|\\mathbf{R}_C - \\mathbf{R}_A|}\n",
    "    + \\sum_{ab} \\gamma_{ab} \\int \\phi_a(\\mathbf{r}) \\frac{-1}{|\\mathbf{r} - \\mathbf{R}_C|} \\phi_b(\\mathbf{r}) d\\mathbf{r}\n",
    "  \\right)\n",
    "  =\n",
    "  \\sum_A \\frac{Z_A}{|\\mathbf{R}_C - \\mathbf{R}_A|}\n",
    "  - \\sum_{ab} \\gamma_{ab} \\int \\phi_a(\\mathbf{r}) \\frac{1}{|\\mathbf{r} - \\mathbf{R}_C|} \\phi_b(\\mathbf{r}) d\\mathbf{r}\n",
    "\\end{equation}\n",
    "$$\n",
    "\n",
    "For example, suppose there are two nuclei, He at $(0, 1, 2)$ and Al at $(3, 4, 6)$, the electrostatic potential is measured at\n",
    "points $(0.5, 1.5, 2.5)$ and $(2.5, 3.5, 5.5)$, and the one-electron density\n",
    "matrix is known:"
   ]
  },
  {
   "cell_type": "code",
   "execution_count": 25,
   "id": "901aeb30",
   "metadata": {},
   "outputs": [
    {
     "name": "stdout",
     "output_type": "stream",
     "text": [
      "Electrostatic Potential Evaluated with Density Matrix Expressed w.r.t. Atomic Orbitals:\n",
      "[-4.52728449 11.68296016]\n",
      "\n",
      "Electrostatic Potential Evaluated with Density Matrix Expressed w.r.t. Molecular Orbitals:\n",
      "[-461.83163627 -169.93340194]\n"
     ]
    }
   ],
   "source": [
    "from gbasis.evals.electrostatic_potential import electrostatic_potential\n",
    "\n",
    "# compute electrostatic potential using density matrix expressed w.r.t. atomic orbitals\n",
    "ESP_atomic = electrostatic_potential(basis, \n",
    "                                     one_dm_atomic, \n",
    "                                     np.array([[0.5, 1.5, 2.5], [2.5, 3.5, 5.5]]), \n",
    "                                     np.array([[0, 1, 2], [3, 4, 6]]), \n",
    "                                     np.array([2, 13]))\n",
    "\n",
    "# compute electrostatic potential using density matrix expressed w.r.t. molecular orbitals\n",
    "ESP_molecular = electrostatic_potential(basis, \n",
    "                                        one_dm_molecular, \n",
    "                                        np.array([[0.5, 1.5, 2.5], [2.5, 3.5, 5.5]]), \n",
    "                                        np.array([[0, 1, 2], [3, 4, 6]]), \n",
    "                                        np.array([2, 13]),\n",
    "                                        transform)\n",
    "\n",
    "print(\"Electrostatic Potential Evaluated with Density Matrix Expressed w.r.t. Atomic Orbitals:\")\n",
    "print(ESP_atomic)\n",
    "print()\n",
    "print(\"Electrostatic Potential Evaluated with Density Matrix Expressed w.r.t. Molecular Orbitals:\")\n",
    "print(ESP_molecular)"
   ]
  },
  {
   "cell_type": "markdown",
   "id": "97918ba1",
   "metadata": {},
   "source": [
    "## 3.5 Electron-Electron Repulsion Integral\n",
    "\n",
    "In the Chemists' notation,\n",
    "\n",
    "$$\n",
    "\\begin{equation}\n",
    "  \\label{eq:elec_repulsion}\n",
    "  \\int \\phi^*_a(\\mathbf{r}_1) \\phi_b(\\mathbf{r}_1)\n",
    "  \\frac{1}{|\\mathbf{r}_1 - \\mathbf{r}_2|}\n",
    "  \\phi^*_c(\\mathbf{r}_2) \\phi_d(\\mathbf{r}_2) d\\mathbf{r}\n",
    "\\end{equation}\n",
    "$$\n",
    "\n",
    "In the Physicists' notation,\n",
    "\n",
    "$$\n",
    "\\begin{equation}\n",
    "  \\label{eq:elec_repulsion_phys}\n",
    "  \\int \\phi^*_a(\\mathbf{r}_1) \\phi^*_b(\\mathbf{r}_2)\n",
    "  \\frac{1}{|\\mathbf{r}_1 - \\mathbf{r}_2|}\n",
    "  \\phi_c(\\mathbf{r}_1) \\phi_d(\\mathbf{r}_2) d\\mathbf{r}\n",
    "\\end{equation}\n",
    "$$\n",
    "\n",
    "It may be useful to note that though both conventions are supported at the higher level, lower level code uses the Chemists’ notation."
   ]
  },
  {
   "cell_type": "code",
   "execution_count": 26,
   "id": "306952a9",
   "metadata": {},
   "outputs": [
    {
     "name": "stdout",
     "output_type": "stream",
     "text": [
      "Shape of Electron-Electron Repulsion Integral of a Set of Atomic Orbitals in Physicists' Notation (Number of AOs, Number of AOs, Number of AOs, Number of AOs):\n",
      "(18, 18, 18, 18)\n",
      "\n",
      "Shape of Electron-Electron Repulsion Integral of a Set of Molecular Orbitals in Physicists' Notation (Number of MOs, Number of MOs, Number of MOs, Number of MOs):\n",
      "(14, 14, 14, 14)\n",
      "\n",
      "Shape of Electron-Electron Repulsion Integral of a Set of Molecular Orbitals in Chemists' Notation (Number of MOs, Number of MOs, Number of MOs, Number of MOs):\n",
      "(14, 14, 14, 14)\n"
     ]
    }
   ],
   "source": [
    "from gbasis.integrals.electron_repulsion import electron_repulsion_integral\n",
    "\n",
    "# compute electron-electron repulsion integral of a set of atomic orbitals in Physicists' notation\n",
    "Vee_atomic_physicist = electron_repulsion_integral(basis)\n",
    "\n",
    "# compute electron-electron repulsion integral of a set of molecular orbitals in Physicists' notation\n",
    "Vee_molecular_physicist = electron_repulsion_integral(basis, transform)\n",
    "\n",
    "# compute electron-electron repulsion integral of a set of molecular orbitals in Chemists' notation\n",
    "Vee_molecular_chemist = electron_repulsion_integral(basis, transform, notation='chemist')\n",
    "\n",
    "print(\"Shape of Electron-Electron Repulsion Integral of a Set of Atomic Orbitals in Physicists' Notation (Number of AOs, Number of AOs, Number of AOs, Number of AOs):\")\n",
    "print(Vee_atomic_physicist.shape)\n",
    "print()\n",
    "print(\"Shape of Electron-Electron Repulsion Integral of a Set of Molecular Orbitals in Physicists' Notation (Number of MOs, Number of MOs, Number of MOs, Number of MOs):\")\n",
    "print(Vee_molecular_physicist.shape)\n",
    "print()\n",
    "print(\"Shape of Electron-Electron Repulsion Integral of a Set of Molecular Orbitals in Chemists' Notation (Number of MOs, Number of MOs, Number of MOs, Number of MOs):\")\n",
    "print(Vee_molecular_chemist.shape)"
   ]
  }
 ],
 "metadata": {
  "kernelspec": {
   "display_name": "Python 3 (ipykernel)",
   "language": "python",
   "name": "python3"
  },
  "language_info": {
   "codemirror_mode": {
    "name": "ipython",
    "version": 3
   },
   "file_extension": ".py",
   "mimetype": "text/x-python",
   "name": "python",
   "nbconvert_exporter": "python",
   "pygments_lexer": "ipython3",
   "version": "3.8.13"
  }
 },
 "nbformat": 4,
 "nbformat_minor": 5
}

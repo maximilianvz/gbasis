{
 "cells": [
  {
   "cell_type": "markdown",
   "id": "158f041c",
   "metadata": {},
   "source": [
    "# GBasis Tutorial - Evaluations"
   ]
  },
  {
   "cell_type": "markdown",
   "id": "27bcd2d2",
   "metadata": {},
   "source": [
    "# Table of Contents  \n",
    "\n",
    "- [Evaluations](#1-Evaluations)\n",
    "    - [1.1 Evaluation of Contractions](#1.1-Evaluation-of-Contractions)\n",
    "    - [1.2 Evaluation of Derivatives of Contractions](#1.2-Evaluation-of-Derivatives-of-Contractions)\n",
    "    - [1.3 Evaluations of Density Related Properties](#1.3-Evaluations-of-Density-Related-Properties)\n",
    "        - [1.3.1 Density](#1.3.1-Density)\n",
    "        - [1.3.2 Arbitrary Derivatives of Density](#1.3.2-Arbitrary-Derivatives-of-Density)\n",
    "        - [1.3.3 Gradient of Density](#1.3.3-Gradient-of-Density)\n",
    "        - [1.3.4 Laplacian of Density](#1.3.4-Laplacian-of-Density)\n",
    "        - [1.3.5 Hessian of Density](#1.3.5-Hessian-of-Density)\n",
    "    - [1.4 Evaluations of Density Matrix Related Properties](#1.4-Evaluations-of-Density-Matrix-Related-Properties)\n",
    "        - [1.4.1 Stress Tensor](#1.4.1-Stress-Tensor)\n",
    "        - [1.4.2 Ehrenfest Force](#1.4.2-Ehrenfest-Force)\n",
    "        - [1.4.3 Ehrenfest Hessian](#1.4.3-Ehrenfest-Hessian)\n",
    "        - [1.4.4 Positive-Definite Kinetic Energy Density](#1.4.4-Positive-Definite-Kinetic-Energy-Density)\n",
    "        - [1.4.5 General Form of Kinetic Energy Density](#1.4.5-General-Form-of-Kinetic-Energy-Density)"
   ]
  },
  {
   "cell_type": "markdown",
   "id": "7f5f9a95",
   "metadata": {},
   "source": [
    "In the examples in this notebook, we will ubiquitously make use of global variables that are defined in the code cell below. These examples will generally use a Krypton atom as the system of study, represented with the STO-6G basis set (`basis`). The STO-6G basis set assigns 18 basis functions (atomic orbitals, AOs) to Krypton. We define an arbitrary transformation matrix (`transform`) that can be used to obtain 14 molecular orbitals (MOs) from these 18 atomic orbitals. Separate one-electron density matrices expressed with respect to the AOs and MOs are generated randomly. Also, we randomly select Cartesian coordinates to represent rudimentary grids for showcasing functions in the `gbasis.evals` modules. After most code blocks, outputs of calculations, shapes of said outputs, or other clarifying information will be provided to justify that things work properly."
   ]
  },
  {
   "cell_type": "code",
   "execution_count": 1,
   "id": "19e73ac7",
   "metadata": {},
   "outputs": [],
   "source": [
    "import gbasis\n",
    "import numpy as np\n",
    "from gbasis.parsers import parse_nwchem, make_contractions\n",
    "\n",
    "# create an STO-6G basis in spherical coordinates for Kr (18 basis functions total)\n",
    "basis_dict = parse_nwchem(\"data_sto6g.nwchem\")\n",
    "basis = make_contractions(basis_dict, [\"Kr\"], np.array([[0, 0, 0]]), coord_types=\"spherical\")\n",
    "\n",
    "# define a tranformation matrix to obtain 14 molecular orbitals from 18 atomic orbitals\n",
    "transform = np.random.rand(14, 18)\n",
    "\n",
    "# the following represents a one-electron density matrix expressed w.r.t. atomic orbitals\n",
    "one_dm_atomic = np.random.rand(18, 18)\n",
    "one_dm_atomic += one_dm_atomic.T\n",
    "\n",
    "# the following represents the one-electron density matrix expressed w.r.t. molecular orbitals\n",
    "one_dm_molecular = np.random.rand(14, 14)\n",
    "one_dm_molecular += one_dm_molecular.T\n",
    "\n",
    "# define Cartesian coordinates of points in space (in atomic units) where basis functions are evaluated\n",
    "one_point = np.random.rand(1, 3)\n",
    "ten_points = np.random.rand(10, 3)"
   ]
  },
  {
   "cell_type": "markdown",
   "id": "8dd8b2d6",
   "metadata": {},
   "source": [
    "# 1 Evaluations"
   ]
  },
  {
   "cell_type": "markdown",
   "id": "47ec6a05",
   "metadata": {},
   "source": [
    "## 1.1 Evaluation of Contractions"
   ]
  },
  {
   "cell_type": "markdown",
   "id": "f2e472aa",
   "metadata": {},
   "source": [
    "The functions in the module `gbasis.evals.eval` return the evaluations of the contractions at different\n",
    "coordinates:\n",
    "\n",
    "$$\\begin{equation}\n",
    "  \\phi(\\mathbf{r}_n | \\mathbf{R}_{A}, \\mathbf{a}_j, \\mathbf{d}_k, \\boldsymbol{\\alpha})\n",
    "\\end{equation}$$\n",
    "\n",
    "The returned value is an array whose rows corresponds to the basis function and columns corresponds to the coordinate, $\\mathbf{r}_n$.These functions can be used to find the values of the orbitals at various points, such as a grid."
   ]
  },
  {
   "cell_type": "code",
   "execution_count": 2,
   "id": "58dfb69e",
   "metadata": {},
   "outputs": [
    {
     "name": "stdout",
     "output_type": "stream",
     "text": [
      "Shape of Atomic Orbital Evaluation (Number of AOs, Number of Evaluation Points):\n",
      "(18, 10)\n",
      "\n",
      "Shape of Molecular Orbital Evaluation (Number of MOs, Number of Evaluation Points):\n",
      "(14, 10)\n"
     ]
    }
   ],
   "source": [
    "from gbasis.evals.eval import evaluate_basis\n",
    "\n",
    "# evalute atomic orbitals at a ten points\n",
    "atomic_orb_evaluation = evaluate_basis(basis, ten_points)\n",
    "\n",
    "# evaluate molecular orbitals at ten points\n",
    "molecular_orb_evaluation = evaluate_basis(basis, ten_points, transform)\n",
    "\n",
    "# verify shapes of evaluations\n",
    "print(\"Shape of Atomic Orbital Evaluation (Number of AOs, Number of Evaluation Points):\")\n",
    "print(atomic_orb_evaluation.shape)\n",
    "print()\n",
    "print(\"Shape of Molecular Orbital Evaluation (Number of MOs, Number of Evaluation Points):\")\n",
    "print(molecular_orb_evaluation.shape)"
   ]
  },
  {
   "cell_type": "markdown",
   "id": "5a203295",
   "metadata": {},
   "source": [
    "## 1.2 Evaluation of Derivatives of Contractions"
   ]
  },
  {
   "cell_type": "markdown",
   "id": "a6acf87a",
   "metadata": {},
   "source": [
    "In `gbasis`, contractions can be derivatized to arbitrary orders. The functions in module `gbasis.evals.eval_deriv`\n",
    "return the evaluations of the given derivative of the contractions at different coordinates.\n",
    "\n",
    "$$\\begin{equation}\n",
    "  \\frac{\\partial^{m_x + m_y + m_z}}{\\partial x^{m_x} \\partial y^{m_y} \\partial z^{m_z}}\n",
    "  \\phi(\\mathbf{r}_n | \\mathbf{R}_{A}, \\mathbf{a}_j, \\mathbf{d}_k, \\boldsymbol{\\alpha})\n",
    "\\end{equation}$$\n",
    "\n",
    "The returned value is an array whose rows corresponds to the basis function and columns corresponds to the coordinate, $\\mathbf{r}_n$.\n",
    "\n",
    "In the example code cell below, presume the following derivative of the contraction is desired:\n",
    "\n",
    "$$\\frac{\\partial ^{3}}{\\partial x \\partial y^{2}}$$"
   ]
  },
  {
   "cell_type": "code",
   "execution_count": 3,
   "id": "a52bd7b7",
   "metadata": {},
   "outputs": [
    {
     "name": "stdout",
     "output_type": "stream",
     "text": [
      "Shape of Atomic Orbital Derivative Evaluation (Number of AOs, Number of Evaluation Points):\n",
      "(18, 10)\n",
      "\n",
      "Shape of Molecular Orbital Derivative Evaluation (Number of MOs, Number of Evaluation Points):\n",
      "(14, 10)\n"
     ]
    }
   ],
   "source": [
    "from gbasis.evals.eval_deriv import evaluate_deriv_basis\n",
    "\n",
    "# evaluate the derivatives of the atomic orbitals at ten points\n",
    "atomic_basis_deriv = evaluate_deriv_basis(basis, ten_points, np.array([1, 2, 0]))\n",
    "\n",
    "# evaluate the derivatives of the molecular orbitals at ten points\n",
    "molecular_basis_deriv = evaluate_deriv_basis(basis, ten_points, np.array([1, 2, 0]), transform)\n",
    "\n",
    "# verify shapes of derivative evaluations\n",
    "print(\"Shape of Atomic Orbital Derivative Evaluation (Number of AOs, Number of Evaluation Points):\")\n",
    "print(atomic_basis_deriv.shape)\n",
    "print()\n",
    "print(\"Shape of Molecular Orbital Derivative Evaluation (Number of MOs, Number of Evaluation Points):\")\n",
    "print(molecular_basis_deriv.shape)"
   ]
  },
  {
   "cell_type": "markdown",
   "id": "7ebd2510",
   "metadata": {},
   "source": [
    "## 1.3 Evaluations of Density Related Properties\n",
    "\n",
    "The functions in the module `gbasis.evals.density` return the evaluations of the\n",
    "density and its derivatives. Note that the examples below are not to be taken literally. The one-electron density matrices, expressed with respect to either atomic or molecular orbitals, were separately generated via `np.random.rand` and thus have no connection to one another. This method is not a bona fide way of approaching things."
   ]
  },
  {
   "cell_type": "markdown",
   "id": "437870c5",
   "metadata": {},
   "source": [
    "### 1.3.1 Density\n",
    "\n",
    "$$\\rho(\\mathbf{r}_n) = \\sum_{ij} \\gamma_{ij} \\phi_i(\\mathbf{r}_n) \\phi_j(\\mathbf{r}_n)$$"
   ]
  },
  {
   "cell_type": "code",
   "execution_count": 4,
   "id": "c276d946",
   "metadata": {},
   "outputs": [
    {
     "name": "stdout",
     "output_type": "stream",
     "text": [
      "Density Evaluated with Density Matrix Expressed w.r.t. Atomic Orbitals:\n",
      "[2.90165936 1.45118159 0.36542948 0.87592641 0.60812376 7.00597856\n",
      " 3.89780233 3.58529909 0.57136417 0.51064722]\n",
      "\n",
      "Density Evaluated with Density Matrix Expressed w.r.t. Molecular Orbitals:\n",
      "[132.79841517  68.32960722  24.34335058  48.14474849  34.89305913\n",
      " 316.14874928 164.15447597 179.41711158  33.18423148  30.20168381]\n"
     ]
    }
   ],
   "source": [
    "from gbasis.evals.density import evaluate_density\n",
    "\n",
    "# evaluate the density at ten points using the density matrix expressed w.r.t. atomic orbitals\n",
    "atomic_basis_density = evaluate_density(one_dm_atomic, basis, ten_points)\n",
    "\n",
    "# evaluate the density at ten points using the density matrix expressed w.r.t. molecular orbitals\n",
    "molecular_basis_density = evaluate_density(one_dm_molecular, basis, ten_points, transform)\n",
    "\n",
    "print(\"Density Evaluated with Density Matrix Expressed w.r.t. Atomic Orbitals:\")\n",
    "print(atomic_basis_density)\n",
    "print()\n",
    "print(\"Density Evaluated with Density Matrix Expressed w.r.t. Molecular Orbitals:\")\n",
    "print(molecular_basis_density)"
   ]
  },
  {
   "cell_type": "markdown",
   "id": "d8bd1c78",
   "metadata": {},
   "source": [
    "### 1.3.2 Arbitrary Derivatives of Density\n",
    "\n",
    "$$\\frac{\\partial^{L_x + L_y + L_z}}{\\partial x^{L_x} \\partial y^{L_y} \\partial z^{L_z}}\n",
    "  \\rho(\\mathbf{r}_n)\n",
    "  =\n",
    "  \\sum_{l_x=0}^{L_x} \\sum_{l_y=0}^{L_y} \\sum_{l_z=0}^{L_z}\n",
    "  \\binom{L_x}{l_x} \\binom{L_y}{l_y} \\binom{L_z}{l_z}\n",
    "  \\sum_{ij} \\gamma_{ij}\n",
    "  \\frac{\\partial^{l_x + l_y + l_z} \\rho(\\mathbf{r}_n)}{\\partial x^{l_x} \\partial y^{l_y} \\partial z^{l_z}}\n",
    "  \\frac{\n",
    "    \\partial^{L_x + L_y + L_z - l_x - l_y - l_z} \\rho(\\mathbf{r}_n)\n",
    "  }{\n",
    "    \\partial x^{L_x - l_x} \\partial y^{L_y - l_y} \\partial z^{L_z - l_z}\n",
    "  }$$\n",
    "  \n",
    "In the example code cell below, presume the following derivative of the density is desired:\n",
    "\n",
    "$$\\frac{\\partial ^{3}}{\\partial x \\partial y^{2}}$$"
   ]
  },
  {
   "cell_type": "code",
   "execution_count": 5,
   "id": "b2eeb316",
   "metadata": {},
   "outputs": [
    {
     "name": "stdout",
     "output_type": "stream",
     "text": [
      "Derivative of Density Evaluated with Density Matrix Expressed w.r.t. Atomic Orbitals:\n",
      "[-12.61923243]\n",
      "\n",
      "Derivative of Density Evaluated with Density Matrix Expressed w.r.t. Molecular Orbitals:\n",
      "[-599.32065679]\n"
     ]
    }
   ],
   "source": [
    "from gbasis.evals.density import evaluate_deriv_density\n",
    "\n",
    "# evaluate the derivative of density at one point using the density matrix expressed w.r.t. atomic orbitals\n",
    "atomic_basis_density_deriv = evaluate_deriv_density(np.array([1, 2, 0]), one_dm_atomic, basis, one_point)\n",
    "\n",
    "# evaluate the derivative of density at one point using the density matrix expressed w.r.t. molecular orbitals\n",
    "molecular_basis_density_deriv = evaluate_deriv_density(np.array([1, 2, 0]), \n",
    "                                                       one_dm_molecular, \n",
    "                                                       basis, \n",
    "                                                       one_point, \n",
    "                                                       transform)\n",
    "\n",
    "print(\"Derivative of Density Evaluated with Density Matrix Expressed w.r.t. Atomic Orbitals:\")\n",
    "print(atomic_basis_density_deriv)\n",
    "print()\n",
    "print(\"Derivative of Density Evaluated with Density Matrix Expressed w.r.t. Molecular Orbitals:\")\n",
    "print(molecular_basis_density_deriv)"
   ]
  },
  {
   "cell_type": "markdown",
   "id": "b26faa14",
   "metadata": {},
   "source": [
    "### 1.3.3 Gradient of Density\n",
    "\n",
    "$$\n",
    "\\begin{equation}\n",
    "  \\nabla \\rho(\\mathbf{r}_n)\n",
    "  =\n",
    "  \\begin{bmatrix}\n",
    "    \\frac{\\partial}{\\partial x} \\rho(\\mathbf{r}_n)\\\\\\\\\n",
    "    \\frac{\\partial}{\\partial y} \\rho(\\mathbf{r}_n)\\\\\\\\\n",
    "    \\frac{\\partial}{\\partial z} \\rho(\\mathbf{r}_n)\n",
    "  \\end{bmatrix}\\\\\n",
    "\\end{equation}\n",
    "$$"
   ]
  },
  {
   "cell_type": "code",
   "execution_count": 6,
   "id": "dc045642",
   "metadata": {},
   "outputs": [
    {
     "name": "stdout",
     "output_type": "stream",
     "text": [
      "Gradient of Density Evaluated with Density Matrix Expressed w.r.t. Atomic Orbitals:\n",
      "[[-0.86963512 -0.91667848 -0.38198339]]\n",
      "\n",
      "Gradient of Density Evaluated with Density Matrix Expressed w.r.t. Molecular Orbitals:\n",
      "[[-43.75545938 -45.18008291 -21.09337268]]\n"
     ]
    }
   ],
   "source": [
    "from gbasis.evals.density import evaluate_density_gradient\n",
    "\n",
    "# evaluate the gradient of density at one point using the density matrix expressed w.r.t. atomic orbitals\n",
    "atomic_basis_density_grad = evaluate_density_gradient(one_dm_atomic, basis, one_point)\n",
    "\n",
    "# evaluate the gradient of density at one point using the density matrix expressed w.r.t. molecular orbitals\n",
    "molecular_basis_density_grad = evaluate_density_gradient(one_dm_molecular, basis, one_point, transform)\n",
    "\n",
    "print(\"Gradient of Density Evaluated with Density Matrix Expressed w.r.t. Atomic Orbitals:\")\n",
    "print(atomic_basis_density_grad)\n",
    "print()\n",
    "print(\"Gradient of Density Evaluated with Density Matrix Expressed w.r.t. Molecular Orbitals:\")\n",
    "print(molecular_basis_density_grad)"
   ]
  },
  {
   "cell_type": "markdown",
   "id": "c125ac05",
   "metadata": {},
   "source": [
    "### 1.3.4 Laplacian of Density\n",
    "\n",
    "$$\n",
    "\\begin{equation}\n",
    "  \\nabla^2 \\rho(\\mathbf{r}_n)\n",
    "  =\n",
    "  \\frac{\\partial^2}{\\partial x^2} \\rho(\\mathbf{r}_n)\n",
    "  + \\frac{\\partial^2}{\\partial y^2} \\rho(\\mathbf{r}_n)\n",
    "  + \\frac{\\partial^2}{\\partial z^2} \\rho(\\mathbf{r}_n)\n",
    "\\end{equation}\n",
    "$$"
   ]
  },
  {
   "cell_type": "code",
   "execution_count": 7,
   "id": "43f77ba1",
   "metadata": {},
   "outputs": [
    {
     "name": "stdout",
     "output_type": "stream",
     "text": [
      "Laplacian of Density Evaluated with Density Matrix Expressed w.r.t. Atomic Orbitals:\n",
      "[2.15411865]\n",
      "\n",
      "Laplacian of Density Evaluated with Density Matrix Expressed w.r.t. Molecular Orbitals:\n",
      "[76.67375751]\n"
     ]
    }
   ],
   "source": [
    "from gbasis.evals.density import evaluate_density_laplacian\n",
    "\n",
    "# evaluate the Laplacian of density at one point using the density matrix expressed w.r.t. atomic orbitals\n",
    "atomic_basis_density_laplacian = evaluate_density_laplacian(one_dm_atomic, basis, one_point)\n",
    "\n",
    "# evaluate the Laplacian of density at one point using the density matrix expressed w.r.t. molecular orbitals\n",
    "molecular_basis_density_laplacian = evaluate_density_laplacian(one_dm_molecular, basis, one_point, transform)\n",
    "\n",
    "print(\"Laplacian of Density Evaluated with Density Matrix Expressed w.r.t. Atomic Orbitals:\")\n",
    "print(atomic_basis_density_laplacian)\n",
    "print()\n",
    "print(\"Laplacian of Density Evaluated with Density Matrix Expressed w.r.t. Molecular Orbitals:\")\n",
    "print(molecular_basis_density_laplacian)"
   ]
  },
  {
   "cell_type": "markdown",
   "id": "0594686e",
   "metadata": {},
   "source": [
    "### 1.3.5 Hessian of Density\n",
    "\n",
    "$$\n",
    "\\begin{equation}\n",
    "  H[\\rho(\\mathbf{r}_n)]\n",
    "  =\n",
    "  \\begin{bmatrix}\n",
    "    \\frac{\\partial^2}{\\partial x^2} \\rho(\\mathbf{r}_n) &\n",
    "    \\frac{\\partial^2}{\\partial x \\partial y} \\rho(\\mathbf{r}_n) &\n",
    "    \\frac{\\partial^2}{\\partial x \\partial z} \\rho(\\mathbf{r}_n)\\\\\\\\\n",
    "    \\frac{\\partial^2}{\\partial x \\partial y} \\rho(\\mathbf{r}_n) &\n",
    "    \\frac{\\partial^2}{\\partial y^2} \\rho(\\mathbf{r}_n)&\n",
    "    \\frac{\\partial^2}{\\partial y \\partial z} \\rho(\\mathbf{r}_n)\\\\\\\\\n",
    "    \\frac{\\partial^2}{\\partial x \\partial z} \\rho(\\mathbf{r}_n) &\n",
    "    \\frac{\\partial^2}{\\partial z^2} \\rho(\\mathbf{r}_n)&\n",
    "    \\frac{\\partial^2}{\\partial x \\partial z} \\rho(\\mathbf{r}_n)\\\\\n",
    "  \\end{bmatrix}\\\\\n",
    "\\end{equation}\n",
    "$$"
   ]
  },
  {
   "cell_type": "code",
   "execution_count": 8,
   "id": "d8a1f693",
   "metadata": {},
   "outputs": [
    {
     "name": "stdout",
     "output_type": "stream",
     "text": [
      "Hessian of Density Evaluated with Density Matrix Expressed w.r.t. Atomic Orbitals:\n",
      "[[[ 1.40967964  3.18167034  1.46373454]\n",
      "  [ 3.18167034  1.69990833  1.65721952]\n",
      "  [ 1.46373454  1.65721952 -0.95546933]]]\n",
      "\n",
      "Hessian of Density Evaluated with Density Matrix Expressed w.r.t. Molecular Orbitals:\n",
      "[[[ 52.750979   146.24279542  62.03805264]\n",
      "  [146.24279542  74.67086116  74.09306081]\n",
      "  [ 62.03805264  74.09306081 -50.74808264]]]\n"
     ]
    }
   ],
   "source": [
    "from gbasis.evals.density import evaluate_density_hessian\n",
    "\n",
    "# evaluate the Hessian of density at one point using the density matrix expressed w.r.t. atomic orbitals\n",
    "atomic_basis_density_hess = evaluate_density_hessian(one_dm_atomic, basis, one_point)\n",
    "\n",
    "# evaluate the Hessian of density at one point using the density matrix expressed w.r.t. molecular orbitals\n",
    "molecular_basis_density_hess = evaluate_density_hessian(one_dm_molecular, basis, one_point, transform)\n",
    "\n",
    "print(\"Hessian of Density Evaluated with Density Matrix Expressed w.r.t. Atomic Orbitals:\")\n",
    "print(atomic_basis_density_hess)\n",
    "print()\n",
    "print(\"Hessian of Density Evaluated with Density Matrix Expressed w.r.t. Molecular Orbitals:\")\n",
    "print(molecular_basis_density_hess)"
   ]
  },
  {
   "cell_type": "markdown",
   "id": "575a9ccc",
   "metadata": {},
   "source": [
    "## 1.4 Evaluations of Density Matrix Related Properties"
   ]
  },
  {
   "cell_type": "markdown",
   "id": "774d3216",
   "metadata": {},
   "source": [
    "Given the density matrix,\n",
    "\n",
    "$$\n",
    "\\begin{equation}\n",
    "  \\gamma(\\mathbf{r}_1, \\mathbf{r}_2)\n",
    "  = \\sum_{ij} \\gamma_{ij} \\phi_i(\\mathbf{r}_1) \\phi_j(\\mathbf{r}_2)\n",
    "\\end{equation}\n",
    "$$\n",
    "\n",
    "many properties can be defined by evaluating the derivatives of the density\n",
    "matrix at the same coordinate:\n",
    "\n",
    "$$\n",
    "\\begin{equation}\n",
    "  \\left.\n",
    "    \\frac{\\partial^{p_x + p_y + p_z}}{\\partial x_1^{p_x} \\partial y_1^{p_y} \\partial z_1^{p_z}}\n",
    "    \\frac{\\partial^{q_x + q_y + q_z}}{\\partial x_2^{q_x} \\partial y_2^{q_y} \\partial z_2^{q_z}}\n",
    "    \\gamma(\\mathbf{r}_1, \\mathbf{r}_2)\n",
    "  \\right|_{\\mathbf{r}_1 = \\mathbf{r}_2 = \\mathbf{r}_n} =\n",
    "  \\sum_{ij} \\gamma_{ij}\n",
    "  \\left.\n",
    "    \\frac{\\partial^{p_x + p_y + p_z}}{\\partial x_1^{p_x} \\partial y_1^{p_y} \\partial z_1^{p_z}}\n",
    "    \\phi_i(\\mathbf{r}_1)\n",
    "  \\right|_{\\mathbf{r}_1 = \\mathbf{r}_n}\n",
    "  \\left.\n",
    "    \\frac{\\partial^{q_x + q_y + q_z}}{\\partial x_2^{q_x} \\partial y_2^{q_y} \\partial z_2^{q_z}}\n",
    "    \\phi_j(\\mathbf{r}_2)\n",
    "  \\right|_{\\mathbf{r}_1 = \\mathbf{r}_n}\n",
    "\\end{equation}\n",
    "$$\n",
    "\n",
    "where $\\mathbf{r}_1$ is the first coordinate, $\\mathbf{r}_2$ is the second\n",
    "coordinate, and $\\mathbf{r}_n$ is the coordinate at which the derivative is\n",
    "evaluated.\n",
    "\n",
    "Since $\\gamma_{ij}$ is symmetric,\n",
    "\n",
    "$$\n",
    "\\begin{equation}\n",
    "  \\left.\n",
    "    \\frac{\\partial^{p_x + p_y + p_z}}{\\partial x_1^{p_x} \\partial y_1^{p_y} \\partial z_1^{p_z}}\n",
    "    \\frac{\\partial^{q_x + q_y + q_z}}{\\partial x_2^{q_x} \\partial y_2^{q_y} \\partial z_2^{q_z}}\n",
    "    \\gamma(\\mathbf{r}_1, \\mathbf{r}_2)\n",
    "  \\right|_{\\mathbf{r}_1 = \\mathbf{r}_2 = \\mathbf{r}_n} =\n",
    "  \\left.\n",
    "    \\frac{\\partial^{q_x + q_y + q_z}}{\\partial x_1^{q_x} \\partial y_1^{q_y} \\partial z_1^{q_z}}\n",
    "    \\frac{\\partial^{p_x + p_y + p_z}}{\\partial x_2^{p_x} \\partial y_2^{p_y} \\partial z_2^{p_z}}\n",
    "    \\gamma(\\mathbf{r}_1, \\mathbf{r}_2)\n",
    "  \\right|_{\\mathbf{r}_1 = \\mathbf{r}_2 = \\mathbf{r}_n}\n",
    "\\end{equation}\n",
    "$$"
   ]
  },
  {
   "cell_type": "markdown",
   "id": "0ea10f7f",
   "metadata": {},
   "source": [
    "### 1.4.1 Stress Tensor\n",
    "\n",
    "$$\n",
    "\\begin{equation}\n",
    "  \\begin{split}\n",
    "    \\boldsymbol{\\sigma}_{ij}(\\mathbf{r}_n | \\alpha, \\beta)\n",
    "    =&\n",
    "    -\\frac{1}{2} \\alpha\n",
    "    \\left(\n",
    "      \\frac{\\partial^2}{\\partial r_i \\partial r'_j} \\gamma(\\mathbf{r}, \\mathbf{r}')\n",
    "      + \\frac{\\partial^2}{\\partial r_j \\partial r'_i} \\gamma(\\mathbf{r}, \\mathbf{r}')\n",
    "    \\right)_{\\mathbf{r} = \\mathbf{r}' = \\mathbf{r}_n}\\\\\n",
    "    & +\\frac{1}{2} (1 - \\alpha)\n",
    "    \\left(\n",
    "      \\frac{\\partial^2}{\\partial r_i \\partial r_j} \\gamma(\\mathbf{r}, \\mathbf{r})\n",
    "      + \\frac{\\partial^2}{\\partial r'_i \\partial r'_j} \\gamma(\\mathbf{r}, \\mathbf{r}')\n",
    "    \\right)_{\\mathbf{r} = \\mathbf{r}' = \\mathbf{r}_n}\\\\\n",
    "    & - \\frac{1}{2} \\delta_{ij} \\beta \\nabla^2 \\rho(\\mathbf{r}_n)\\\\\n",
    "    =&\n",
    "    - \\alpha\n",
    "    \\left.\n",
    "      \\frac{\\partial^2}{\\partial r_i \\partial r'_j} \\gamma(\\mathbf{r}, \\mathbf{r}')\n",
    "    \\right|_{\\mathbf{r} = \\mathbf{r}' = \\mathbf{r}_n}\n",
    "    + (1 - \\alpha)\n",
    "    \\left.\n",
    "      \\frac{\\partial^2}{\\partial r_i \\partial r_j} \\gamma(\\mathbf{r}, \\mathbf{r})\n",
    "    \\right|_{\\mathbf{r} = \\mathbf{r}' = \\mathbf{r}_n}\n",
    "    - \\frac{1}{2} \\delta_{ij} \\beta \\nabla^2 \\rho(\\mathbf{r}_n)\\\\\n",
    "  \\end{split}\n",
    "\\end{equation}\n",
    "$$"
   ]
  },
  {
   "cell_type": "code",
   "execution_count": 9,
   "id": "6e4aa440",
   "metadata": {},
   "outputs": [
    {
     "name": "stdout",
     "output_type": "stream",
     "text": [
      "Stress Tensor (α = 1 and β = 0) Evaluated with Density Matrix Expressed w.r.t. Atomic Orbitals:\n",
      "[[[-0.30493847 -0.31633197 -0.16569017]\n",
      "  [-0.31633197 -0.32113491 -0.18465825]\n",
      "  [-0.16569017 -0.18465825 -0.03921075]]]\n",
      "\n",
      "Stress Tensor (α = 0.5 and β = 1) Evaluated with Density Matrix Expressed w.r.t. Atomic Orbitals:\n",
      "[[[-1.02957788  0.47908561  0.20024346]\n",
      "  [ 0.47908561 -0.97321714  0.22964663]\n",
      "  [ 0.20024346  0.22964663 -1.35513741]]]\n",
      "\n",
      "Stress Tensor (α = 1 and β = 0) Evaluated with Density Matrix Expressed w.r.t. Molecular Orbitals:\n",
      "[[[-14.8799478  -15.3177832   -7.18596262]\n",
      "  [-15.3177832  -15.81040595  -7.39869291]\n",
      "  [ -7.18596262  -7.39869291  -3.46503335]]]\n"
     ]
    }
   ],
   "source": [
    "from gbasis.evals.stress_tensor import evaluate_stress_tensor\n",
    "\n",
    "# evaluate stress tensor (α = 1 and β = 0) at one point using density matrix expressed w.r.t. atomic orbitals\n",
    "stress_tensor_1_0_atomic = evaluate_stress_tensor(one_dm_atomic, basis, one_point)\n",
    "\n",
    "# evaluate stress tensor (α = 0.5 and β = 1) at one point using density matrix expressed w.r.t. atomic orbitals\n",
    "stress_tensor_point5_1_atomic = evaluate_stress_tensor(one_dm_atomic, basis, one_point, alpha=0.5, beta=1)\n",
    "\n",
    "# evaluate stress tensor (α = 1 and β = 0) at one point using density matrix expressed w.r.t. molecular orbitals\n",
    "stress_tensor_1_0_molecular = evaluate_stress_tensor(one_dm_molecular, basis, one_point, transform=transform)\n",
    "\n",
    "print(\"Stress Tensor (α = 1 and β = 0) Evaluated with Density Matrix Expressed w.r.t. Atomic Orbitals:\")\n",
    "print(stress_tensor_1_0_atomic)\n",
    "print()\n",
    "print(\"Stress Tensor (α = 0.5 and β = 1) Evaluated with Density Matrix Expressed w.r.t. Atomic Orbitals:\")\n",
    "print(stress_tensor_point5_1_atomic)\n",
    "print()\n",
    "print(\"Stress Tensor (α = 1 and β = 0) Evaluated with Density Matrix Expressed w.r.t. Molecular Orbitals:\")\n",
    "print(stress_tensor_1_0_molecular)"
   ]
  },
  {
   "cell_type": "markdown",
   "id": "7c6bf842",
   "metadata": {},
   "source": [
    "### 1.4.2 Ehrenfest Force\n",
    "\n",
    "Ehrenfest force is defined as the negative of the divergence of the stress tensor:\n",
    "\n",
    "$$\n",
    "\\begin{equation}\n",
    "  \\hspace{-4em}\n",
    "  \\begin{split}\n",
    "    F_{j}(\\mathbf{r}_n | \\alpha, \\beta)\n",
    "    =&\n",
    "    - \\sum_i \\frac{\\partial}{\\partial r_i} \\boldsymbol{\\sigma}_{ij}\\\\\n",
    "    =&\n",
    "    \\alpha\n",
    "    \\sum_i\n",
    "    \\left.\n",
    "      \\frac{\\partial^3}{\\partial r^2_i \\partial r'_j} \\gamma(\\mathbf{r}, \\mathbf{r}')\n",
    "    \\right|_{\\mathbf{r} = \\mathbf{r}' = \\mathbf{r}_n}\n",
    "    + \\alpha\n",
    "    \\sum_i\n",
    "    \\left.\n",
    "      \\frac{\\partial^3}{\\partial r_i \\partial r'_i \\partial r'_j} \\gamma(\\mathbf{r}, \\mathbf{r}')\n",
    "    \\right|_{\\mathbf{r} = \\mathbf{r}' = \\mathbf{r}_n}\\\\\n",
    "    &- (1 - \\alpha)\n",
    "    \\sum_i\n",
    "    \\left.\n",
    "      \\frac{\\partial^3}{\\partial r^2_i \\partial r_j} \\gamma(\\mathbf{r}, \\mathbf{r})\n",
    "    \\right|_{\\mathbf{r} = \\mathbf{r}' = \\mathbf{r}_n}\n",
    "    - (1 - \\alpha)\n",
    "    \\sum_i\n",
    "    \\left.\n",
    "      \\frac{\\partial^3}{\\partial r_i \\partial r_j \\partial r'_i} \\gamma(\\mathbf{r}, \\mathbf{r})\n",
    "    \\right|_{\\mathbf{r} = \\mathbf{r}' = \\mathbf{r}_n}\n",
    "    + \\frac{1}{2} \\sum_i \\delta_{ij} \\beta\n",
    "    \\frac{\\partial}{\\partial r_i} \\nabla^2 \\rho(\\mathbf{r}_n)\\\\\n",
    "    =&\n",
    "    \\alpha\n",
    "    \\sum_i\n",
    "    \\left.\n",
    "      \\frac{\\partial^3}{\\partial r^2_i \\partial r'_j} \\gamma(\\mathbf{r}, \\mathbf{r}')\n",
    "    \\right|_{\\mathbf{r} = \\mathbf{r}' = \\mathbf{r}_n}\\\\\n",
    "    &- (1 - \\alpha)\n",
    "    \\sum_i\n",
    "    \\left.\n",
    "      \\frac{\\partial^3}{\\partial r^2_i \\partial r_j} \\gamma(\\mathbf{r}, \\mathbf{r})\n",
    "    \\right|_{\\mathbf{r} = \\mathbf{r}' = \\mathbf{r}_n}\n",
    "    - (1 - 2\\alpha)\n",
    "    \\sum_i\n",
    "    \\left.\n",
    "      \\frac{\\partial^3}{\\partial r_i \\partial r_j \\partial r'_i} \\gamma(\\mathbf{r}, \\mathbf{r})\n",
    "    \\right|_{\\mathbf{r} = \\mathbf{r}' = \\mathbf{r}_n}\n",
    "    + \\frac{1}{2} \\sum_i \\delta_{ij} \\beta\n",
    "    \\frac{\\partial}{\\partial r_i} \\nabla^2 \\rho(\\mathbf{r}_n)\\\\\n",
    "  \\end{split}\n",
    "\\end{equation}\n",
    "$$"
   ]
  },
  {
   "cell_type": "code",
   "execution_count": 10,
   "id": "6fe2d43b",
   "metadata": {},
   "outputs": [
    {
     "name": "stdout",
     "output_type": "stream",
     "text": [
      "Ehrenfest Force (α = 1 and β = 0) Evaluated with Density Matrix Expressed w.r.t. Atomic Orbitals:\n",
      "[[-1.41496509 -1.51187623 -0.86337726]]\n",
      "\n",
      "Ehrenfest Force (α = 0.5 and β = 1) Evaluated with Density Matrix Expressed w.r.t. Atomic Orbitals:\n",
      "[[-4.62189075 -4.98051015 -2.56049273]]\n",
      "\n",
      "Ehrenfest Force (α = 1 and β = 0) Evaluated with Density Matrix Expressed w.r.t. Molecular Orbitals:\n",
      "[[-58.89244414 -66.66549698 -28.93395487]]\n"
     ]
    }
   ],
   "source": [
    "from gbasis.evals.stress_tensor import evaluate_ehrenfest_force\n",
    "\n",
    "# evaluate Ehrenfest force (α = 1 and β = 0) at one point using density matrix expressed w.r.t. atomic orbitals\n",
    "ehren_force_1_0_atomic = evaluate_ehrenfest_force(one_dm_atomic, basis, one_point)\n",
    "\n",
    "# evaluate Ehrenfest force (α = 0.5 and β = 1) at one point using density matrix expressed w.r.t. atomic orbitals\n",
    "ehren_force_point5_1_atomic = evaluate_ehrenfest_force(one_dm_atomic, basis, one_point, alpha=0.5, beta=1)\n",
    "\n",
    "# evaluate Ehrenfest force (α = 1 and β = 0) at one point using density matrix expressed w.r.t. molecular orbitals\n",
    "ehren_force_1_0_molecular = evaluate_ehrenfest_force(one_dm_molecular, basis, one_point, transform=transform)\n",
    "\n",
    "print(\"Ehrenfest Force (α = 1 and β = 0) Evaluated with Density Matrix Expressed w.r.t. Atomic Orbitals:\")\n",
    "print(ehren_force_1_0_atomic)\n",
    "print()\n",
    "print(\"Ehrenfest Force (α = 0.5 and β = 1) Evaluated with Density Matrix Expressed w.r.t. Atomic Orbitals:\")\n",
    "print(ehren_force_point5_1_atomic)\n",
    "print()\n",
    "print(\"Ehrenfest Force (α = 1 and β = 0) Evaluated with Density Matrix Expressed w.r.t. Molecular Orbitals:\")\n",
    "print(ehren_force_1_0_molecular)"
   ]
  },
  {
   "cell_type": "markdown",
   "id": "6884bc57",
   "metadata": {},
   "source": [
    "### 1.4.3 Ehrenfest Hessian\n",
    "\n",
    "$$\n",
    "\\begin{equation}\n",
    "  \\begin{split}\n",
    "    H_{jk}(\\mathbf{r}_n | \\alpha, \\beta)\n",
    "    =&\n",
    "    - \\frac{\\partial}{\\partial r_k} F_j(\\mathbf{r}_n | \\alpha, \\beta)\\\\\n",
    "    =&\n",
    "    \\alpha\n",
    "    \\sum_i\n",
    "    \\left(\n",
    "      \\frac{\\partial^4}{\\partial r^2_i \\partial r_k \\partial r'_j} \\gamma(\\mathbf{r}, \\mathbf{r}')\n",
    "      +\\frac{\\partial^4}{\\partial r^2_i \\partial r'_j \\partial r'_k} \\gamma(\\mathbf{r}, \\mathbf{r}')\n",
    "    \\right)_{\\mathbf{r} = \\mathbf{r}' = \\mathbf{r}_n}\\\\\n",
    "    &- (1 - \\alpha)\n",
    "    \\sum_i\n",
    "    \\left(\n",
    "      \\frac{\\partial^4}{\\partial r^2_i \\partial r_j \\partial r_k} \\gamma(\\mathbf{r}, \\mathbf{r})\n",
    "      + \\frac{\\partial^4}{\\partial r^2_i \\partial r_j \\partial r'_k} \\gamma(\\mathbf{r}, \\mathbf{r})\n",
    "    \\right)_{\\mathbf{r} = \\mathbf{r}' = \\mathbf{r}_n}\\\\\n",
    "    &- (1 - 2\\alpha)\n",
    "    \\sum_i\n",
    "    \\left(\n",
    "      \\frac{\\partial^4}{\\partial r_i \\partial r_j \\partial r_k \\partial r'_i} \\gamma(\\mathbf{r}, \\mathbf{r})\n",
    "      + \\frac{\\partial^4}{\\partial r_i \\partial r_j \\partial r'_i \\partial r'_k} \\gamma(\\mathbf{r}, \\mathbf{r})\n",
    "    \\right)_{\\mathbf{r} = \\mathbf{r}' = \\mathbf{r}_n}\\\\\n",
    "    &+ \\frac{1}{2} \\sum_i \\delta_{ij} \\beta\n",
    "    \\frac{\\partial^2}{\\partial r_i \\partial r_k} \\nabla^2 \\rho(\\mathbf{r}_n)\\\\\n",
    "  \\end{split}\n",
    "\\end{equation}\n",
    "$$"
   ]
  },
  {
   "cell_type": "code",
   "execution_count": 11,
   "id": "51ddce6b",
   "metadata": {},
   "outputs": [
    {
     "name": "stdout",
     "output_type": "stream",
     "text": [
      "Ehrenfest Hessian (α = 1 and β = 0) Evaluated with Density Matrix Expressed w.r.t. Atomic Orbitals:\n",
      "[[[ 8.42320069 11.89999613  4.92908575]\n",
      "  [11.56164249 10.23847743  5.86919801]\n",
      "  [ 5.33629865  6.3542741   0.87615231]]]\n",
      "\n",
      "Ehrenfest Hessian (α = 0.5 and β = 1) Evaluated with Density Matrix Expressed w.r.t. Atomic Orbitals:\n",
      "[[[20.39941716 30.21023314 12.92772012]\n",
      "  [29.8718795  24.6036006  15.25746587]\n",
      "  [13.33493303 15.74254195  0.62732543]]]\n",
      "\n",
      "Ehrenfest Hessian (α = 1 and β = 0) Evaluated with Density Matrix Expressed w.r.t. Molecular Orbitals:\n",
      "[[[370.57707383 527.12861017 230.7455958 ]\n",
      "  [509.06003919 470.33298949 264.36525094]\n",
      "  [230.63405437 273.00961185  26.25144407]]]\n"
     ]
    }
   ],
   "source": [
    "from gbasis.evals.stress_tensor import evaluate_ehrenfest_hessian\n",
    "\n",
    "# evaluate Ehrenfest Hessian (α = 1 and β = 0) at one point using density matrix expressed w.r.t. atomic orbitals\n",
    "ehren_hess_1_0_atomic = evaluate_ehrenfest_hessian(one_dm_atomic, basis, one_point)\n",
    "\n",
    "# evaluate Ehrenfest Hessian (α = 0.5 and β = 1) at one point using density matrix expressed w.r.t. atomic orbitals\n",
    "ehren_hess_point5_1_atomic = evaluate_ehrenfest_hessian(one_dm_atomic, basis, one_point, alpha=0.5, beta=1)\n",
    "\n",
    "# evaluate Ehrenfest Hessian (α = 1 and β = 0) at one point using density matrix expressed w.r.t. molecular orbitals\n",
    "ehren_hess_1_0_molecular = evaluate_ehrenfest_hessian(one_dm_molecular, basis, one_point, transform=transform)\n",
    "\n",
    "print(\"Ehrenfest Hessian (α = 1 and β = 0) Evaluated with Density Matrix Expressed w.r.t. Atomic Orbitals:\")\n",
    "print(ehren_hess_1_0_atomic)\n",
    "print()\n",
    "print(\"Ehrenfest Hessian (α = 0.5 and β = 1) Evaluated with Density Matrix Expressed w.r.t. Atomic Orbitals:\")\n",
    "print(ehren_hess_point5_1_atomic)\n",
    "print()\n",
    "print(\"Ehrenfest Hessian (α = 1 and β = 0) Evaluated with Density Matrix Expressed w.r.t. Molecular Orbitals:\")\n",
    "print(ehren_hess_1_0_molecular)"
   ]
  },
  {
   "cell_type": "markdown",
   "id": "2d5e4f3b",
   "metadata": {},
   "source": [
    "### 1.4.4 Positive-Definite Kinetic Energy Density\n",
    "\n",
    "$$\n",
    "\\begin{equation}\n",
    "  \\begin{split}\n",
    "    t_+ (\\mathbf{r}_n)\n",
    "    &= \\frac{1}{2} \\left.\n",
    "      \\nabla_{\\mathbf{r}} \\cdot \\nabla_{\\mathbf{r}'} \\gamma(\\mathbf{r}, \\mathbf{r}')\n",
    "    \\right|_{\\mathbf{r} = \\mathbf{r}' = \\mathbf{r}_n}\\\\\n",
    "    &= \\frac{1}{2} \\left(\n",
    "      \\frac{\\partial^2}{\\partial x \\partial x'} \\gamma(\\mathbf{r}, \\mathbf{r}')\n",
    "      + \\frac{\\partial^2}{\\partial y \\partial y'} \\gamma(\\mathbf{r}, \\mathbf{r}')\n",
    "      + \\frac{\\partial^2}{\\partial z \\partial z'} \\gamma(\\mathbf{r}, \\mathbf{r}')\n",
    "    \\right)_{\\mathbf{r} = \\mathbf{r}' = \\mathbf{r}_n}\\\\\n",
    "  \\end{split}\n",
    "\\end{equation}\n",
    "$$"
   ]
  },
  {
   "cell_type": "code",
   "execution_count": 12,
   "id": "f49f0511",
   "metadata": {},
   "outputs": [
    {
     "name": "stdout",
     "output_type": "stream",
     "text": [
      "Positive-Definite Kinetic Energy Density Evaluated with Density Matrix Expressed w.r.t. Atomic Orbitals:\n",
      "[0.33264206]\n",
      "\n",
      "Positive-Definite Kinetic Energy Density Evaluated with Density Matrix Expressed w.r.t. Molecular Orbitals:\n",
      "[17.07769355]\n"
     ]
    }
   ],
   "source": [
    "from gbasis.evals.density import evaluate_posdef_kinetic_energy_density\n",
    "\n",
    "# evaluate positive-definite kinetic energy density at one point using density matrix \n",
    "# expressed w.r.t. atomic orbitals\n",
    "pos_def_T_atomic = evaluate_posdef_kinetic_energy_density(one_dm_atomic, basis, one_point)\n",
    "\n",
    "# evaluate positive-definite kinetic energy density at one point using density matrix \n",
    "# expressed w.r.t. molecular orbitals\n",
    "pos_def_T_molecular = evaluate_posdef_kinetic_energy_density(one_dm_molecular, basis, one_point, transform)\n",
    "\n",
    "print(\"Positive-Definite Kinetic Energy Density Evaluated with Density Matrix Expressed w.r.t. Atomic Orbitals:\")\n",
    "print(pos_def_T_atomic)\n",
    "print()\n",
    "print(\"Positive-Definite Kinetic Energy Density Evaluated with Density Matrix Expressed w.r.t. Molecular Orbitals:\")\n",
    "print(pos_def_T_molecular)"
   ]
  },
  {
   "cell_type": "markdown",
   "id": "c1caa1af",
   "metadata": {},
   "source": [
    "### 1.4.5 General Form of Kinetic Energy Density\n",
    "\n",
    "$$\n",
    "\\begin{equation}\n",
    "  t_{\\alpha} (\\mathbf{r}_n) = t_+(\\mathbf{r}_n) + \\alpha \\nabla^2 \\rho(\\mathbf{r}_n)\n",
    "\\end{equation}\n",
    "$$"
   ]
  },
  {
   "cell_type": "code",
   "execution_count": 13,
   "id": "531bbbef",
   "metadata": {},
   "outputs": [
    {
     "name": "stdout",
     "output_type": "stream",
     "text": [
      "General Form of Kinetic Energy Density (α = 1) Evaluated with Density Matrix Expressed w.r.t. Atomic Orbitals:\n",
      "[2.48676071]\n",
      "\n",
      "General Form of Kinetic Energy Density (α = 0.5) Evaluated with Density Matrix Expressed w.r.t. Atomic Orbitals:\n",
      "[1.40970139]\n",
      "\n",
      "General Form of Kinetic Energy Density (α = 1) Evaluated with Density Matrix Expressed w.r.t. Molecular Orbitals:\n",
      "[93.75145106]\n"
     ]
    }
   ],
   "source": [
    "from gbasis.evals.density import evaluate_general_kinetic_energy_density\n",
    "\n",
    "# evaluate general form of kinetic energy density (α = 1) at one point using density matrix\n",
    "# expressed w.r.t. atomic orbitals\n",
    "general_T_1_atomic = evaluate_general_kinetic_energy_density(one_dm_atomic, basis, one_point, 1)\n",
    "\n",
    "# evaluate general form of kinetic energy density (α = 0.5) at one point using density matrix\n",
    "# expressed w.r.t. atomic orbitals\n",
    "general_T_point5_atomic = evaluate_general_kinetic_energy_density(one_dm_atomic, basis, one_point, 0.5)\n",
    "\n",
    "# evaluate general form of kinetic energy density (α = 1) at one point using density matrix\n",
    "# expressed w.r.t. molecular orbitals\n",
    "general_T_1_molecular = evaluate_general_kinetic_energy_density(one_dm_molecular, basis, one_point, 1, transform)\n",
    "\n",
    "print(\"General Form of Kinetic Energy Density (α = 1) Evaluated with Density Matrix Expressed w.r.t. Atomic Orbitals:\")\n",
    "print(general_T_1_atomic)\n",
    "print()\n",
    "print(\"General Form of Kinetic Energy Density (α = 0.5) Evaluated with Density Matrix Expressed w.r.t. Atomic Orbitals:\")\n",
    "print(general_T_point5_atomic)\n",
    "print()\n",
    "print(\"General Form of Kinetic Energy Density (α = 1) Evaluated with Density Matrix Expressed w.r.t. Molecular Orbitals:\")\n",
    "print(general_T_1_molecular)"
   ]
  }
 ],
 "metadata": {
  "kernelspec": {
   "display_name": "Python 3 (ipykernel)",
   "language": "python",
   "name": "python3"
  },
  "language_info": {
   "codemirror_mode": {
    "name": "ipython",
    "version": 3
   },
   "file_extension": ".py",
   "mimetype": "text/x-python",
   "name": "python",
   "nbconvert_exporter": "python",
   "pygments_lexer": "ipython3",
   "version": "3.8.13"
  }
 },
 "nbformat": 4,
 "nbformat_minor": 5
}

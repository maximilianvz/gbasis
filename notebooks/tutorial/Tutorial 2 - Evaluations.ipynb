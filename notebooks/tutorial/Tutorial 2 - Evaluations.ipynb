{
 "cells": [
  {
   "cell_type": "markdown",
   "id": "158f041c",
   "metadata": {},
   "source": [
    "# GBasis Tutorial - Evaluations"
   ]
  },
  {
   "cell_type": "markdown",
   "id": "27bcd2d2",
   "metadata": {},
   "source": [
    "# Table of Contents  \n",
    "\n",
    "- [Evaluations](#1-Evaluations)\n",
    "    - [1.1 Evaluation of Contractions](#1.1-Evaluation-of-Contractions)\n",
    "    - [1.2 Evaluation of Derivatives of Contractions](#1.2-Evaluation-of-Derivatives-of-Contractions)\n",
    "    - [1.3 Evaluations of Density Related Properties](#1.3-Evaluations-of-Density-Related-Properties)\n",
    "        - [1.3.1 Density](#1.3.1-Density)\n",
    "        - [1.3.2 Arbitrary Derivatives of Density](#1.3.2-Arbitrary-Derivatives-of-Density)\n",
    "        - [1.3.3 Gradient of Density](#1.3.3-Gradient-of-Density)\n",
    "        - [1.3.4 Laplacian of Density](#1.3.4-Laplacian-of-Density)\n",
    "        - [1.3.5 Hessian of Density](#1.3.5-Hessian-of-Density)\n",
    "    - [1.4 Evaluations of Density Matrix Related Properties](#1.4-Evaluations-of-Density-Matrix-Related-Properties)\n",
    "        - [1.4.1 Stress Tensor](#1.4.1-Stress-Tensor)\n",
    "        - [1.4.2 Ehrenfest Force](#1.4.2-Ehrenfest-Force)\n",
    "        - [1.4.3 Ehrenfest Hessian](#1.4.3-Ehrenfest-Hessian)\n",
    "        - [1.4.4 Positive-Definite Kinetic Energy Density](#1.4.4-Positive-Definite-Kinetic-Energy-Density)\n",
    "        - [1.4.5 General Form of Kinetic Energy Density](#1.4.5-General-Form-of-Kinetic-Energy-Density)"
   ]
  },
  {
   "cell_type": "markdown",
   "id": "7f5f9a95",
   "metadata": {},
   "source": [
    "In the examples in this notebook, we will ubiquitously make use of global variables that are defined in the code cell below. These examples will generally use a Krypton atom as the system of study, represented with the STO-6G basis set (`basis`). The STO-6G basis set assigns 18 basis functions (atomic orbitals, AOs) to Krypton. We define an arbitrary transformation matrix (`transform`) that can be used to obtain 18 molecular orbitals (MOs) from these 18 atomic orbitals. A one-electron density matrix is generated randomly. Also, we randomly select Cartesian coordinates to represent rudimentary grids for showcasing functions in the `gbasis.evals` modules. After most code blocks, outputs of calculations, shapes of said outputs, or other clarifying information will be provided to justify that things work properly."
   ]
  },
  {
   "cell_type": "code",
   "execution_count": 1,
   "id": "19e73ac7",
   "metadata": {},
   "outputs": [],
   "source": [
    "import gbasis\n",
    "import numpy as np\n",
    "from gbasis.parsers import parse_nwchem, make_contractions\n",
    "\n",
    "# create an STO-6G basis in spherical coordinates for Kr (18 basis functions total)\n",
    "basis_dict = parse_nwchem(\"data_sto6g.nwchem\")\n",
    "basis = make_contractions(basis_dict, [\"Kr\"], np.array([[0, 0, 0]]), coord_types=\"spherical\")\n",
    "\n",
    "# define a tranformation matrix to obtain 18 molecular orbitals from 18 atomic orbitals\n",
    "transform = np.random.rand(18, 18)\n",
    "\n",
    "# the following represents a one-electron density matrix\n",
    "one_dm = np.random.rand(18, 18)\n",
    "one_dm += one_dm.T\n",
    "\n",
    "# define Cartesian coordinates of points in space (in atomic units) where basis functions are evaluated\n",
    "one_point = np.random.rand(1, 3)\n",
    "ten_points = np.random.rand(10, 3)"
   ]
  },
  {
   "cell_type": "markdown",
   "id": "8dd8b2d6",
   "metadata": {},
   "source": [
    "# 1 Evaluations"
   ]
  },
  {
   "cell_type": "markdown",
   "id": "47ec6a05",
   "metadata": {},
   "source": [
    "## 1.1 Evaluation of Contractions"
   ]
  },
  {
   "cell_type": "markdown",
   "id": "f2e472aa",
   "metadata": {},
   "source": [
    "The functions in the module `gbasis.evals.eval` return the evaluations of the contractions at different\n",
    "coordinates:\n",
    "\n",
    "$$\\begin{equation}\n",
    "  \\phi(\\mathbf{r}_n | \\mathbf{R}_{A}, \\mathbf{a}_j, \\mathbf{d}_k, \\boldsymbol{\\alpha})\n",
    "\\end{equation}$$\n",
    "\n",
    "The returned value is an array whose rows corresponds to the basis function and columns corresponds to the coordinate, $\\mathbf{r}_n$.These functions can be used to find the values of the orbitals at various points, such as a grid."
   ]
  },
  {
   "cell_type": "code",
   "execution_count": 2,
   "id": "58dfb69e",
   "metadata": {},
   "outputs": [
    {
     "name": "stdout",
     "output_type": "stream",
     "text": [
      "Shape of Atomic Orbital Evaluation (Number of AOs, Number of Evaluation Points):\n",
      "(18, 10)\n",
      "\n",
      "Shape of Molecular Orbital Evaluation (Number of MOs, Number of Evaluation Points):\n",
      "(18, 10)\n"
     ]
    }
   ],
   "source": [
    "from gbasis.evals.eval import evaluate_basis\n",
    "\n",
    "# evalute atomic orbitals at a ten points\n",
    "atomic_orb_evaluation = evaluate_basis(basis, ten_points)\n",
    "\n",
    "# evaluate molecular orbitals at ten points\n",
    "molecular_orb_evaluation = evaluate_basis(basis, ten_points, transform)\n",
    "\n",
    "# verify shapes of evaluations\n",
    "print(\"Shape of Atomic Orbital Evaluation (Number of AOs, Number of Evaluation Points):\")\n",
    "print(atomic_orb_evaluation.shape)\n",
    "print()\n",
    "print(\"Shape of Molecular Orbital Evaluation (Number of MOs, Number of Evaluation Points):\")\n",
    "print(molecular_orb_evaluation.shape)"
   ]
  },
  {
   "cell_type": "markdown",
   "id": "5a203295",
   "metadata": {},
   "source": [
    "## 1.2 Evaluation of Derivatives of Contractions"
   ]
  },
  {
   "cell_type": "markdown",
   "id": "a6acf87a",
   "metadata": {},
   "source": [
    "In `gbasis`, contractions can be derivatized to arbitrary orders. The functions in module `gbasis.evals.eval_deriv`\n",
    "return the evaluations of the given derivative of the contractions at different coordinates.\n",
    "\n",
    "$$\\begin{equation}\n",
    "  \\frac{\\partial^{m_x + m_y + m_z}}{\\partial x^{m_x} \\partial y^{m_y} \\partial z^{m_z}}\n",
    "  \\phi(\\mathbf{r}_n | \\mathbf{R}_{A}, \\mathbf{a}_j, \\mathbf{d}_k, \\boldsymbol{\\alpha})\n",
    "\\end{equation}$$\n",
    "\n",
    "The returned value is an array whose rows corresponds to the basis function and columns corresponds to the coordinate, $\\mathbf{r}_n$.\n",
    "\n",
    "In the example code cell below, presume the following derivative of the contraction is desired:\n",
    "\n",
    "$$\\frac{\\partial ^{3}}{\\partial x \\partial y^{2}}$$"
   ]
  },
  {
   "cell_type": "code",
   "execution_count": 3,
   "id": "a52bd7b7",
   "metadata": {},
   "outputs": [
    {
     "name": "stdout",
     "output_type": "stream",
     "text": [
      "Shape of Atomic Orbital Derivative Evaluation (Number of AOs, Number of Evaluation Points):\n",
      "(18, 10)\n",
      "\n",
      "Shape of Molecular Orbital Derivative Evaluation (Number of MOs, Number of Evaluation Points):\n",
      "(18, 10)\n"
     ]
    }
   ],
   "source": [
    "from gbasis.evals.eval_deriv import evaluate_deriv_basis\n",
    "\n",
    "# evaluate the derivatives of the atomic orbitals at ten points\n",
    "atomic_basis_deriv = evaluate_deriv_basis(basis, ten_points, np.array([1, 2, 0]))\n",
    "\n",
    "# evaluate the derivatives of the molecular orbitals at ten points\n",
    "molecular_basis_deriv = evaluate_deriv_basis(basis, ten_points, np.array([1, 2, 0]), transform)\n",
    "\n",
    "# verify shapes of derivative evaluations\n",
    "print(\"Shape of Atomic Orbital Derivative Evaluation (Number of AOs, Number of Evaluation Points):\")\n",
    "print(atomic_basis_deriv.shape)\n",
    "print()\n",
    "print(\"Shape of Molecular Orbital Derivative Evaluation (Number of MOs, Number of Evaluation Points):\")\n",
    "print(molecular_basis_deriv.shape)"
   ]
  },
  {
   "cell_type": "markdown",
   "id": "7ebd2510",
   "metadata": {},
   "source": [
    "## 1.3 Evaluations of Density Related Properties\n",
    "\n",
    "The functions in the module `gbasis.evals.density` return the evaluations of the\n",
    "density and its derivatives. Note that the examples below are not to be taken literally. The one-electron density matrices, expressed with respect to either atomic or molecular orbitals, were separately generated via `np.random.rand` and thus have no connection to one another. This method is not a bona fide way of approaching things."
   ]
  },
  {
   "cell_type": "markdown",
   "id": "437870c5",
   "metadata": {},
   "source": [
    "### 1.3.1 Density\n",
    "\n",
    "$$\\rho(\\mathbf{r}_n) = \\sum_{ij} \\gamma_{ij} \\phi_i(\\mathbf{r}_n) \\phi_j(\\mathbf{r}_n)$$"
   ]
  },
  {
   "cell_type": "code",
   "execution_count": 4,
   "id": "c276d946",
   "metadata": {},
   "outputs": [
    {
     "name": "stdout",
     "output_type": "stream",
     "text": [
      "Density Evaluated with Density Matrix Expressed w.r.t. Atomic Orbitals:\n",
      "[ 8.33053535  1.52485541 13.66611092  0.78182131  0.94300825  5.35898483\n",
      "  3.64079124 29.41080977  1.06547365  1.03792558]\n",
      "\n",
      "Density Evaluated with Density Matrix Expressed w.r.t. Molecular Orbitals:\n",
      "[ 679.27207596  115.74140734 1106.38325166   58.55386393   69.60493446\n",
      "  438.69154932  257.80109904 2463.42491985   78.15377575   76.98588485]\n"
     ]
    }
   ],
   "source": [
    "from gbasis.evals.density import evaluate_density\n",
    "\n",
    "# evaluate the density at ten points using the density matrix expressed w.r.t. atomic orbitals\n",
    "atomic_basis_density = evaluate_density(one_dm, basis, ten_points)\n",
    "\n",
    "# evaluate the density at ten points using the density matrix expressed w.r.t. molecular orbitals\n",
    "molecular_basis_density = evaluate_density(one_dm, basis, ten_points, transform)\n",
    "\n",
    "print(\"Density Evaluated with Density Matrix Expressed w.r.t. Atomic Orbitals:\")\n",
    "print(atomic_basis_density)\n",
    "print()\n",
    "print(\"Density Evaluated with Density Matrix Expressed w.r.t. Molecular Orbitals:\")\n",
    "print(molecular_basis_density)"
   ]
  },
  {
   "cell_type": "markdown",
   "id": "d8bd1c78",
   "metadata": {},
   "source": [
    "### 1.3.2 Arbitrary Derivatives of Density\n",
    "\n",
    "$$\\frac{\\partial^{L_x + L_y + L_z}}{\\partial x^{L_x} \\partial y^{L_y} \\partial z^{L_z}}\n",
    "  \\rho(\\mathbf{r}_n)\n",
    "  =\n",
    "  \\sum_{l_x=0}^{L_x} \\sum_{l_y=0}^{L_y} \\sum_{l_z=0}^{L_z}\n",
    "  \\binom{L_x}{l_x} \\binom{L_y}{l_y} \\binom{L_z}{l_z}\n",
    "  \\sum_{ij} \\gamma_{ij}\n",
    "  \\frac{\\partial^{l_x + l_y + l_z} \\rho(\\mathbf{r}_n)}{\\partial x^{l_x} \\partial y^{l_y} \\partial z^{l_z}}\n",
    "  \\frac{\n",
    "    \\partial^{L_x + L_y + L_z - l_x - l_y - l_z} \\rho(\\mathbf{r}_n)\n",
    "  }{\n",
    "    \\partial x^{L_x - l_x} \\partial y^{L_y - l_y} \\partial z^{L_z - l_z}\n",
    "  }$$\n",
    "  \n",
    "In the example code cell below, presume the following derivative of the density is desired:\n",
    "\n",
    "$$\\frac{\\partial ^{3}}{\\partial x \\partial y^{2}}$$"
   ]
  },
  {
   "cell_type": "code",
   "execution_count": 5,
   "id": "b2eeb316",
   "metadata": {},
   "outputs": [
    {
     "name": "stdout",
     "output_type": "stream",
     "text": [
      "Derivative of Density Evaluated with Density Matrix Expressed w.r.t. Atomic Orbitals:\n",
      "[33.01117312]\n",
      "\n",
      "Derivative of Density Evaluated with Density Matrix Expressed w.r.t. Molecular Orbitals:\n",
      "[2242.20899611]\n"
     ]
    }
   ],
   "source": [
    "from gbasis.evals.density import evaluate_deriv_density\n",
    "\n",
    "# evaluate the derivative of density at one point using the density matrix expressed w.r.t. atomic orbitals\n",
    "atomic_basis_density_deriv = evaluate_deriv_density(np.array([1, 2, 0]), one_dm, basis, one_point)\n",
    "\n",
    "# evaluate the derivative of density at one point using the density matrix expressed w.r.t. molecular orbitals\n",
    "molecular_basis_density_deriv = evaluate_deriv_density(np.array([1, 2, 0]), \n",
    "                                                       one_dm, \n",
    "                                                       basis, \n",
    "                                                       one_point, \n",
    "                                                       transform)\n",
    "\n",
    "print(\"Derivative of Density Evaluated with Density Matrix Expressed w.r.t. Atomic Orbitals:\")\n",
    "print(atomic_basis_density_deriv)\n",
    "print()\n",
    "print(\"Derivative of Density Evaluated with Density Matrix Expressed w.r.t. Molecular Orbitals:\")\n",
    "print(molecular_basis_density_deriv)"
   ]
  },
  {
   "cell_type": "markdown",
   "id": "b26faa14",
   "metadata": {},
   "source": [
    "### 1.3.3 Gradient of Density\n",
    "\n",
    "$$\n",
    "\\begin{equation}\n",
    "  \\nabla \\rho(\\mathbf{r}_n)\n",
    "  =\n",
    "  \\begin{bmatrix}\n",
    "    \\frac{\\partial}{\\partial x} \\rho(\\mathbf{r}_n)\\\\\\\\\n",
    "    \\frac{\\partial}{\\partial y} \\rho(\\mathbf{r}_n)\\\\\\\\\n",
    "    \\frac{\\partial}{\\partial z} \\rho(\\mathbf{r}_n)\n",
    "  \\end{bmatrix}\\\\\n",
    "\\end{equation}\n",
    "$$"
   ]
  },
  {
   "cell_type": "code",
   "execution_count": 6,
   "id": "dc045642",
   "metadata": {},
   "outputs": [
    {
     "name": "stdout",
     "output_type": "stream",
     "text": [
      "Gradient of Density Evaluated with Density Matrix Expressed w.r.t. Atomic Orbitals:\n",
      "[[ 1.71079027 -4.36098206 -3.77213831]]\n",
      "\n",
      "Gradient of Density Evaluated with Density Matrix Expressed w.r.t. Molecular Orbitals:\n",
      "[[ 133.12673406 -307.9045288  -268.61004731]]\n"
     ]
    }
   ],
   "source": [
    "from gbasis.evals.density import evaluate_density_gradient\n",
    "\n",
    "# evaluate the gradient of density at one point using the density matrix expressed w.r.t. atomic orbitals\n",
    "atomic_basis_density_grad = evaluate_density_gradient(one_dm, basis, one_point)\n",
    "\n",
    "# evaluate the gradient of density at one point using the density matrix expressed w.r.t. molecular orbitals\n",
    "molecular_basis_density_grad = evaluate_density_gradient(one_dm, basis, one_point, transform)\n",
    "\n",
    "print(\"Gradient of Density Evaluated with Density Matrix Expressed w.r.t. Atomic Orbitals:\")\n",
    "print(atomic_basis_density_grad)\n",
    "print()\n",
    "print(\"Gradient of Density Evaluated with Density Matrix Expressed w.r.t. Molecular Orbitals:\")\n",
    "print(molecular_basis_density_grad)"
   ]
  },
  {
   "cell_type": "markdown",
   "id": "c125ac05",
   "metadata": {},
   "source": [
    "### 1.3.4 Laplacian of Density\n",
    "\n",
    "$$\n",
    "\\begin{equation}\n",
    "  \\nabla^2 \\rho(\\mathbf{r}_n)\n",
    "  =\n",
    "  \\frac{\\partial^2}{\\partial x^2} \\rho(\\mathbf{r}_n)\n",
    "  + \\frac{\\partial^2}{\\partial y^2} \\rho(\\mathbf{r}_n)\n",
    "  + \\frac{\\partial^2}{\\partial z^2} \\rho(\\mathbf{r}_n)\n",
    "\\end{equation}\n",
    "$$"
   ]
  },
  {
   "cell_type": "code",
   "execution_count": 7,
   "id": "43f77ba1",
   "metadata": {},
   "outputs": [
    {
     "name": "stdout",
     "output_type": "stream",
     "text": [
      "Laplacian of Density Evaluated with Density Matrix Expressed w.r.t. Atomic Orbitals:\n",
      "[19.47865914]\n",
      "\n",
      "Laplacian of Density Evaluated with Density Matrix Expressed w.r.t. Molecular Orbitals:\n",
      "[1426.08708519]\n"
     ]
    }
   ],
   "source": [
    "from gbasis.evals.density import evaluate_density_laplacian\n",
    "\n",
    "# evaluate the Laplacian of density at one point using the density matrix expressed w.r.t. atomic orbitals\n",
    "atomic_basis_density_laplacian = evaluate_density_laplacian(one_dm, basis, one_point)\n",
    "\n",
    "# evaluate the Laplacian of density at one point using the density matrix expressed w.r.t. molecular orbitals\n",
    "molecular_basis_density_laplacian = evaluate_density_laplacian(one_dm, basis, one_point, transform)\n",
    "\n",
    "print(\"Laplacian of Density Evaluated with Density Matrix Expressed w.r.t. Atomic Orbitals:\")\n",
    "print(atomic_basis_density_laplacian)\n",
    "print()\n",
    "print(\"Laplacian of Density Evaluated with Density Matrix Expressed w.r.t. Molecular Orbitals:\")\n",
    "print(molecular_basis_density_laplacian)"
   ]
  },
  {
   "cell_type": "markdown",
   "id": "0594686e",
   "metadata": {},
   "source": [
    "### 1.3.5 Hessian of Density\n",
    "\n",
    "$$\n",
    "\\begin{equation}\n",
    "  H[\\rho(\\mathbf{r}_n)]\n",
    "  =\n",
    "  \\begin{bmatrix}\n",
    "    \\frac{\\partial^2}{\\partial x^2} \\rho(\\mathbf{r}_n) &\n",
    "    \\frac{\\partial^2}{\\partial x \\partial y} \\rho(\\mathbf{r}_n) &\n",
    "    \\frac{\\partial^2}{\\partial x \\partial z} \\rho(\\mathbf{r}_n)\\\\\\\\\n",
    "    \\frac{\\partial^2}{\\partial x \\partial y} \\rho(\\mathbf{r}_n) &\n",
    "    \\frac{\\partial^2}{\\partial y^2} \\rho(\\mathbf{r}_n)&\n",
    "    \\frac{\\partial^2}{\\partial y \\partial z} \\rho(\\mathbf{r}_n)\\\\\\\\\n",
    "    \\frac{\\partial^2}{\\partial x \\partial z} \\rho(\\mathbf{r}_n) &\n",
    "    \\frac{\\partial^2}{\\partial z^2} \\rho(\\mathbf{r}_n)&\n",
    "    \\frac{\\partial^2}{\\partial x \\partial z} \\rho(\\mathbf{r}_n)\\\\\n",
    "  \\end{bmatrix}\\\\\n",
    "\\end{equation}\n",
    "$$"
   ]
  },
  {
   "cell_type": "code",
   "execution_count": 8,
   "id": "d8a1f693",
   "metadata": {},
   "outputs": [
    {
     "name": "stdout",
     "output_type": "stream",
     "text": [
      "Hessian of Density Evaluated with Density Matrix Expressed w.r.t. Atomic Orbitals:\n",
      "[[[-7.21338935 -7.48871076 -8.31582116]\n",
      "  [-7.48871076 17.21624711 23.27535782]\n",
      "  [-8.31582116 23.27535782  9.47580137]]]\n",
      "\n",
      "Hessian of Density Evaluated with Density Matrix Expressed w.r.t. Molecular Orbitals:\n",
      "[[[-521.07876175 -541.82466814 -614.24187133]\n",
      "  [-541.82466814 1207.473431   1660.34860197]\n",
      "  [-614.24187133 1660.34860197  739.69241593]]]\n"
     ]
    }
   ],
   "source": [
    "from gbasis.evals.density import evaluate_density_hessian\n",
    "\n",
    "# evaluate the Hessian of density at one point using the density matrix expressed w.r.t. atomic orbitals\n",
    "atomic_basis_density_hess = evaluate_density_hessian(one_dm, basis, one_point)\n",
    "\n",
    "# evaluate the Hessian of density at one point using the density matrix expressed w.r.t. molecular orbitals\n",
    "molecular_basis_density_hess = evaluate_density_hessian(one_dm, basis, one_point, transform)\n",
    "\n",
    "print(\"Hessian of Density Evaluated with Density Matrix Expressed w.r.t. Atomic Orbitals:\")\n",
    "print(atomic_basis_density_hess)\n",
    "print()\n",
    "print(\"Hessian of Density Evaluated with Density Matrix Expressed w.r.t. Molecular Orbitals:\")\n",
    "print(molecular_basis_density_hess)"
   ]
  },
  {
   "cell_type": "markdown",
   "id": "575a9ccc",
   "metadata": {},
   "source": [
    "## 1.4 Evaluations of Density Matrix Related Properties"
   ]
  },
  {
   "cell_type": "markdown",
   "id": "774d3216",
   "metadata": {},
   "source": [
    "Given the density matrix,\n",
    "\n",
    "$$\n",
    "\\begin{equation}\n",
    "  \\gamma(\\mathbf{r}_1, \\mathbf{r}_2)\n",
    "  = \\sum_{ij} \\gamma_{ij} \\phi_i(\\mathbf{r}_1) \\phi_j(\\mathbf{r}_2)\n",
    "\\end{equation}\n",
    "$$\n",
    "\n",
    "many properties can be defined by evaluating the derivatives of the density\n",
    "matrix at the same coordinate:\n",
    "\n",
    "$$\n",
    "\\begin{equation}\n",
    "  \\left.\n",
    "    \\frac{\\partial^{p_x + p_y + p_z}}{\\partial x_1^{p_x} \\partial y_1^{p_y} \\partial z_1^{p_z}}\n",
    "    \\frac{\\partial^{q_x + q_y + q_z}}{\\partial x_2^{q_x} \\partial y_2^{q_y} \\partial z_2^{q_z}}\n",
    "    \\gamma(\\mathbf{r}_1, \\mathbf{r}_2)\n",
    "  \\right|_{\\mathbf{r}_1 = \\mathbf{r}_2 = \\mathbf{r}_n} =\n",
    "  \\sum_{ij} \\gamma_{ij}\n",
    "  \\left.\n",
    "    \\frac{\\partial^{p_x + p_y + p_z}}{\\partial x_1^{p_x} \\partial y_1^{p_y} \\partial z_1^{p_z}}\n",
    "    \\phi_i(\\mathbf{r}_1)\n",
    "  \\right|_{\\mathbf{r}_1 = \\mathbf{r}_n}\n",
    "  \\left.\n",
    "    \\frac{\\partial^{q_x + q_y + q_z}}{\\partial x_2^{q_x} \\partial y_2^{q_y} \\partial z_2^{q_z}}\n",
    "    \\phi_j(\\mathbf{r}_2)\n",
    "  \\right|_{\\mathbf{r}_1 = \\mathbf{r}_n}\n",
    "\\end{equation}\n",
    "$$\n",
    "\n",
    "where $\\mathbf{r}_1$ is the first coordinate, $\\mathbf{r}_2$ is the second\n",
    "coordinate, and $\\mathbf{r}_n$ is the coordinate at which the derivative is\n",
    "evaluated.\n",
    "\n",
    "Since $\\gamma_{ij}$ is symmetric,\n",
    "\n",
    "$$\n",
    "\\begin{equation}\n",
    "  \\left.\n",
    "    \\frac{\\partial^{p_x + p_y + p_z}}{\\partial x_1^{p_x} \\partial y_1^{p_y} \\partial z_1^{p_z}}\n",
    "    \\frac{\\partial^{q_x + q_y + q_z}}{\\partial x_2^{q_x} \\partial y_2^{q_y} \\partial z_2^{q_z}}\n",
    "    \\gamma(\\mathbf{r}_1, \\mathbf{r}_2)\n",
    "  \\right|_{\\mathbf{r}_1 = \\mathbf{r}_2 = \\mathbf{r}_n} =\n",
    "  \\left.\n",
    "    \\frac{\\partial^{q_x + q_y + q_z}}{\\partial x_1^{q_x} \\partial y_1^{q_y} \\partial z_1^{q_z}}\n",
    "    \\frac{\\partial^{p_x + p_y + p_z}}{\\partial x_2^{p_x} \\partial y_2^{p_y} \\partial z_2^{p_z}}\n",
    "    \\gamma(\\mathbf{r}_1, \\mathbf{r}_2)\n",
    "  \\right|_{\\mathbf{r}_1 = \\mathbf{r}_2 = \\mathbf{r}_n}\n",
    "\\end{equation}\n",
    "$$"
   ]
  },
  {
   "cell_type": "markdown",
   "id": "0ea10f7f",
   "metadata": {},
   "source": [
    "### 1.4.1 Stress Tensor\n",
    "\n",
    "$$\n",
    "\\begin{equation}\n",
    "  \\begin{split}\n",
    "    \\boldsymbol{\\sigma}_{ij}(\\mathbf{r}_n | \\alpha, \\beta)\n",
    "    =&\n",
    "    -\\frac{1}{2} \\alpha\n",
    "    \\left(\n",
    "      \\frac{\\partial^2}{\\partial r_i \\partial r'_j} \\gamma(\\mathbf{r}, \\mathbf{r}')\n",
    "      + \\frac{\\partial^2}{\\partial r_j \\partial r'_i} \\gamma(\\mathbf{r}, \\mathbf{r}')\n",
    "    \\right)_{\\mathbf{r} = \\mathbf{r}' = \\mathbf{r}_n}\\\\\n",
    "    & +\\frac{1}{2} (1 - \\alpha)\n",
    "    \\left(\n",
    "      \\frac{\\partial^2}{\\partial r_i \\partial r_j} \\gamma(\\mathbf{r}, \\mathbf{r})\n",
    "      + \\frac{\\partial^2}{\\partial r'_i \\partial r'_j} \\gamma(\\mathbf{r}, \\mathbf{r}')\n",
    "    \\right)_{\\mathbf{r} = \\mathbf{r}' = \\mathbf{r}_n}\\\\\n",
    "    & - \\frac{1}{2} \\delta_{ij} \\beta \\nabla^2 \\rho(\\mathbf{r}_n)\\\\\n",
    "    =&\n",
    "    - \\alpha\n",
    "    \\left.\n",
    "      \\frac{\\partial^2}{\\partial r_i \\partial r'_j} \\gamma(\\mathbf{r}, \\mathbf{r}')\n",
    "    \\right|_{\\mathbf{r} = \\mathbf{r}' = \\mathbf{r}_n}\n",
    "    + (1 - \\alpha)\n",
    "    \\left.\n",
    "      \\frac{\\partial^2}{\\partial r_i \\partial r_j} \\gamma(\\mathbf{r}, \\mathbf{r})\n",
    "    \\right|_{\\mathbf{r} = \\mathbf{r}' = \\mathbf{r}_n}\n",
    "    - \\frac{1}{2} \\delta_{ij} \\beta \\nabla^2 \\rho(\\mathbf{r}_n)\\\\\n",
    "  \\end{split}\n",
    "\\end{equation}\n",
    "$$"
   ]
  },
  {
   "cell_type": "code",
   "execution_count": 9,
   "id": "6e4aa440",
   "metadata": {},
   "outputs": [
    {
     "name": "stdout",
     "output_type": "stream",
     "text": [
      "Stress Tensor (α = 1 and β = 0) Evaluated with Density Matrix Expressed w.r.t. Atomic Orbitals:\n",
      "[[[-0.77717472  1.60935069  1.40229567]\n",
      "  [ 1.60935069 -3.22194076 -2.79949973]\n",
      "  [ 1.40229567 -2.79949973 -2.29947534]]]\n",
      "\n",
      "Stress Tensor (α = 0.5 and β = 1) Evaluated with Density Matrix Expressed w.r.t. Atomic Orbitals:\n",
      "[[[-12.31985162  -0.262827    -0.67665962]\n",
      "  [ -0.262827    -8.65720855   3.01933972]\n",
      "  [ -0.67665962   3.01933972  -9.66985457]]]\n",
      "\n",
      "Stress Tensor (α = 1 and β = 0) Evaluated with Density Matrix Expressed w.r.t. Molecular Orbitals:\n",
      "[[[ -43.48271614  102.10737581   89.00543618]\n",
      "  [ 102.10737581 -235.97175535 -205.83996535]\n",
      "  [  89.00543618 -205.83996535 -179.56837671]]]\n"
     ]
    }
   ],
   "source": [
    "from gbasis.evals.stress_tensor import evaluate_stress_tensor\n",
    "\n",
    "# evaluate stress tensor (α = 1 and β = 0) at one point using density matrix expressed w.r.t. atomic orbitals\n",
    "stress_tensor_1_0_atomic = evaluate_stress_tensor(one_dm, basis, one_point)\n",
    "\n",
    "# evaluate stress tensor (α = 0.5 and β = 1) at one point using density matrix expressed w.r.t. atomic orbitals\n",
    "stress_tensor_point5_1_atomic = evaluate_stress_tensor(one_dm, basis, one_point, alpha=0.5, beta=1)\n",
    "\n",
    "# evaluate stress tensor (α = 1 and β = 0) at one point using density matrix expressed w.r.t. molecular orbitals\n",
    "stress_tensor_1_0_molecular = evaluate_stress_tensor(one_dm, basis, one_point, transform=transform)\n",
    "\n",
    "print(\"Stress Tensor (α = 1 and β = 0) Evaluated with Density Matrix Expressed w.r.t. Atomic Orbitals:\")\n",
    "print(stress_tensor_1_0_atomic)\n",
    "print()\n",
    "print(\"Stress Tensor (α = 0.5 and β = 1) Evaluated with Density Matrix Expressed w.r.t. Atomic Orbitals:\")\n",
    "print(stress_tensor_point5_1_atomic)\n",
    "print()\n",
    "print(\"Stress Tensor (α = 1 and β = 0) Evaluated with Density Matrix Expressed w.r.t. Molecular Orbitals:\")\n",
    "print(stress_tensor_1_0_molecular)"
   ]
  },
  {
   "cell_type": "markdown",
   "id": "7c6bf842",
   "metadata": {},
   "source": [
    "### 1.4.2 Ehrenfest Force\n",
    "\n",
    "Ehrenfest force is defined as the negative of the divergence of the stress tensor:\n",
    "\n",
    "$$\n",
    "\\begin{equation}\n",
    "  \\hspace{-4em}\n",
    "  \\begin{split}\n",
    "    F_{j}(\\mathbf{r}_n | \\alpha, \\beta)\n",
    "    =&\n",
    "    - \\sum_i \\frac{\\partial}{\\partial r_i} \\boldsymbol{\\sigma}_{ij}\\\\\n",
    "    =&\n",
    "    \\alpha\n",
    "    \\sum_i\n",
    "    \\left.\n",
    "      \\frac{\\partial^3}{\\partial r^2_i \\partial r'_j} \\gamma(\\mathbf{r}, \\mathbf{r}')\n",
    "    \\right|_{\\mathbf{r} = \\mathbf{r}' = \\mathbf{r}_n}\n",
    "    + \\alpha\n",
    "    \\sum_i\n",
    "    \\left.\n",
    "      \\frac{\\partial^3}{\\partial r_i \\partial r'_i \\partial r'_j} \\gamma(\\mathbf{r}, \\mathbf{r}')\n",
    "    \\right|_{\\mathbf{r} = \\mathbf{r}' = \\mathbf{r}_n}\\\\\n",
    "    &- (1 - \\alpha)\n",
    "    \\sum_i\n",
    "    \\left.\n",
    "      \\frac{\\partial^3}{\\partial r^2_i \\partial r_j} \\gamma(\\mathbf{r}, \\mathbf{r})\n",
    "    \\right|_{\\mathbf{r} = \\mathbf{r}' = \\mathbf{r}_n}\n",
    "    - (1 - \\alpha)\n",
    "    \\sum_i\n",
    "    \\left.\n",
    "      \\frac{\\partial^3}{\\partial r_i \\partial r_j \\partial r'_i} \\gamma(\\mathbf{r}, \\mathbf{r})\n",
    "    \\right|_{\\mathbf{r} = \\mathbf{r}' = \\mathbf{r}_n}\n",
    "    + \\frac{1}{2} \\sum_i \\delta_{ij} \\beta\n",
    "    \\frac{\\partial}{\\partial r_i} \\nabla^2 \\rho(\\mathbf{r}_n)\\\\\n",
    "    =&\n",
    "    \\alpha\n",
    "    \\sum_i\n",
    "    \\left.\n",
    "      \\frac{\\partial^3}{\\partial r^2_i \\partial r'_j} \\gamma(\\mathbf{r}, \\mathbf{r}')\n",
    "    \\right|_{\\mathbf{r} = \\mathbf{r}' = \\mathbf{r}_n}\\\\\n",
    "    &- (1 - \\alpha)\n",
    "    \\sum_i\n",
    "    \\left.\n",
    "      \\frac{\\partial^3}{\\partial r^2_i \\partial r_j} \\gamma(\\mathbf{r}, \\mathbf{r})\n",
    "    \\right|_{\\mathbf{r} = \\mathbf{r}' = \\mathbf{r}_n}\n",
    "    - (1 - 2\\alpha)\n",
    "    \\sum_i\n",
    "    \\left.\n",
    "      \\frac{\\partial^3}{\\partial r_i \\partial r_j \\partial r'_i} \\gamma(\\mathbf{r}, \\mathbf{r})\n",
    "    \\right|_{\\mathbf{r} = \\mathbf{r}' = \\mathbf{r}_n}\n",
    "    + \\frac{1}{2} \\sum_i \\delta_{ij} \\beta\n",
    "    \\frac{\\partial}{\\partial r_i} \\nabla^2 \\rho(\\mathbf{r}_n)\\\\\n",
    "  \\end{split}\n",
    "\\end{equation}\n",
    "$$"
   ]
  },
  {
   "cell_type": "code",
   "execution_count": 10,
   "id": "6fe2d43b",
   "metadata": {},
   "outputs": [
    {
     "name": "stdout",
     "output_type": "stream",
     "text": [
      "Ehrenfest Force (α = 1 and β = 0) Evaluated with Density Matrix Expressed w.r.t. Atomic Orbitals:\n",
      "[[  8.31233434 -25.46254211 -21.90063464]]\n",
      "\n",
      "Ehrenfest Force (α = 0.5 and β = 1) Evaluated with Density Matrix Expressed w.r.t. Atomic Orbitals:\n",
      "[[ 16.94848775 -53.22056907 -44.69515864]]\n",
      "\n",
      "Ehrenfest Force (α = 1 and β = 0) Evaluated with Density Matrix Expressed w.r.t. Molecular Orbitals:\n",
      "[[  518.52142456 -1898.95729258 -1693.92650237]]\n"
     ]
    }
   ],
   "source": [
    "from gbasis.evals.stress_tensor import evaluate_ehrenfest_force\n",
    "\n",
    "# evaluate Ehrenfest force (α = 1 and β = 0) at one point using density matrix expressed w.r.t. atomic orbitals\n",
    "ehren_force_1_0_atomic = evaluate_ehrenfest_force(one_dm, basis, one_point)\n",
    "\n",
    "# evaluate Ehrenfest force (α = 0.5 and β = 1) at one point using density matrix expressed w.r.t. atomic orbitals\n",
    "ehren_force_point5_1_atomic = evaluate_ehrenfest_force(one_dm, basis, one_point, alpha=0.5, beta=1)\n",
    "\n",
    "# evaluate Ehrenfest force (α = 1 and β = 0) at one point using density matrix expressed w.r.t. molecular orbitals\n",
    "ehren_force_1_0_molecular = evaluate_ehrenfest_force(one_dm, basis, one_point, transform=transform)\n",
    "\n",
    "print(\"Ehrenfest Force (α = 1 and β = 0) Evaluated with Density Matrix Expressed w.r.t. Atomic Orbitals:\")\n",
    "print(ehren_force_1_0_atomic)\n",
    "print()\n",
    "print(\"Ehrenfest Force (α = 0.5 and β = 1) Evaluated with Density Matrix Expressed w.r.t. Atomic Orbitals:\")\n",
    "print(ehren_force_point5_1_atomic)\n",
    "print()\n",
    "print(\"Ehrenfest Force (α = 1 and β = 0) Evaluated with Density Matrix Expressed w.r.t. Molecular Orbitals:\")\n",
    "print(ehren_force_1_0_molecular)"
   ]
  },
  {
   "cell_type": "markdown",
   "id": "6884bc57",
   "metadata": {},
   "source": [
    "### 1.4.3 Ehrenfest Hessian\n",
    "\n",
    "$$\n",
    "\\begin{equation}\n",
    "  \\begin{split}\n",
    "    H_{jk}(\\mathbf{r}_n | \\alpha, \\beta)\n",
    "    =&\n",
    "    - \\frac{\\partial}{\\partial r_k} F_j(\\mathbf{r}_n | \\alpha, \\beta)\\\\\n",
    "    =&\n",
    "    \\alpha\n",
    "    \\sum_i\n",
    "    \\left(\n",
    "      \\frac{\\partial^4}{\\partial r^2_i \\partial r_k \\partial r'_j} \\gamma(\\mathbf{r}, \\mathbf{r}')\n",
    "      +\\frac{\\partial^4}{\\partial r^2_i \\partial r'_j \\partial r'_k} \\gamma(\\mathbf{r}, \\mathbf{r}')\n",
    "    \\right)_{\\mathbf{r} = \\mathbf{r}' = \\mathbf{r}_n}\\\\\n",
    "    &- (1 - \\alpha)\n",
    "    \\sum_i\n",
    "    \\left(\n",
    "      \\frac{\\partial^4}{\\partial r^2_i \\partial r_j \\partial r_k} \\gamma(\\mathbf{r}, \\mathbf{r})\n",
    "      + \\frac{\\partial^4}{\\partial r^2_i \\partial r_j \\partial r'_k} \\gamma(\\mathbf{r}, \\mathbf{r})\n",
    "    \\right)_{\\mathbf{r} = \\mathbf{r}' = \\mathbf{r}_n}\\\\\n",
    "    &- (1 - 2\\alpha)\n",
    "    \\sum_i\n",
    "    \\left(\n",
    "      \\frac{\\partial^4}{\\partial r_i \\partial r_j \\partial r_k \\partial r'_i} \\gamma(\\mathbf{r}, \\mathbf{r})\n",
    "      + \\frac{\\partial^4}{\\partial r_i \\partial r_j \\partial r'_i \\partial r'_k} \\gamma(\\mathbf{r}, \\mathbf{r})\n",
    "    \\right)_{\\mathbf{r} = \\mathbf{r}' = \\mathbf{r}_n}\\\\\n",
    "    &+ \\frac{1}{2} \\sum_i \\delta_{ij} \\beta\n",
    "    \\frac{\\partial^2}{\\partial r_i \\partial r_k} \\nabla^2 \\rho(\\mathbf{r}_n)\\\\\n",
    "  \\end{split}\n",
    "\\end{equation}\n",
    "$$"
   ]
  },
  {
   "cell_type": "code",
   "execution_count": 11,
   "id": "51ddce6b",
   "metadata": {},
   "outputs": [
    {
     "name": "stdout",
     "output_type": "stream",
     "text": [
      "Ehrenfest Hessian (α = 1 and β = 0) Evaluated with Density Matrix Expressed w.r.t. Atomic Orbitals:\n",
      "[[[-37.74953766 -49.78906788 -51.05138539]\n",
      "  [-49.26668397 149.89202646 173.14530028]\n",
      "  [-52.33192784 176.44169882 102.75623304]]]\n",
      "\n",
      "Ehrenfest Hessian (α = 0.5 and β = 1) Evaluated with Density Matrix Expressed w.r.t. Atomic Orbitals:\n",
      "[[[ -78.21389678  -98.50039769 -101.65964122]\n",
      "  [ -97.97801378  275.53085505  326.70080588]\n",
      "  [-102.94018367  329.99720442  179.57184668]]]\n",
      "\n",
      "Ehrenfest Hessian (α = 1 and β = 0) Evaluated with Density Matrix Expressed w.r.t. Molecular Orbitals:\n",
      "[[[-2720.28324901 -3247.13838079 -3363.64035815]\n",
      "  [-3244.59371098 10895.99557808 13105.07531223]\n",
      "  [-3426.3938655  13257.63362655  8276.72940393]]]\n"
     ]
    }
   ],
   "source": [
    "from gbasis.evals.stress_tensor import evaluate_ehrenfest_hessian\n",
    "\n",
    "# evaluate Ehrenfest Hessian (α = 1 and β = 0) at one point using density matrix expressed w.r.t. atomic orbitals\n",
    "ehren_hess_1_0_atomic = evaluate_ehrenfest_hessian(one_dm, basis, one_point)\n",
    "\n",
    "# evaluate Ehrenfest Hessian (α = 0.5 and β = 1) at one point using density matrix expressed w.r.t. atomic orbitals\n",
    "ehren_hess_point5_1_atomic = evaluate_ehrenfest_hessian(one_dm, basis, one_point, alpha=0.5, beta=1)\n",
    "\n",
    "# evaluate Ehrenfest Hessian (α = 1 and β = 0) at one point using density matrix expressed w.r.t. molecular orbitals\n",
    "ehren_hess_1_0_molecular = evaluate_ehrenfest_hessian(one_dm, basis, one_point, transform=transform)\n",
    "\n",
    "print(\"Ehrenfest Hessian (α = 1 and β = 0) Evaluated with Density Matrix Expressed w.r.t. Atomic Orbitals:\")\n",
    "print(ehren_hess_1_0_atomic)\n",
    "print()\n",
    "print(\"Ehrenfest Hessian (α = 0.5 and β = 1) Evaluated with Density Matrix Expressed w.r.t. Atomic Orbitals:\")\n",
    "print(ehren_hess_point5_1_atomic)\n",
    "print()\n",
    "print(\"Ehrenfest Hessian (α = 1 and β = 0) Evaluated with Density Matrix Expressed w.r.t. Molecular Orbitals:\")\n",
    "print(ehren_hess_1_0_molecular)"
   ]
  },
  {
   "cell_type": "markdown",
   "id": "2d5e4f3b",
   "metadata": {},
   "source": [
    "### 1.4.4 Positive-Definite Kinetic Energy Density\n",
    "\n",
    "$$\n",
    "\\begin{equation}\n",
    "  \\begin{split}\n",
    "    t_+ (\\mathbf{r}_n)\n",
    "    &= \\frac{1}{2} \\left.\n",
    "      \\nabla_{\\mathbf{r}} \\cdot \\nabla_{\\mathbf{r}'} \\gamma(\\mathbf{r}, \\mathbf{r}')\n",
    "    \\right|_{\\mathbf{r} = \\mathbf{r}' = \\mathbf{r}_n}\\\\\n",
    "    &= \\frac{1}{2} \\left(\n",
    "      \\frac{\\partial^2}{\\partial x \\partial x'} \\gamma(\\mathbf{r}, \\mathbf{r}')\n",
    "      + \\frac{\\partial^2}{\\partial y \\partial y'} \\gamma(\\mathbf{r}, \\mathbf{r}')\n",
    "      + \\frac{\\partial^2}{\\partial z \\partial z'} \\gamma(\\mathbf{r}, \\mathbf{r}')\n",
    "    \\right)_{\\mathbf{r} = \\mathbf{r}' = \\mathbf{r}_n}\\\\\n",
    "  \\end{split}\n",
    "\\end{equation}\n",
    "$$"
   ]
  },
  {
   "cell_type": "code",
   "execution_count": 12,
   "id": "f49f0511",
   "metadata": {},
   "outputs": [
    {
     "name": "stdout",
     "output_type": "stream",
     "text": [
      "Positive-Definite Kinetic Energy Density Evaluated with Density Matrix Expressed w.r.t. Atomic Orbitals:\n",
      "[3.14929541]\n",
      "\n",
      "Positive-Definite Kinetic Energy Density Evaluated with Density Matrix Expressed w.r.t. Molecular Orbitals:\n",
      "[229.5114241]\n"
     ]
    }
   ],
   "source": [
    "from gbasis.evals.density import evaluate_posdef_kinetic_energy_density\n",
    "\n",
    "# evaluate positive-definite kinetic energy density at one point using density matrix \n",
    "# expressed w.r.t. atomic orbitals\n",
    "pos_def_T_atomic = evaluate_posdef_kinetic_energy_density(one_dm, basis, one_point)\n",
    "\n",
    "# evaluate positive-definite kinetic energy density at one point using density matrix \n",
    "# expressed w.r.t. molecular orbitals\n",
    "pos_def_T_molecular = evaluate_posdef_kinetic_energy_density(one_dm, basis, one_point, transform)\n",
    "\n",
    "print(\"Positive-Definite Kinetic Energy Density Evaluated with Density Matrix Expressed w.r.t. Atomic Orbitals:\")\n",
    "print(pos_def_T_atomic)\n",
    "print()\n",
    "print(\"Positive-Definite Kinetic Energy Density Evaluated with Density Matrix Expressed w.r.t. Molecular Orbitals:\")\n",
    "print(pos_def_T_molecular)"
   ]
  },
  {
   "cell_type": "markdown",
   "id": "c1caa1af",
   "metadata": {},
   "source": [
    "### 1.4.5 General Form of Kinetic Energy Density\n",
    "\n",
    "$$\n",
    "\\begin{equation}\n",
    "  t_{\\alpha} (\\mathbf{r}_n) = t_+(\\mathbf{r}_n) + \\alpha \\nabla^2 \\rho(\\mathbf{r}_n)\n",
    "\\end{equation}\n",
    "$$"
   ]
  },
  {
   "cell_type": "code",
   "execution_count": 13,
   "id": "531bbbef",
   "metadata": {},
   "outputs": [
    {
     "name": "stdout",
     "output_type": "stream",
     "text": [
      "General Form of Kinetic Energy Density (α = 1) Evaluated with Density Matrix Expressed w.r.t. Atomic Orbitals:\n",
      "[22.62795455]\n",
      "\n",
      "General Form of Kinetic Energy Density (α = 0.5) Evaluated with Density Matrix Expressed w.r.t. Atomic Orbitals:\n",
      "[12.88862498]\n",
      "\n",
      "General Form of Kinetic Energy Density (α = 1) Evaluated with Density Matrix Expressed w.r.t. Molecular Orbitals:\n",
      "[1655.59850929]\n"
     ]
    }
   ],
   "source": [
    "from gbasis.evals.density import evaluate_general_kinetic_energy_density\n",
    "\n",
    "# evaluate general form of kinetic energy density (α = 1) at one point using density matrix\n",
    "# expressed w.r.t. atomic orbitals\n",
    "general_T_1_atomic = evaluate_general_kinetic_energy_density(one_dm, basis, one_point, 1)\n",
    "\n",
    "# evaluate general form of kinetic energy density (α = 0.5) at one point using density matrix\n",
    "# expressed w.r.t. atomic orbitals\n",
    "general_T_point5_atomic = evaluate_general_kinetic_energy_density(one_dm, basis, one_point, 0.5)\n",
    "\n",
    "# evaluate general form of kinetic energy density (α = 1) at one point using density matrix\n",
    "# expressed w.r.t. molecular orbitals\n",
    "general_T_1_molecular = evaluate_general_kinetic_energy_density(one_dm, basis, one_point, 1, transform)\n",
    "\n",
    "print(\"General Form of Kinetic Energy Density (α = 1) Evaluated with Density Matrix Expressed w.r.t. Atomic Orbitals:\")\n",
    "print(general_T_1_atomic)\n",
    "print()\n",
    "print(\"General Form of Kinetic Energy Density (α = 0.5) Evaluated with Density Matrix Expressed w.r.t. Atomic Orbitals:\")\n",
    "print(general_T_point5_atomic)\n",
    "print()\n",
    "print(\"General Form of Kinetic Energy Density (α = 1) Evaluated with Density Matrix Expressed w.r.t. Molecular Orbitals:\")\n",
    "print(general_T_1_molecular)"
   ]
  }
 ],
 "metadata": {
  "kernelspec": {
   "display_name": "Python 3 (ipykernel)",
   "language": "python",
   "name": "python3"
  },
  "language_info": {
   "codemirror_mode": {
    "name": "ipython",
    "version": 3
   },
   "file_extension": ".py",
   "mimetype": "text/x-python",
   "name": "python",
   "nbconvert_exporter": "python",
   "pygments_lexer": "ipython3",
   "version": "3.8.13"
  }
 },
 "nbformat": 4,
 "nbformat_minor": 5
}

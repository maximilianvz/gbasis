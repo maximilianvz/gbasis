{
 "cells": [
  {
   "cell_type": "markdown",
   "id": "158f041c",
   "metadata": {},
   "source": [
    "# GBasis Tutorial - Basis Sets"
   ]
  },
  {
   "cell_type": "markdown",
   "id": "f2e7dbd1",
   "metadata": {},
   "source": [
    "# 1 Basis Sets"
   ]
  },
  {
   "cell_type": "markdown",
   "id": "87e31854",
   "metadata": {},
   "source": [
    "In [gbasis](http://gbasis.qcdevs.org/intro.html), a basis is defined as a list of [`GeneralizedContractionShell`](http://gbasis.qcdevs.org/_autosummary/gbasis.html#module-gbasis.contractions) objects, each one representing a linear combination of primitives and containing all the information defining this combination (i.e the angular momentum of the shell, the center of the shell, the exponents of the primitives, the contraction coefficients, and the normalization coefficients).\n",
    "\n",
    "This notebook showcases the different ways to define a basis set for a molecule and how to transform them."
   ]
  },
  {
   "cell_type": "markdown",
   "id": "d9083083",
   "metadata": {},
   "source": [
    "## 1.1 Loading Basis Sets"
   ]
  },
  {
   "cell_type": "markdown",
   "id": "88f14a1d",
   "metadata": {},
   "source": [
    "Basis set information is usually available in text format, such as from the [Basis Set Exchange](https://www.basissetexchange.org/). In [gbasis](http://gbasis.qcdevs.org/intro.html), two of the most popular formats are supported:\n",
    "  - Gaussian94 (.gbs)\n",
    "  - NWChem (.nw).\n",
    "\n",
    "The following example shows how to load a basis set from a Gaussian94  or a NWChem file.\n",
    "\n",
    "### 1.1.1 Gaussian94 format"
   ]
  },
  {
   "cell_type": "code",
   "execution_count": 37,
   "id": "6b3f324f",
   "metadata": {},
   "outputs": [
    {
     "name": "stdout",
     "output_type": "stream",
     "text": [
      "def2-SVP Basis Set Loaded from Gaussian94 Format:\n",
      "Atom: H\n",
      "   Number of shells: 3\n",
      "   Shell 0 has angular momentum 0\n",
      "   Shell 0 has exponents [13.010701    1.9622572   0.44453796]\n",
      "   Shell 0 has coefficients [0.01968216 0.13796524 0.47831935]\n",
      "   Shell 1 has angular momentum 0\n",
      "   Shell 1 has exponents [0.12194962]\n",
      "   Shell 1 has coefficients [1.]\n",
      "   Shell 2 has angular momentum 1\n",
      "   Shell 2 has exponents [0.8]\n",
      "   Shell 2 has coefficients [1.]\n"
     ]
    }
   ],
   "source": [
    "import numpy as np\n",
    "from gbasis.parsers import parse_gbs, parse_nwchem\n",
    "\n",
    "# load hydrogen atom def2-SVP basis set information with the Gaussian94 format\n",
    "gbs_basis_dict = parse_gbs(\"hydrogen_def2-svp.1.gbs\")\n",
    "\n",
    "# basis set information is stored as\n",
    "# {'Atom Symbol': [(Angular Momentum, [Exponents], [Coefficients]), ...]}\n",
    "print(\"def2-SVP Basis Set Loaded from Gaussian94 Format:\")\n",
    "for atom in gbs_basis_dict:\n",
    "    print(f\"Atom: {atom}\")\n",
    "    print(f\"   Number of shells: {len(gbs_basis_dict[atom])}\")\n",
    "    for shell_num, shell in enumerate(gbs_basis_dict[atom]):\n",
    "        print(f\"   Shell {shell_num} has angular momentum {shell[0]}\")\n",
    "        print(f\"   Shell {shell_num} has exponents {shell[1]}\")\n",
    "        print(f\"   Shell {shell_num} has coefficients {shell[2].flatten()}\")\n"
   ]
  },
  {
   "cell_type": "markdown",
   "id": "c7f38b33",
   "metadata": {},
   "source": [
    "### 1.1.2 NwChem format"
   ]
  },
  {
   "cell_type": "code",
   "execution_count": 38,
   "id": "1ae1e3db",
   "metadata": {},
   "outputs": [
    {
     "name": "stdout",
     "output_type": "stream",
     "text": [
      "Loading def2-SVP Basis Set from NWChem Format...\n",
      "Checking that the Gaussian94 and NWChem loaded basis sets are the same:\n",
      "Both loaded basis sets have the same:\n",
      "Atom: H is the same on both cases: True\n",
      "Number of shells is the same: True\n",
      "Shell 0 has the same angular momentum: True\n",
      "Shell 0 has the same exponents: True\n",
      "Shell 0 has the same coefficients: True\n",
      "Shell 1 has the same angular momentum: True\n",
      "Shell 1 has the same exponents: True\n",
      "Shell 1 has the same coefficients: True\n",
      "Shell 2 has the same angular momentum: True\n",
      "Shell 2 has the same exponents: True\n",
      "Shell 2 has the same coefficients: True\n"
     ]
    }
   ],
   "source": [
    "print(\"Loading def2-SVP Basis Set from NWChem Format...\")\n",
    "nw_basis_dict = parse_nwchem(\"hydrogen_def2-svp.1.nw\")\n",
    "\n",
    "print(\"Checking that the Gaussian94 and NWChem loaded basis sets are the same:\")\n",
    "print(\"Both loaded basis sets have the same:\")\n",
    "for atom in gbs_basis_dict:\n",
    "    print(f\"Atom: {atom} is the same on both cases: {atom in nw_basis_dict}\")\n",
    "    print(f\"Number of shells is the same: {len(gbs_basis_dict[atom]) == len(nw_basis_dict[atom])}\")\n",
    "    # check that the angular momentum, exponents, and coefficients are the same for each shell\n",
    "    contractions_pair = enumerate(zip(gbs_basis_dict[atom], nw_basis_dict[atom]))\n",
    "    for shell_num, (gb_shell, nw_shell) in contractions_pair:\n",
    "        print(\n",
    "            f\"Shell {shell_num} has the same angular momentum: {gb_shell[0] == nw_shell[0]}\"\n",
    "        )\n",
    "        print(\n",
    "            f\"Shell {shell_num} has the same exponents: {np.allclose(gb_shell[1], nw_shell[1])}\"\n",
    "        )\n",
    "        print(\n",
    "            f\"Shell {shell_num} has the same coefficients: {np.allclose(gb_shell[2], nw_shell[2])}\"\n",
    "        )"
   ]
  },
  {
   "cell_type": "markdown",
   "id": "38d817ca",
   "metadata": {},
   "source": [
    "## 1.2 Building Basis Sets\n",
    "\n",
    "Once the data for a basis set for a list of atoms is loaded, gbasis allows to build the contraction shells for a molecule. This is done by the `make_contraction_shells` function of the [`parsers`](http://gbasis.qcdevs.org/_autosummary/gbasis.html#module-gbasis.parsers) module. The following example shows how to use this function to build the contraction shells for $\\mathrm{H}_{2}$.\n"
   ]
  },
  {
   "cell_type": "code",
   "execution_count": 39,
   "id": "a6380cce",
   "metadata": {},
   "outputs": [
    {
     "name": "stdout",
     "output_type": "stream",
     "text": [
      "Number of contracted basis functions: 6\n",
      "Showing first three contraction shells:\n",
      "Contraction shell #0\n",
      "   Center: [0. 0. 0.]\n",
      "   Angular momentum: 0\n",
      "   Primitive coefficients [[0.01968216 0.13796524 0.47831935]]\n",
      "   Primitive exponents [13.010701    1.9622572   0.44453796]\n",
      "   Primitive normalization constant [[1.70131166]]\n",
      "Contraction shell #1\n",
      "   Center: [0. 0. 0.]\n",
      "   Angular momentum: 0\n",
      "   Primitive coefficients [[1.]]\n",
      "   Primitive exponents [0.12194962]\n",
      "   Primitive normalization constant [[1.]]\n",
      "Contraction shell #2\n",
      "   Center: [0. 0. 0.]\n",
      "   Angular momentum: 1\n",
      "   Primitive coefficients [[1.]]\n",
      "   Primitive exponents [0.8]\n",
      "   Primitive normalization constant [[1. 1. 1.]]\n"
     ]
    }
   ],
   "source": [
    "from gbasis.parsers import make_contractions\n",
    "\n",
    "# use H2 molecule as an example system\n",
    "atoms = [\"H\", \"H\"]\n",
    "atcoords = np.array([[0, 0, 0], [0, 0, 1]])\n",
    "\n",
    "# make contractions for the hydrogen def2-SVP basis set\n",
    "gbs_basis = make_contractions(gbs_basis_dict, atoms, atcoords)\n",
    "\n",
    "print(\"Number of contracted basis functions:\", len(gbs_basis))  # 3 for each H atom\n",
    "print(\"Showing first three contraction shells:\")\n",
    "for i, basis in enumerate(gbs_basis[:3]):\n",
    "    print(f\"Contraction shell #{i}\")\n",
    "    print(f\"   Center: {basis.coord}\")\n",
    "    print(f\"   Angular momentum: {basis.angmom}\")\n",
    "    print(f\"   Primitive coefficients {basis.coeffs.T}\")\n",
    "    print(f\"   Primitive exponents {basis.exps}\")\n",
    "    print(f\"   Primitive normalization constant {basis.norm_cont}\")"
   ]
  },
  {
   "cell_type": "markdown",
   "id": "692510fa",
   "metadata": {},
   "source": [
    "## 1.3 Interfacing with other packages"
   ]
  },
  {
   "cell_type": "markdown",
   "id": "f0e7c789",
   "metadata": {},
   "source": [
    "[gbasis](http://gbasis.qcdevs.org/intro.html) has been designed to be easily interfaced the [iodata](https://iodata.readthedocs.io/en/latest/) package which handles the inputs and outputs for different quantum chemistry formats, such as Gaussian formatted checkpoint files (.fchk) and AIM wavefunction files (.wfn and .wfx). Additionally, [gbasis](http://gbasis.qcdevs.org/intro.html) can be directly interfaced with [pySCF](https://pyscf.org/), a popular Python package for quantum chemistry calculations.\n",
    "\n",
    "### 1.3.1 [iodata](https://iodata.readthedocs.io/en/latest/) package\n",
    "This is the preferred way to load basis information from computational chemistry calculations in [gbasis](http://gbasis.qcdevs.org/intro.html). The following example shows how to load a basis set from a Gaussian formatted checkpoint using the [`iodata`](https://iodata.readthedocs.io/en/latest/) package. The same approach can be used for loading the basis information of other formats supported by [`iodata`](https://iodata.readthedocs.io/en/latest/)."
   ]
  },
  {
   "cell_type": "code",
   "execution_count": 40,
   "id": "28dfd239",
   "metadata": {},
   "outputs": [
    {
     "name": "stdout",
     "output_type": "stream",
     "text": [
      "Basis loaded from IOData:\n",
      "Number of contracted basis functions: 24\n",
      "Showing first three contraction shells:\n",
      "Contraction shell #0\n",
      "   Center: [0. 0. 0.]\n",
      "   Angular momentum: 0\n",
      "   Primitive coefficients [[0.01968216 0.13796524 0.47831935]]\n",
      "   Primitive exponents [13.010701    1.9622572   0.44453796]\n",
      "   Primitive normalization constant [[1.70131166]]\n",
      "Contraction shell #1\n",
      "   Center: [0. 0. 0.]\n",
      "   Angular momentum: 0\n",
      "   Primitive coefficients [[1.]]\n",
      "   Primitive exponents [0.12194962]\n",
      "   Primitive normalization constant [[1.]]\n",
      "Contraction shell #2\n",
      "   Center: [0. 0. 0.]\n",
      "   Angular momentum: 1\n",
      "   Primitive coefficients [[1.]]\n",
      "   Primitive exponents [0.8]\n",
      "   Primitive normalization constant [[1. 1. 1.]]\n"
     ]
    }
   ],
   "source": [
    "from iodata import load_one\n",
    "from gbasis.wrappers import from_iodata\n",
    "\n",
    "# load a basis from an fchk file (water at uwB97XD/def2-TZVPD LOT) using IOData\n",
    "iodata_mol = load_one(\"water.fchk\")\n",
    "basis, coord_types = from_iodata(iodata_mol)\n",
    "\n",
    "\n",
    "# print the basis set information\n",
    "print(\"Basis loaded from IOData:\")\n",
    "print(\"Number of contracted basis functions:\", len(basis))\n",
    "print(\"Showing first three contraction shells:\")\n",
    "for i, basis in enumerate(gbs_basis[:3]):\n",
    "    print(f\"Contraction shell #{i}\")\n",
    "    print(f\"   Center: {basis.coord}\")\n",
    "    print(f\"   Angular momentum: {basis.angmom}\")\n",
    "    print(f\"   Primitive coefficients {basis.coeffs.T}\")\n",
    "    print(f\"   Primitive exponents {basis.exps}\")\n",
    "    print(f\"   Primitive normalization constant {basis.norm_cont}\")"
   ]
  },
  {
   "cell_type": "markdown",
   "id": "dc5e1847",
   "metadata": {},
   "source": [
    "### 1.3.2 [pySCF](https://pyscf.org/) package\n",
    "Additionally [gbasis](http://gbasis.qcdevs.org/intro.html) has a direct interface with [pySCF](https://pyscf.org/) objects. To showcase this feature a  [pySCF](https://pyscf.org/) molecule object is created and its basis are loaded using [gbasis](http://gbasis.qcdevs.org/intro.html)."
   ]
  },
  {
   "cell_type": "code",
   "execution_count": 41,
   "id": "d5a9da5f",
   "metadata": {},
   "outputs": [
    {
     "name": "stdout",
     "output_type": "stream",
     "text": [
      "Constricting pySCF molecule:\n",
      "Atomic coordinates:\n",
      "O 0 0 0;\n",
      "H 0 1 0;\n",
      "H 0 0 1\n",
      "Basis set used: sto-3g\n",
      "Importing basis set from PySCF to gbasis:\n",
      "Number of contracted basis functions: 5\n",
      "Showing first three contraction shells:\n",
      "Contraction shell #0\n",
      "   Center: [0. 0. 0.]\n",
      "   Angular momentum: 0\n",
      "   Primitive coefficients [[0.15432897 0.53532814 0.44463454]]\n",
      "   Primitive exponents [130.70932    23.808861    6.4436083]\n",
      "   Primitive normalization constant [[0.99999999]]\n",
      "Contraction shell #1\n",
      "   Center: [0. 0. 0.]\n",
      "   Angular momentum: 0\n",
      "   Primitive coefficients [[-0.09996723  0.39951283  0.70011547]]\n",
      "   Primitive exponents [5.0331513 1.1695961 0.380389 ]\n",
      "   Primitive normalization constant [[0.99999999]]\n",
      "Contraction shell #2\n",
      "   Center: [0. 0. 0.]\n",
      "   Angular momentum: 1\n",
      "   Primitive coefficients [[0.15591627 0.60768372 0.39195739]]\n",
      "   Primitive exponents [5.0331513 1.1695961 0.380389 ]\n",
      "   Primitive normalization constant [[0.99999999 0.99999999 0.99999999]]\n"
     ]
    }
   ],
   "source": [
    "from pyscf import gto\n",
    "from gbasis.wrappers import from_pyscf\n",
    "\n",
    "molecule = '''O 0 0 0;\n",
    "H 0 1 0;\n",
    "H 0 0 1'''\n",
    "\n",
    "basis_name = \"sto-3g\"\n",
    "\n",
    "print(\"Constructing pySCF molecule:\")\n",
    "print(\"Atomic coordinates:\")\n",
    "print(molecule)\n",
    "print(f\"Basis set used: {basis_name}\")\n",
    "\n",
    "# build an STO-3G basis for water using PySCF\n",
    "pyscf_mol = gto.Mole()\n",
    "pyscf_mol.build(\n",
    "    atom = molecule,\n",
    "    basis = basis_name,\n",
    ")\n",
    "\n",
    "print(\"Importing basis set from PySCF to gbasis:\")\n",
    "pyscf_basis = from_pyscf(pyscf_mol)\n",
    "\n",
    "print(\"Number of contracted basis functions:\", len(pyscf_basis))\n",
    "print(\"Showing first three contraction shells:\")\n",
    "for i, basis in enumerate(pyscf_basis[:3]):\n",
    "    print(f\"Contraction shell #{i}\")\n",
    "    print(f\"   Center: {basis.coord}\")\n",
    "    print(f\"   Angular momentum: {basis.angmom}\")\n",
    "    print(f\"   Primitive coefficients {basis.coeffs.T}\")\n",
    "    print(f\"   Primitive exponents {basis.exps}\")\n",
    "    print(f\"   Primitive normalization constant {basis.norm_cont}\")"
   ]
  },
  {
   "cell_type": "markdown",
   "id": "28243d65",
   "metadata": {},
   "source": [
    "## 1.3 Types of Coordinate Systems Used by Basis Functions"
   ]
  },
  {
   "cell_type": "markdown",
   "id": "8e898396",
   "metadata": {},
   "source": [
    "In `gbasis`, the user can provide the coordinate system used by each shell of generalized contractions that gets stored in the basis list. The `make_contractions` function is useful for instantiating a basis for a system of atoms based on the `basis_dict` output of the parsers from `gbasis.parsers`. For a given call of `make_contractions`, one can pass either a string (\"cartesian\" or \"spherical\") or a list of strings to specify `coord_types`. If a string is passed, all contractions for all atoms are treated as having the same `coord_type`. \n",
    "If different shells correspond to different coordinate systems, then a list of the same length as the basis must be provided with each entry being \"spherical\" or \"cartesian\" to specify the coordinate system\n",
    "of the corresponding shell. For example, if atom 1 contributes 8 contractions and atom 2 contributes 8 contractions, the `coord_types` list should be of length 16, where the first 8 elements correspond to contractions for atom 1 and the last 8 elements correspond to contractions for atom 2. These possibilities are illustrated in the code cell below using the Kr<sub>2</sub> molecule as an example:"
   ]
  },
  {
   "cell_type": "code",
   "execution_count": 42,
   "id": "af37ce41",
   "metadata": {},
   "outputs": [
    {
     "ename": "TypeError",
     "evalue": "make_contractions() got an unexpected keyword argument 'coord_types'",
     "output_type": "error",
     "traceback": [
      "\u001b[0;31m---------------------------------------------------------------------------\u001b[0m",
      "\u001b[0;31mTypeError\u001b[0m                                 Traceback (most recent call last)",
      "\u001b[0;32m/tmp/ipykernel_6431/2590920597.py\u001b[0m in \u001b[0;36m<module>\u001b[0;34m\u001b[0m\n\u001b[1;32m      6\u001b[0m                                     \u001b[0;34m[\u001b[0m\u001b[0;34m\"Kr\"\u001b[0m\u001b[0;34m,\u001b[0m \u001b[0;34m\"Kr\"\u001b[0m\u001b[0;34m]\u001b[0m\u001b[0;34m,\u001b[0m\u001b[0;34m\u001b[0m\u001b[0;34m\u001b[0m\u001b[0m\n\u001b[1;32m      7\u001b[0m                                     \u001b[0mnp\u001b[0m\u001b[0;34m.\u001b[0m\u001b[0marray\u001b[0m\u001b[0;34m(\u001b[0m\u001b[0;34m[\u001b[0m\u001b[0;34m[\u001b[0m\u001b[0;36m0\u001b[0m\u001b[0;34m,\u001b[0m \u001b[0;36m0\u001b[0m\u001b[0;34m,\u001b[0m \u001b[0;36m0\u001b[0m\u001b[0;34m]\u001b[0m\u001b[0;34m,\u001b[0m \u001b[0;34m[\u001b[0m\u001b[0;36m1\u001b[0m\u001b[0;34m,\u001b[0m \u001b[0;36m0\u001b[0m\u001b[0;34m,\u001b[0m \u001b[0;36m0\u001b[0m\u001b[0;34m]\u001b[0m\u001b[0;34m]\u001b[0m\u001b[0;34m)\u001b[0m\u001b[0;34m,\u001b[0m\u001b[0;34m\u001b[0m\u001b[0;34m\u001b[0m\u001b[0m\n\u001b[0;32m----> 8\u001b[0;31m                                     coord_types=\"cartesian\")\n\u001b[0m\u001b[1;32m      9\u001b[0m \u001b[0mprint\u001b[0m\u001b[0;34m(\u001b[0m\u001b[0;34m[\u001b[0m\u001b[0mshell\u001b[0m\u001b[0;34m.\u001b[0m\u001b[0mcoord_type\u001b[0m \u001b[0;32mfor\u001b[0m \u001b[0mshell\u001b[0m \u001b[0;32min\u001b[0m \u001b[0mcartesian_basis\u001b[0m\u001b[0;34m]\u001b[0m\u001b[0;34m)\u001b[0m\u001b[0;34m\u001b[0m\u001b[0;34m\u001b[0m\u001b[0m\n\u001b[1;32m     10\u001b[0m \u001b[0mprint\u001b[0m\u001b[0;34m(\u001b[0m\u001b[0;34m)\u001b[0m\u001b[0;34m\u001b[0m\u001b[0;34m\u001b[0m\u001b[0m\n",
      "\u001b[0;31mTypeError\u001b[0m: make_contractions() got an unexpected keyword argument 'coord_types'"
     ]
    }
   ],
   "source": [
    "# load STO-6G basis set information\n",
    "basis_dict = parse_nwchem(\"data_sto6g.nwchem\")\n",
    "\n",
    "# create basis for Kr2 using cartesian coordinates for all generalized contractions\n",
    "cartesian_basis = make_contractions(basis_dict, \n",
    "                                    [\"Kr\", \"Kr\"], \n",
    "                                    np.array([[0, 0, 0], [1, 0, 0]]),\n",
    "                                    coord_types=\"cartesian\")\n",
    "print([shell.coord_type for shell in cartesian_basis])\n",
    "print()\n",
    "\n",
    "# create basis for Kr2 using spherical coordinates for all generalized contractions\n",
    "spherical_basis = make_contractions(basis_dict, \n",
    "                                    [\"Kr\", \"Kr\"], \n",
    "                                    np.array([[0, 0, 0], [1, 0, 0]]),\n",
    "                                    coord_types=\"spherical\")\n",
    "print([shell.coord_type for shell in spherical_basis])\n",
    "print()\n",
    "\n",
    "# create basis for Kr2 using spherical coordinates for all generalized contractions\n",
    "# except the last one, which is specified to be cartesian\n",
    "mixed_basis = make_contractions(basis_dict, \n",
    "                                [\"Kr\", \"Kr\"], \n",
    "                                np.array([[0, 0, 0], [1, 0, 0]]),\n",
    "                                coord_types=[\"spherical\"] * 15 + [\"cartesian\"])\n",
    "print([shell.coord_type for shell in mixed_basis])"
   ]
  },
  {
   "cell_type": "markdown",
   "id": "72420dd3",
   "metadata": {},
   "source": [
    "## 1.4 Linear Transformations of Basis Functions"
   ]
  },
  {
   "cell_type": "markdown",
   "id": "a7342d7d",
   "metadata": {},
   "source": [
    "In `gbasis`, the user can linearly transform the basis functions before computing the desired properties.\n",
    "All of the higher level functions have the keyword argument `transform` to specify the matrix that\n",
    "transforms the basis set. The transformation is applied to the left, i.e.,\n",
    "\n",
    "$$\\begin{equation}\n",
    " \\psi_i = \\sum_j T_{ij} \\phi_j\n",
    "\\end{equation}$$\n",
    "\n",
    "where {$\\phi_{j}$} is the basis set before transformation and {$\\psi_{i}$} is the basis function after transformation.\n",
    "The number of basis functions depends on the coordinate systems specified for each shell. \n",
    "\n",
    "Examples involving such transformations are provided in the tutorial notebooks on evaluations and integrals wherever molecular rather than atomic orbitals are involved in calculations."
   ]
  }
 ],
 "metadata": {
  "kernelspec": {
   "display_name": "Python 3 (ipykernel)",
   "language": "python",
   "name": "python3"
  },
  "language_info": {
   "codemirror_mode": {
    "name": "ipython",
    "version": 3
   },
   "file_extension": ".py",
   "mimetype": "text/x-python",
   "name": "python",
   "nbconvert_exporter": "python",
   "pygments_lexer": "ipython3",
   "version": "3.7.12"
  }
 },
 "nbformat": 4,
 "nbformat_minor": 5
}
